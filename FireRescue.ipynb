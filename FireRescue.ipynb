{
 "cells": [
  {
   "cell_type": "markdown",
   "metadata": {},
   "source": [
    "# Flash Point: Fire Rescue"
   ]
  },
  {
   "cell_type": "markdown",
   "metadata": {},
   "source": [
    "## Instalación e importación de librerías"
   ]
  },
  {
   "cell_type": "code",
   "execution_count": 1,
   "metadata": {},
   "outputs": [
    {
     "name": "stdout",
     "output_type": "stream",
     "text": [
      "Note: you may need to restart the kernel to use updated packages.\n"
     ]
    }
   ],
   "source": [
    "# Descargar e instalar mesa, seaborn y plotly\n",
    "\n",
    "%pip install mesa==2.3.1 seaborn plotly --quiet"
   ]
  },
  {
   "cell_type": "code",
   "execution_count": 2,
   "metadata": {},
   "outputs": [],
   "source": [
    "# Importamos las clases que se requieren para manejar los agentes (Agent) y su entorno (Model).\n",
    "# Cada modelo puede contener múltiples agentes.\n",
    "from mesa import Agent, Model\n",
    "\n",
    "# Debido a que necesitamos que existan múltiples agentes, importamos la clase 'MultiGrid'.\n",
    "from mesa.space import MultiGrid\n",
    "\n",
    "# Con 'SimultaneousActivation' podemos activar todos los agentes al mismo tiempo.\n",
    "from mesa.time import SimultaneousActivation\n",
    "\n",
    "# Con 'RandomActivation' podemos activar los agentes en un orden aleatorio.\n",
    "from mesa.time import RandomActivation\n",
    "\n",
    "# Haremos uso de ''DataCollector'' para obtener información de cada paso de la simulación.\n",
    "from mesa.datacollection import DataCollector\n",
    "\n",
    "# BATCH_RUNNER\n",
    "from mesa.batchrunner import batch_run\n",
    "\n",
    "# matplotlib lo usaremos crear una animación de cada uno de los pasos del modelo.\n",
    "%matplotlib inline\n",
    "import matplotlib\n",
    "import matplotlib.pyplot as plt\n",
    "import matplotlib.animation as animation\n",
    "plt.rcParams[\"animation.html\"] = \"jshtml\"\n",
    "matplotlib.rcParams['animation.embed_limit'] = 2**128\n",
    "\n",
    "# Importamos los siguientes paquetes para el mejor manejo de valores numéricos.\n",
    "import numpy as np\n",
    "import pandas as pd\n",
    "\n",
    "# Definimos otros paquetes que vamos a usar para medir el tiempo de ejecución de nuestro algoritmo.\n",
    "import time\n",
    "import datetime\n",
    "\n",
    "# Importamos el paquete seaborn para mejorar la visualización de los datos.\n",
    "import seaborn as sns\n",
    "\n",
    "# Importamos el paquete plotly para crear gráficos interactivos.\n",
    "import plotly.graph_objects as go\n",
    "\n",
    "# Importamos el paquete networkx para crear grafos.\n",
    "import networkx as nx"
   ]
  },
  {
   "cell_type": "markdown",
   "metadata": {},
   "source": [
    "## Leer archivo de configuración inicial"
   ]
  },
  {
   "cell_type": "code",
   "execution_count": 3,
   "metadata": {},
   "outputs": [
    {
     "data": {
      "text/plain": [
       "{'board': [['1100', '1000', '1001', '1100', '1001', '1100', '1000', '1001'],\n",
       "  ['0100', '0000', '0011', '0100', '0011', '0110', '0010', '0011'],\n",
       "  ['0100', '0001', '1100', '1000', '1000', '1001', '1100', '1001'],\n",
       "  ['0100', '0011', '0110', '0010', '0010', '0011', '0110', '0011'],\n",
       "  ['1100', '1000', '1000', '1000', '1001', '1100', '1001', '1101'],\n",
       "  ['0110', '0010', '0010', '0010', '0011', '0110', '0011', '0111']],\n",
       " 'points_of_interest': [['2', '4', 'v'], ['5', '1', 'f'], ['5', '8', 'v']],\n",
       " 'fire_indicators': [['2', '2'],\n",
       "  ['2', '3'],\n",
       "  ['3', '2'],\n",
       "  ['3', '3'],\n",
       "  ['3', '4'],\n",
       "  ['3', '5'],\n",
       "  ['4', '4'],\n",
       "  ['5', '6'],\n",
       "  ['5', '7'],\n",
       "  ['6', '6']],\n",
       " 'doors': [['1', '3', '1', '4'],\n",
       "  ['2', '5', '2', '6'],\n",
       "  ['2', '8', '3', '8'],\n",
       "  ['3', '2', '3', '3'],\n",
       "  ['4', '4', '5', '4'],\n",
       "  ['4', '6', '4', '7'],\n",
       "  ['6', '5', '6', '6'],\n",
       "  ['6', '7', '6', '8']],\n",
       " 'entry_points': [['1', '6'], ['3', '1'], ['4', '8'], ['6', '3']]}"
      ]
     },
     "execution_count": 3,
     "metadata": {},
     "output_type": "execute_result"
    }
   ],
   "source": [
    "# Abrir el archivo de configuración\n",
    "file = open(\"board-config.txt\", \"r\")\n",
    "\n",
    "# Obtener la información del tablero\n",
    "config = file.readlines()\n",
    "\n",
    "# Cerrar el archivo\n",
    "file.close()\n",
    "\n",
    "# Crear un diccionario para almacenar la configuración del tablero\n",
    "board_config = {}\n",
    "\n",
    "# Configuración del tablero\n",
    "board_config['board'] = [x.replace(\"\\n\", \"\").split() for x in config[:6]]\n",
    "\n",
    "# Puntos de interés\n",
    "board_config['points_of_interest'] = [x.replace(\"\\n\", \"\").split() for x in config[6:9]]\n",
    "\n",
    "# Indicadores de fuego\n",
    "board_config['fire_indicators'] = [x.replace(\"\\n\", \"\").split() for x in config[9:19]]\n",
    "\n",
    "# Puertas\n",
    "board_config['doors'] = [x.replace(\"\\n\", \"\").split() for x in config[19:27]]\n",
    "\n",
    "# Puntos de entrada\n",
    "board_config['entry_points'] = [x.replace(\"\\n\", \"\").split() for x in config[27:31]]\n",
    "\n",
    "# Imprimir la configuración del tablero\n",
    "board_config"
   ]
  },
  {
   "cell_type": "markdown",
   "metadata": {},
   "source": [
    "## Solución aleatoria"
   ]
  },
  {
   "cell_type": "code",
   "execution_count": 4,
   "metadata": {},
   "outputs": [],
   "source": [
    "def add_fire(G, x, y):\n",
    "    \"\"\"\n",
    "    Agregar fuego a una celda\n",
    "    \"\"\"\n",
    "\n",
    "    # Verificar si la celda existe\n",
    "    if (x, y) not in G.nodes:\n",
    "        return \n",
    "    \n",
    "    # Colocar fuego\n",
    "    G.nodes[(x, y)]['fire'] = 2\n",
    "\n",
    "    # Cambia el peso de las aristas adyacentes a la celda a 3\n",
    "    # Significa que al agente le costará el doble de tiempo pasar por esa arista\n",
    "    # Moverse en una celda con fuego cuesta 2 puntos de acción\n",
    "    for neighbor in G.adj[(x, y)]:\n",
    "        if G.get_edge_data((x, y), neighbor)['type'] == 'path':\n",
    "            G[(x, y)][neighbor]['weight'] = 3\n",
    "\n",
    "\n",
    "def initialize_board(board_config):\n",
    "    \"\"\"\n",
    "    De acuerdo a la configuración del tablero, se inicializa el tablero como un grafo\n",
    "    \"\"\"\n",
    "\n",
    "    # Crear un grafo vacío\n",
    "    G = nx.Graph()\n",
    "\n",
    "    # Información del tablero (transiciones y muros)\n",
    "    # \"TLDR\" -> Top, Left, Down, Right\n",
    "    board_info = board_config['board']\n",
    "\n",
    "    # Puertas\n",
    "    doors = {}\n",
    "    for door in board_config['doors']:\n",
    "        # Se resta 1 a las coordenadas para que coincidan con las coordenadas del tablero\n",
    "        doors[(int(door[0]) - 1, int(door[1]) - 1)] = (int(door[2]) - 1, int(door[3]) - 1)\n",
    "\n",
    "    # Agregar los nodos al grafo\n",
    "    for i in range(len(board_info)):\n",
    "        for j in range(len(board_info[i])):\n",
    "            G.add_node((i, j), fire=0, POI=None, isEntryPoint=False)\n",
    "\n",
    "    # Agregar las aristas al grafo\n",
    "    for i in range(len(board_info)):\n",
    "        for j in range(len(board_info[i])):\n",
    "\n",
    "            # String con la información de la celda\n",
    "            # \"TLDR\" -> Top, Left, Down, Right\n",
    "            # Peso 1 -> Libre / Puerta abierta o destruida\n",
    "            # Peso 2 -> Puerta cerrada\n",
    "            # Peso 5 -> Pared\n",
    "            \n",
    "            # Verificar si hay una transición arriba\n",
    "            if board_info[i][j][0] == '0':\n",
    "                G.add_edge((i, j), (i - 1, j), weight = 1, type='path')\n",
    "            else:\n",
    "                # Verificar si hay una puerta\n",
    "                if (i, j) in doors and doors[(i, j)] == (i - 1, j):\n",
    "                    # Agregar puerta\n",
    "                    G.add_edge((i, j), (i - 1, j), weight = 2, type='door')\n",
    "                # Si no hay puerta, agregar pared\n",
    "                elif i != 0 and not G.has_edge((i, j), (i - 1, j)):\n",
    "                    G.add_edge((i, j), (i - 1, j), weight = 5, type='wall', life=2)\n",
    "\n",
    "\n",
    "            # Verificar si hay una transición a la izquierda\n",
    "            if board_info[i][j][1] == '0':\n",
    "                G.add_edge((i, j), (i, j - 1), weight = 1, type='path')\n",
    "            else:\n",
    "                # Verificar si hay una puerta\n",
    "                if (i, j) in doors and doors[(i, j)] == (i, j - 1):\n",
    "                    # Agregar puerta\n",
    "                    G.add_edge((i, j), (i, j - 1), weight = 2, type='door')\n",
    "                # Si no hay puerta, agregar pared\n",
    "                elif j != 0 and not G.has_edge((i, j), (i, j - 1)):\n",
    "                    G.add_edge((i, j), (i, j - 1), weight = 5, type='wall', life=2)\n",
    "\n",
    "            # Verificar si hay una transición abajo\n",
    "            if board_info[i][j][2] == '0':\n",
    "                G.add_edge((i, j), (i + 1, j), weight = 1, type='path')\n",
    "            else:\n",
    "                # Verificar si hay una puerta\n",
    "                if (i, j) in doors and doors[(i, j)] == (i + 1, j):\n",
    "                    # Agregar puerta\n",
    "                    G.add_edge((i, j), (i + 1, j), weight = 2, type='door')\n",
    "                # Si no hay puerta, agregar pared\n",
    "                elif i != len(board_info) - 1 and not G.has_edge((i, j), (i + 1, j)):\n",
    "                    G.add_edge((i, j), (i + 1, j), weight = 5, type='wall', life=2)\n",
    "\n",
    "            # Verificar si hay una transición a la derecha\n",
    "            if board_info[i][j][3] == '0':\n",
    "                G.add_edge((i, j), (i, j + 1), weight = 1, type='path')\n",
    "            else:\n",
    "                # Verificar si hay una puerta\n",
    "                if (i, j) in doors and doors[(i, j)] == (i, j + 1):\n",
    "                    # Agregar puerta\n",
    "                    G.add_edge((i, j), (i, j + 1), weight = 2, type='door')\n",
    "                # Si no hay puerta, agregar pared\n",
    "                elif j != len(board_info[i]) - 1 and not G.has_edge((i, j), (i, j + 1)):\n",
    "                    G.add_edge((i, j), (i, j + 1), weight = 5, type='wall', life=2)\n",
    "\n",
    "    # Agregar los puntos de interés\n",
    "    # None -> No es un punto de interés\n",
    "    # True -> Hay una víctima\n",
    "    # False -> Es una falsa alarma\n",
    "    for poi in board_config['points_of_interest']:\n",
    "        G.nodes[(int(poi[0]) - 1, int(poi[1]) - 1)]['POI'] = True if poi[2] == 'v' else False\n",
    "\n",
    "    # Agregar los indicadores de fuego\n",
    "    # 0 -> No hay fuego\n",
    "    # 1 -> Hay humo\n",
    "    # 2 -> Hay fuego\n",
    "    for fire in board_config['fire_indicators']:\n",
    "        add_fire(G, int(fire[0]) - 1, int(fire[1]) - 1)\n",
    "\n",
    "    # Agregar los puntos de entrada\n",
    "    for entry_point in board_config['entry_points']:\n",
    "        G.nodes[(int(entry_point[0]) - 1, int(entry_point[1]) - 1)]['isEntryPoint'] = True\n",
    "\n",
    "\n",
    "    # Retornar el grafo\n",
    "    return G\n",
    "\n",
    "def plot_graph(G):\n",
    "    \"\"\"\n",
    "    Graficar el grafo con Plotly\n",
    "    \"\"\"\n",
    "\n",
    "    # Definir las posiciones de los nodos como una cuadrícula\n",
    "    pos = {node: (node[1], -node[0]) for node in G.nodes()}  # El eje y se invierte para que la visualización sea de arriba a abajo\n",
    "\n",
    "    # Crear trazas para las aristas con colores según su tipo y mostrar peso y tipo\n",
    "    edge_x = []\n",
    "    edge_y = []\n",
    "    edge_colors = []\n",
    "    edge_annotations = []\n",
    "\n",
    "    # Definir los colores para cada tipo de arista\n",
    "    edge_type_colors = {\n",
    "        'wall': 'red',\n",
    "        'path': 'green',\n",
    "        'door': 'blue',\n",
    "        'unknown': 'gray'  # Color por defecto para tipos no definidos\n",
    "    }\n",
    "\n",
    "    for edge in G.edges(data=True):\n",
    "        x0, y0 = pos[edge[0]]\n",
    "        x1, y1 = pos[edge[1]]\n",
    "        edge_x.append(x0)\n",
    "        edge_x.append(x1)\n",
    "        edge_x.append(None)  # Para separar las líneas de las aristas\n",
    "        edge_y.append(y0)\n",
    "        edge_y.append(y1)\n",
    "        edge_y.append(None)\n",
    "\n",
    "        # Asignar color según el tipo de la arista\n",
    "        edge_type = edge[2].get('type', 'unknown')  # 'unknown' si no tiene tipo\n",
    "        edge_colors.append(edge_type_colors.get(edge_type, 'gray'))  # Usar color definido o 'gray'\n",
    "\n",
    "        # Guardar anotaciones para peso y tipo\n",
    "        weight = edge[2].get('weight', '?')\n",
    "        edge_annotations.append(\n",
    "            dict(\n",
    "                x=(x0 + x1) / 2,\n",
    "                y=(y0 + y1) / 2,\n",
    "                text=f'{weight}<br>{edge_type}',  # Mostrar peso y tipo\n",
    "                showarrow=False,\n",
    "                font=dict(size=10, color='black')\n",
    "            )\n",
    "        )\n",
    "\n",
    "    # Crear trazas para las aristas coloreadas\n",
    "    edge_traces = []\n",
    "    for idx in range(len(edge_colors)):\n",
    "        edge_traces.append(\n",
    "            go.Scatter(\n",
    "                x=[edge_x[idx * 3], edge_x[idx * 3 + 1], None],\n",
    "                y=[edge_y[idx * 3], edge_y[idx * 3 + 1], None],\n",
    "                line=dict(width=2, color=edge_colors[idx]),\n",
    "                hoverinfo='none',\n",
    "                mode='lines'\n",
    "            )\n",
    "        )\n",
    "\n",
    "    # Crear trazas para los nodos y asignar colores según las condiciones\n",
    "    node_x = []\n",
    "    node_y = []\n",
    "    node_colors = []\n",
    "    node_text = []\n",
    "\n",
    "    for node in G.nodes():\n",
    "        x, y = pos[node]\n",
    "        node_x.append(x)\n",
    "        node_y.append(y)\n",
    "\n",
    "        # Determinar el color según las condiciones\n",
    "        if G.nodes[node].get(\"fire\") == 1:  # Humo\n",
    "            node_colors.append('orange')\n",
    "        elif G.nodes[node].get(\"fire\") == 2:  # Fuego\n",
    "            node_colors.append('red')\n",
    "        elif G.nodes[node].get(\"POI\") is not None:  # POI\n",
    "            node_colors.append('blue')\n",
    "        elif G.nodes[node].get(\"isEntryPoint\"):  # Punto de entrada\n",
    "            node_colors.append('green')\n",
    "        else:\n",
    "            node_colors.append('black')  # Color por defecto\n",
    "\n",
    "        # Crear texto para hover\n",
    "        adyacentes = []\n",
    "        for neighbor in G.adj[node]:\n",
    "            edge_data = G.get_edge_data(node, neighbor)\n",
    "            edge_type = edge_data.get('type', 'unknown')\n",
    "            adyacentes.append(f'{neighbor}: {edge_type}')\n",
    "\n",
    "        node_text.append(\n",
    "            f'Posición: {node}<br>'\n",
    "            f'Adyacentes: {\", \".join(adyacentes)}<br>'\n",
    "            f'Fuego: {G.nodes[node].get(\"fire\")}<br>'\n",
    "            f'POI: {G.nodes[node].get(\"POI\")}<br>'\n",
    "            f'Es punto de entrada: {G.nodes[node].get(\"isEntryPoint\", False)}'   \n",
    "        )\n",
    "\n",
    "    node_trace = go.Scatter(\n",
    "        x=node_x, y=node_y,\n",
    "        mode='markers',\n",
    "        hoverinfo='text',\n",
    "        marker=dict(\n",
    "            size=10,\n",
    "            color=node_colors,  # Colores asignados según las condiciones\n",
    "        ),\n",
    "        text=node_text\n",
    "    )\n",
    "\n",
    "    # Crear la figura\n",
    "    fig = go.Figure(\n",
    "        data=edge_traces + [node_trace],  # Agregar trazas de aristas coloreadas y nodos\n",
    "        layout=go.Layout(\n",
    "            title='Flash Point: Fire Rescue',\n",
    "            titlefont_size=16,\n",
    "            showlegend=False,\n",
    "            hovermode='closest',\n",
    "            margin=dict(b=20, l=5, r=5, t=40),\n",
    "            annotations=edge_annotations,  # Agregar anotaciones para pesos y tipos\n",
    "            xaxis=dict(showgrid=False, zeroline=False),\n",
    "            yaxis=dict(showgrid=False, zeroline=False)\n",
    "        )\n",
    "    )\n",
    "\n",
    "    fig.show()\n",
    "\n",
    "def place_smoke(G, x, y):\n",
    "    \"\"\"\n",
    "    Colocar humo en una celda y resuelve la propagación del fuego (igniciones y explosiones)\n",
    "    \"\"\"\n",
    "\n",
    "    # Verificar si la celda existe\n",
    "    if (x, y) not in G.nodes:\n",
    "        return \n",
    "    \n",
    "    # Verificar si no hay fuego\n",
    "    if G.nodes[(x, y)]['fire'] == 0:\n",
    "        G.nodes[(x, y)]['fire'] = 1\n",
    "\n",
    "    # Verificar si hay humo (Ignición)\n",
    "    # Todo el humo en contacto con fuego se convierte en fuego\n",
    "    elif G.nodes[(x, y)]['fire'] == 1:\n",
    "\n",
    "        # Convertir el humo en fuego\n",
    "        add_fire(G, x, y)\n",
    "\n",
    "        # Obtener los vecinos de la celda\n",
    "        neighbors = G.adj[(x, y)]\n",
    "\n",
    "        # Verificar si hay humo en los vecinos\n",
    "        for neighbor in neighbors:\n",
    "\n",
    "            # ¿Hay humo y no hay una pared entre las celdas?\n",
    "            if G.nodes[neighbor]['fire'] == 1 and G.get_edge_data((x, y), neighbor)['type'] != 'wall':\n",
    "\n",
    "                # Convertir el humo en fuego recursivamente\n",
    "                place_smoke(G, neighbor[0], neighbor[1])\n",
    "\n",
    "    # Verificar si hay fuego (Explosión)\n",
    "    # Expande el fuego en todas las direcciones (Von Neumann) si no hay una pared\n",
    "    ...    "
   ]
  },
  {
   "cell_type": "code",
   "execution_count": 5,
   "metadata": {},
   "outputs": [
    {
     "name": "stdout",
     "output_type": "stream",
     "text": [
      "Inicial\n"
     ]
    },
    {
     "data": {
      "application/vnd.plotly.v1+json": {
       "config": {
        "plotlyServerURL": "https://plot.ly"
       },
       "data": [
        {
         "hoverinfo": "none",
         "line": {
          "color": "green",
          "width": 2
         },
         "mode": "lines",
         "type": "scatter",
         "x": [
          0,
          0,
          null
         ],
         "y": [
          0,
          -1,
          null
         ]
        },
        {
         "hoverinfo": "none",
         "line": {
          "color": "green",
          "width": 2
         },
         "mode": "lines",
         "type": "scatter",
         "x": [
          0,
          1,
          null
         ],
         "y": [
          0,
          0,
          null
         ]
        },
        {
         "hoverinfo": "none",
         "line": {
          "color": "green",
          "width": 2
         },
         "mode": "lines",
         "type": "scatter",
         "x": [
          1,
          1,
          null
         ],
         "y": [
          0,
          -1,
          null
         ]
        },
        {
         "hoverinfo": "none",
         "line": {
          "color": "green",
          "width": 2
         },
         "mode": "lines",
         "type": "scatter",
         "x": [
          1,
          2,
          null
         ],
         "y": [
          0,
          0,
          null
         ]
        },
        {
         "hoverinfo": "none",
         "line": {
          "color": "green",
          "width": 2
         },
         "mode": "lines",
         "type": "scatter",
         "x": [
          2,
          2,
          null
         ],
         "y": [
          0,
          -1,
          null
         ]
        },
        {
         "hoverinfo": "none",
         "line": {
          "color": "blue",
          "width": 2
         },
         "mode": "lines",
         "type": "scatter",
         "x": [
          2,
          3,
          null
         ],
         "y": [
          0,
          0,
          null
         ]
        },
        {
         "hoverinfo": "none",
         "line": {
          "color": "green",
          "width": 2
         },
         "mode": "lines",
         "type": "scatter",
         "x": [
          3,
          3,
          null
         ],
         "y": [
          0,
          -1,
          null
         ]
        },
        {
         "hoverinfo": "none",
         "line": {
          "color": "green",
          "width": 2
         },
         "mode": "lines",
         "type": "scatter",
         "x": [
          3,
          4,
          null
         ],
         "y": [
          0,
          0,
          null
         ]
        },
        {
         "hoverinfo": "none",
         "line": {
          "color": "green",
          "width": 2
         },
         "mode": "lines",
         "type": "scatter",
         "x": [
          4,
          4,
          null
         ],
         "y": [
          0,
          -1,
          null
         ]
        },
        {
         "hoverinfo": "none",
         "line": {
          "color": "red",
          "width": 2
         },
         "mode": "lines",
         "type": "scatter",
         "x": [
          4,
          5,
          null
         ],
         "y": [
          0,
          0,
          null
         ]
        },
        {
         "hoverinfo": "none",
         "line": {
          "color": "green",
          "width": 2
         },
         "mode": "lines",
         "type": "scatter",
         "x": [
          5,
          5,
          null
         ],
         "y": [
          0,
          -1,
          null
         ]
        },
        {
         "hoverinfo": "none",
         "line": {
          "color": "green",
          "width": 2
         },
         "mode": "lines",
         "type": "scatter",
         "x": [
          5,
          6,
          null
         ],
         "y": [
          0,
          0,
          null
         ]
        },
        {
         "hoverinfo": "none",
         "line": {
          "color": "green",
          "width": 2
         },
         "mode": "lines",
         "type": "scatter",
         "x": [
          6,
          6,
          null
         ],
         "y": [
          0,
          -1,
          null
         ]
        },
        {
         "hoverinfo": "none",
         "line": {
          "color": "green",
          "width": 2
         },
         "mode": "lines",
         "type": "scatter",
         "x": [
          6,
          7,
          null
         ],
         "y": [
          0,
          0,
          null
         ]
        },
        {
         "hoverinfo": "none",
         "line": {
          "color": "green",
          "width": 2
         },
         "mode": "lines",
         "type": "scatter",
         "x": [
          7,
          7,
          null
         ],
         "y": [
          0,
          -1,
          null
         ]
        },
        {
         "hoverinfo": "none",
         "line": {
          "color": "green",
          "width": 2
         },
         "mode": "lines",
         "type": "scatter",
         "x": [
          0,
          0,
          null
         ],
         "y": [
          -1,
          -2,
          null
         ]
        },
        {
         "hoverinfo": "none",
         "line": {
          "color": "green",
          "width": 2
         },
         "mode": "lines",
         "type": "scatter",
         "x": [
          0,
          1,
          null
         ],
         "y": [
          -1,
          -1,
          null
         ]
        },
        {
         "hoverinfo": "none",
         "line": {
          "color": "green",
          "width": 2
         },
         "mode": "lines",
         "type": "scatter",
         "x": [
          1,
          1,
          null
         ],
         "y": [
          -1,
          -2,
          null
         ]
        },
        {
         "hoverinfo": "none",
         "line": {
          "color": "green",
          "width": 2
         },
         "mode": "lines",
         "type": "scatter",
         "x": [
          1,
          2,
          null
         ],
         "y": [
          -1,
          -1,
          null
         ]
        },
        {
         "hoverinfo": "none",
         "line": {
          "color": "red",
          "width": 2
         },
         "mode": "lines",
         "type": "scatter",
         "x": [
          2,
          2,
          null
         ],
         "y": [
          -1,
          -2,
          null
         ]
        },
        {
         "hoverinfo": "none",
         "line": {
          "color": "red",
          "width": 2
         },
         "mode": "lines",
         "type": "scatter",
         "x": [
          2,
          3,
          null
         ],
         "y": [
          -1,
          -1,
          null
         ]
        },
        {
         "hoverinfo": "none",
         "line": {
          "color": "green",
          "width": 2
         },
         "mode": "lines",
         "type": "scatter",
         "x": [
          3,
          3,
          null
         ],
         "y": [
          -1,
          -2,
          null
         ]
        },
        {
         "hoverinfo": "none",
         "line": {
          "color": "green",
          "width": 2
         },
         "mode": "lines",
         "type": "scatter",
         "x": [
          3,
          4,
          null
         ],
         "y": [
          -1,
          -1,
          null
         ]
        },
        {
         "hoverinfo": "none",
         "line": {
          "color": "red",
          "width": 2
         },
         "mode": "lines",
         "type": "scatter",
         "x": [
          4,
          4,
          null
         ],
         "y": [
          -1,
          -2,
          null
         ]
        },
        {
         "hoverinfo": "none",
         "line": {
          "color": "blue",
          "width": 2
         },
         "mode": "lines",
         "type": "scatter",
         "x": [
          4,
          5,
          null
         ],
         "y": [
          -1,
          -1,
          null
         ]
        },
        {
         "hoverinfo": "none",
         "line": {
          "color": "red",
          "width": 2
         },
         "mode": "lines",
         "type": "scatter",
         "x": [
          5,
          5,
          null
         ],
         "y": [
          -1,
          -2,
          null
         ]
        },
        {
         "hoverinfo": "none",
         "line": {
          "color": "green",
          "width": 2
         },
         "mode": "lines",
         "type": "scatter",
         "x": [
          5,
          6,
          null
         ],
         "y": [
          -1,
          -1,
          null
         ]
        },
        {
         "hoverinfo": "none",
         "line": {
          "color": "red",
          "width": 2
         },
         "mode": "lines",
         "type": "scatter",
         "x": [
          6,
          6,
          null
         ],
         "y": [
          -1,
          -2,
          null
         ]
        },
        {
         "hoverinfo": "none",
         "line": {
          "color": "green",
          "width": 2
         },
         "mode": "lines",
         "type": "scatter",
         "x": [
          6,
          7,
          null
         ],
         "y": [
          -1,
          -1,
          null
         ]
        },
        {
         "hoverinfo": "none",
         "line": {
          "color": "blue",
          "width": 2
         },
         "mode": "lines",
         "type": "scatter",
         "x": [
          7,
          7,
          null
         ],
         "y": [
          -1,
          -2,
          null
         ]
        },
        {
         "hoverinfo": "none",
         "line": {
          "color": "green",
          "width": 2
         },
         "mode": "lines",
         "type": "scatter",
         "x": [
          0,
          0,
          null
         ],
         "y": [
          -2,
          -3,
          null
         ]
        },
        {
         "hoverinfo": "none",
         "line": {
          "color": "green",
          "width": 2
         },
         "mode": "lines",
         "type": "scatter",
         "x": [
          0,
          1,
          null
         ],
         "y": [
          -2,
          -2,
          null
         ]
        },
        {
         "hoverinfo": "none",
         "line": {
          "color": "green",
          "width": 2
         },
         "mode": "lines",
         "type": "scatter",
         "x": [
          1,
          1,
          null
         ],
         "y": [
          -2,
          -3,
          null
         ]
        },
        {
         "hoverinfo": "none",
         "line": {
          "color": "blue",
          "width": 2
         },
         "mode": "lines",
         "type": "scatter",
         "x": [
          1,
          2,
          null
         ],
         "y": [
          -2,
          -2,
          null
         ]
        },
        {
         "hoverinfo": "none",
         "line": {
          "color": "green",
          "width": 2
         },
         "mode": "lines",
         "type": "scatter",
         "x": [
          2,
          2,
          null
         ],
         "y": [
          -2,
          -3,
          null
         ]
        },
        {
         "hoverinfo": "none",
         "line": {
          "color": "green",
          "width": 2
         },
         "mode": "lines",
         "type": "scatter",
         "x": [
          2,
          3,
          null
         ],
         "y": [
          -2,
          -2,
          null
         ]
        },
        {
         "hoverinfo": "none",
         "line": {
          "color": "green",
          "width": 2
         },
         "mode": "lines",
         "type": "scatter",
         "x": [
          3,
          3,
          null
         ],
         "y": [
          -2,
          -3,
          null
         ]
        },
        {
         "hoverinfo": "none",
         "line": {
          "color": "green",
          "width": 2
         },
         "mode": "lines",
         "type": "scatter",
         "x": [
          3,
          4,
          null
         ],
         "y": [
          -2,
          -2,
          null
         ]
        },
        {
         "hoverinfo": "none",
         "line": {
          "color": "green",
          "width": 2
         },
         "mode": "lines",
         "type": "scatter",
         "x": [
          4,
          4,
          null
         ],
         "y": [
          -2,
          -3,
          null
         ]
        },
        {
         "hoverinfo": "none",
         "line": {
          "color": "green",
          "width": 2
         },
         "mode": "lines",
         "type": "scatter",
         "x": [
          4,
          5,
          null
         ],
         "y": [
          -2,
          -2,
          null
         ]
        },
        {
         "hoverinfo": "none",
         "line": {
          "color": "green",
          "width": 2
         },
         "mode": "lines",
         "type": "scatter",
         "x": [
          5,
          5,
          null
         ],
         "y": [
          -2,
          -3,
          null
         ]
        },
        {
         "hoverinfo": "none",
         "line": {
          "color": "red",
          "width": 2
         },
         "mode": "lines",
         "type": "scatter",
         "x": [
          5,
          6,
          null
         ],
         "y": [
          -2,
          -2,
          null
         ]
        },
        {
         "hoverinfo": "none",
         "line": {
          "color": "green",
          "width": 2
         },
         "mode": "lines",
         "type": "scatter",
         "x": [
          6,
          6,
          null
         ],
         "y": [
          -2,
          -3,
          null
         ]
        },
        {
         "hoverinfo": "none",
         "line": {
          "color": "green",
          "width": 2
         },
         "mode": "lines",
         "type": "scatter",
         "x": [
          6,
          7,
          null
         ],
         "y": [
          -2,
          -2,
          null
         ]
        },
        {
         "hoverinfo": "none",
         "line": {
          "color": "green",
          "width": 2
         },
         "mode": "lines",
         "type": "scatter",
         "x": [
          7,
          7,
          null
         ],
         "y": [
          -2,
          -3,
          null
         ]
        },
        {
         "hoverinfo": "none",
         "line": {
          "color": "green",
          "width": 2
         },
         "mode": "lines",
         "type": "scatter",
         "x": [
          0,
          0,
          null
         ],
         "y": [
          -3,
          -4,
          null
         ]
        },
        {
         "hoverinfo": "none",
         "line": {
          "color": "green",
          "width": 2
         },
         "mode": "lines",
         "type": "scatter",
         "x": [
          0,
          1,
          null
         ],
         "y": [
          -3,
          -3,
          null
         ]
        },
        {
         "hoverinfo": "none",
         "line": {
          "color": "red",
          "width": 2
         },
         "mode": "lines",
         "type": "scatter",
         "x": [
          1,
          1,
          null
         ],
         "y": [
          -3,
          -4,
          null
         ]
        },
        {
         "hoverinfo": "none",
         "line": {
          "color": "red",
          "width": 2
         },
         "mode": "lines",
         "type": "scatter",
         "x": [
          1,
          2,
          null
         ],
         "y": [
          -3,
          -3,
          null
         ]
        },
        {
         "hoverinfo": "none",
         "line": {
          "color": "red",
          "width": 2
         },
         "mode": "lines",
         "type": "scatter",
         "x": [
          2,
          2,
          null
         ],
         "y": [
          -3,
          -4,
          null
         ]
        },
        {
         "hoverinfo": "none",
         "line": {
          "color": "green",
          "width": 2
         },
         "mode": "lines",
         "type": "scatter",
         "x": [
          2,
          3,
          null
         ],
         "y": [
          -3,
          -3,
          null
         ]
        },
        {
         "hoverinfo": "none",
         "line": {
          "color": "blue",
          "width": 2
         },
         "mode": "lines",
         "type": "scatter",
         "x": [
          3,
          3,
          null
         ],
         "y": [
          -3,
          -4,
          null
         ]
        },
        {
         "hoverinfo": "none",
         "line": {
          "color": "green",
          "width": 2
         },
         "mode": "lines",
         "type": "scatter",
         "x": [
          3,
          4,
          null
         ],
         "y": [
          -3,
          -3,
          null
         ]
        },
        {
         "hoverinfo": "none",
         "line": {
          "color": "red",
          "width": 2
         },
         "mode": "lines",
         "type": "scatter",
         "x": [
          4,
          4,
          null
         ],
         "y": [
          -3,
          -4,
          null
         ]
        },
        {
         "hoverinfo": "none",
         "line": {
          "color": "green",
          "width": 2
         },
         "mode": "lines",
         "type": "scatter",
         "x": [
          4,
          5,
          null
         ],
         "y": [
          -3,
          -3,
          null
         ]
        },
        {
         "hoverinfo": "none",
         "line": {
          "color": "red",
          "width": 2
         },
         "mode": "lines",
         "type": "scatter",
         "x": [
          5,
          5,
          null
         ],
         "y": [
          -3,
          -4,
          null
         ]
        },
        {
         "hoverinfo": "none",
         "line": {
          "color": "blue",
          "width": 2
         },
         "mode": "lines",
         "type": "scatter",
         "x": [
          5,
          6,
          null
         ],
         "y": [
          -3,
          -3,
          null
         ]
        },
        {
         "hoverinfo": "none",
         "line": {
          "color": "red",
          "width": 2
         },
         "mode": "lines",
         "type": "scatter",
         "x": [
          6,
          6,
          null
         ],
         "y": [
          -3,
          -4,
          null
         ]
        },
        {
         "hoverinfo": "none",
         "line": {
          "color": "green",
          "width": 2
         },
         "mode": "lines",
         "type": "scatter",
         "x": [
          6,
          7,
          null
         ],
         "y": [
          -3,
          -3,
          null
         ]
        },
        {
         "hoverinfo": "none",
         "line": {
          "color": "red",
          "width": 2
         },
         "mode": "lines",
         "type": "scatter",
         "x": [
          7,
          7,
          null
         ],
         "y": [
          -3,
          -4,
          null
         ]
        },
        {
         "hoverinfo": "none",
         "line": {
          "color": "green",
          "width": 2
         },
         "mode": "lines",
         "type": "scatter",
         "x": [
          0,
          0,
          null
         ],
         "y": [
          -4,
          -5,
          null
         ]
        },
        {
         "hoverinfo": "none",
         "line": {
          "color": "green",
          "width": 2
         },
         "mode": "lines",
         "type": "scatter",
         "x": [
          0,
          1,
          null
         ],
         "y": [
          -4,
          -4,
          null
         ]
        },
        {
         "hoverinfo": "none",
         "line": {
          "color": "green",
          "width": 2
         },
         "mode": "lines",
         "type": "scatter",
         "x": [
          1,
          1,
          null
         ],
         "y": [
          -4,
          -5,
          null
         ]
        },
        {
         "hoverinfo": "none",
         "line": {
          "color": "green",
          "width": 2
         },
         "mode": "lines",
         "type": "scatter",
         "x": [
          1,
          2,
          null
         ],
         "y": [
          -4,
          -4,
          null
         ]
        },
        {
         "hoverinfo": "none",
         "line": {
          "color": "green",
          "width": 2
         },
         "mode": "lines",
         "type": "scatter",
         "x": [
          2,
          2,
          null
         ],
         "y": [
          -4,
          -5,
          null
         ]
        },
        {
         "hoverinfo": "none",
         "line": {
          "color": "green",
          "width": 2
         },
         "mode": "lines",
         "type": "scatter",
         "x": [
          2,
          3,
          null
         ],
         "y": [
          -4,
          -4,
          null
         ]
        },
        {
         "hoverinfo": "none",
         "line": {
          "color": "green",
          "width": 2
         },
         "mode": "lines",
         "type": "scatter",
         "x": [
          3,
          3,
          null
         ],
         "y": [
          -4,
          -5,
          null
         ]
        },
        {
         "hoverinfo": "none",
         "line": {
          "color": "green",
          "width": 2
         },
         "mode": "lines",
         "type": "scatter",
         "x": [
          3,
          4,
          null
         ],
         "y": [
          -4,
          -4,
          null
         ]
        },
        {
         "hoverinfo": "none",
         "line": {
          "color": "green",
          "width": 2
         },
         "mode": "lines",
         "type": "scatter",
         "x": [
          4,
          4,
          null
         ],
         "y": [
          -4,
          -5,
          null
         ]
        },
        {
         "hoverinfo": "none",
         "line": {
          "color": "red",
          "width": 2
         },
         "mode": "lines",
         "type": "scatter",
         "x": [
          4,
          5,
          null
         ],
         "y": [
          -4,
          -4,
          null
         ]
        },
        {
         "hoverinfo": "none",
         "line": {
          "color": "green",
          "width": 2
         },
         "mode": "lines",
         "type": "scatter",
         "x": [
          5,
          5,
          null
         ],
         "y": [
          -4,
          -5,
          null
         ]
        },
        {
         "hoverinfo": "none",
         "line": {
          "color": "green",
          "width": 2
         },
         "mode": "lines",
         "type": "scatter",
         "x": [
          5,
          6,
          null
         ],
         "y": [
          -4,
          -4,
          null
         ]
        },
        {
         "hoverinfo": "none",
         "line": {
          "color": "green",
          "width": 2
         },
         "mode": "lines",
         "type": "scatter",
         "x": [
          6,
          6,
          null
         ],
         "y": [
          -4,
          -5,
          null
         ]
        },
        {
         "hoverinfo": "none",
         "line": {
          "color": "red",
          "width": 2
         },
         "mode": "lines",
         "type": "scatter",
         "x": [
          6,
          7,
          null
         ],
         "y": [
          -4,
          -4,
          null
         ]
        },
        {
         "hoverinfo": "none",
         "line": {
          "color": "green",
          "width": 2
         },
         "mode": "lines",
         "type": "scatter",
         "x": [
          7,
          7,
          null
         ],
         "y": [
          -4,
          -5,
          null
         ]
        },
        {
         "hoverinfo": "none",
         "line": {
          "color": "green",
          "width": 2
         },
         "mode": "lines",
         "type": "scatter",
         "x": [
          0,
          1,
          null
         ],
         "y": [
          -5,
          -5,
          null
         ]
        },
        {
         "hoverinfo": "none",
         "line": {
          "color": "green",
          "width": 2
         },
         "mode": "lines",
         "type": "scatter",
         "x": [
          1,
          2,
          null
         ],
         "y": [
          -5,
          -5,
          null
         ]
        },
        {
         "hoverinfo": "none",
         "line": {
          "color": "green",
          "width": 2
         },
         "mode": "lines",
         "type": "scatter",
         "x": [
          2,
          3,
          null
         ],
         "y": [
          -5,
          -5,
          null
         ]
        },
        {
         "hoverinfo": "none",
         "line": {
          "color": "green",
          "width": 2
         },
         "mode": "lines",
         "type": "scatter",
         "x": [
          3,
          4,
          null
         ],
         "y": [
          -5,
          -5,
          null
         ]
        },
        {
         "hoverinfo": "none",
         "line": {
          "color": "blue",
          "width": 2
         },
         "mode": "lines",
         "type": "scatter",
         "x": [
          4,
          5,
          null
         ],
         "y": [
          -5,
          -5,
          null
         ]
        },
        {
         "hoverinfo": "none",
         "line": {
          "color": "green",
          "width": 2
         },
         "mode": "lines",
         "type": "scatter",
         "x": [
          5,
          6,
          null
         ],
         "y": [
          -5,
          -5,
          null
         ]
        },
        {
         "hoverinfo": "none",
         "line": {
          "color": "blue",
          "width": 2
         },
         "mode": "lines",
         "type": "scatter",
         "x": [
          6,
          7,
          null
         ],
         "y": [
          -5,
          -5,
          null
         ]
        },
        {
         "hoverinfo": "text",
         "marker": {
          "color": [
           "black",
           "black",
           "black",
           "black",
           "black",
           "green",
           "black",
           "black",
           "black",
           "red",
           "red",
           "blue",
           "black",
           "black",
           "black",
           "black",
           "green",
           "red",
           "red",
           "red",
           "red",
           "black",
           "black",
           "black",
           "black",
           "black",
           "black",
           "red",
           "black",
           "black",
           "black",
           "green",
           "blue",
           "black",
           "black",
           "black",
           "black",
           "red",
           "red",
           "blue",
           "black",
           "black",
           "green",
           "black",
           "black",
           "red",
           "black",
           "black"
          ],
          "size": 10
         },
         "mode": "markers",
         "text": [
          "Posición: (0, 0)<br>Adyacentes: (1, 0): path, (0, 1): path<br>Fuego: 0<br>POI: None<br>Es punto de entrada: False",
          "Posición: (0, 1)<br>Adyacentes: (0, 0): path, (1, 1): path, (0, 2): path<br>Fuego: 0<br>POI: None<br>Es punto de entrada: False",
          "Posición: (0, 2)<br>Adyacentes: (0, 1): path, (1, 2): path, (0, 3): door<br>Fuego: 0<br>POI: None<br>Es punto de entrada: False",
          "Posición: (0, 3)<br>Adyacentes: (0, 2): door, (1, 3): path, (0, 4): path<br>Fuego: 0<br>POI: None<br>Es punto de entrada: False",
          "Posición: (0, 4)<br>Adyacentes: (0, 3): path, (1, 4): path, (0, 5): wall<br>Fuego: 0<br>POI: None<br>Es punto de entrada: False",
          "Posición: (0, 5)<br>Adyacentes: (0, 4): wall, (1, 5): path, (0, 6): path<br>Fuego: 0<br>POI: None<br>Es punto de entrada: True",
          "Posición: (0, 6)<br>Adyacentes: (0, 5): path, (1, 6): path, (0, 7): path<br>Fuego: 0<br>POI: None<br>Es punto de entrada: False",
          "Posición: (0, 7)<br>Adyacentes: (0, 6): path, (1, 7): path<br>Fuego: 0<br>POI: None<br>Es punto de entrada: False",
          "Posición: (1, 0)<br>Adyacentes: (0, 0): path, (2, 0): path, (1, 1): path<br>Fuego: 0<br>POI: None<br>Es punto de entrada: False",
          "Posición: (1, 1)<br>Adyacentes: (0, 1): path, (1, 0): path, (2, 1): path, (1, 2): path<br>Fuego: 2<br>POI: None<br>Es punto de entrada: False",
          "Posición: (1, 2)<br>Adyacentes: (0, 2): path, (1, 1): path, (2, 2): wall, (1, 3): wall<br>Fuego: 2<br>POI: None<br>Es punto de entrada: False",
          "Posición: (1, 3)<br>Adyacentes: (0, 3): path, (1, 2): wall, (2, 3): path, (1, 4): path<br>Fuego: 0<br>POI: True<br>Es punto de entrada: False",
          "Posición: (1, 4)<br>Adyacentes: (0, 4): path, (1, 3): path, (2, 4): wall, (1, 5): door<br>Fuego: 0<br>POI: None<br>Es punto de entrada: False",
          "Posición: (1, 5)<br>Adyacentes: (0, 5): path, (1, 4): door, (2, 5): wall, (1, 6): path<br>Fuego: 0<br>POI: None<br>Es punto de entrada: False",
          "Posición: (1, 6)<br>Adyacentes: (0, 6): path, (1, 5): path, (2, 6): wall, (1, 7): path<br>Fuego: 0<br>POI: None<br>Es punto de entrada: False",
          "Posición: (1, 7)<br>Adyacentes: (0, 7): path, (1, 6): path, (2, 7): door<br>Fuego: 0<br>POI: None<br>Es punto de entrada: False",
          "Posición: (2, 0)<br>Adyacentes: (1, 0): path, (3, 0): path, (2, 1): path<br>Fuego: 0<br>POI: None<br>Es punto de entrada: True",
          "Posición: (2, 1)<br>Adyacentes: (1, 1): path, (2, 0): path, (3, 1): path, (2, 2): door<br>Fuego: 2<br>POI: None<br>Es punto de entrada: False",
          "Posición: (2, 2)<br>Adyacentes: (1, 2): wall, (2, 1): door, (3, 2): path, (2, 3): path<br>Fuego: 2<br>POI: None<br>Es punto de entrada: False",
          "Posición: (2, 3)<br>Adyacentes: (1, 3): path, (2, 2): path, (3, 3): path, (2, 4): path<br>Fuego: 2<br>POI: None<br>Es punto de entrada: False",
          "Posición: (2, 4)<br>Adyacentes: (1, 4): wall, (2, 3): path, (3, 4): path, (2, 5): path<br>Fuego: 2<br>POI: None<br>Es punto de entrada: False",
          "Posición: (2, 5)<br>Adyacentes: (1, 5): wall, (2, 4): path, (3, 5): path, (2, 6): wall<br>Fuego: 0<br>POI: None<br>Es punto de entrada: False",
          "Posición: (2, 6)<br>Adyacentes: (1, 6): wall, (2, 5): wall, (3, 6): path, (2, 7): path<br>Fuego: 0<br>POI: None<br>Es punto de entrada: False",
          "Posición: (2, 7)<br>Adyacentes: (1, 7): door, (2, 6): path, (3, 7): path<br>Fuego: 0<br>POI: None<br>Es punto de entrada: False",
          "Posición: (3, 0)<br>Adyacentes: (2, 0): path, (4, 0): path, (3, 1): path<br>Fuego: 0<br>POI: None<br>Es punto de entrada: False",
          "Posición: (3, 1)<br>Adyacentes: (2, 1): path, (3, 0): path, (4, 1): wall, (3, 2): wall<br>Fuego: 0<br>POI: None<br>Es punto de entrada: False",
          "Posición: (3, 2)<br>Adyacentes: (2, 2): path, (3, 1): wall, (4, 2): wall, (3, 3): path<br>Fuego: 0<br>POI: None<br>Es punto de entrada: False",
          "Posición: (3, 3)<br>Adyacentes: (2, 3): path, (3, 2): path, (4, 3): door, (3, 4): path<br>Fuego: 2<br>POI: None<br>Es punto de entrada: False",
          "Posición: (3, 4)<br>Adyacentes: (2, 4): path, (3, 3): path, (4, 4): wall, (3, 5): path<br>Fuego: 0<br>POI: None<br>Es punto de entrada: False",
          "Posición: (3, 5)<br>Adyacentes: (2, 5): path, (3, 4): path, (4, 5): wall, (3, 6): door<br>Fuego: 0<br>POI: None<br>Es punto de entrada: False",
          "Posición: (3, 6)<br>Adyacentes: (2, 6): path, (3, 5): door, (4, 6): wall, (3, 7): path<br>Fuego: 0<br>POI: None<br>Es punto de entrada: False",
          "Posición: (3, 7)<br>Adyacentes: (2, 7): path, (3, 6): path, (4, 7): wall<br>Fuego: 0<br>POI: None<br>Es punto de entrada: True",
          "Posición: (4, 0)<br>Adyacentes: (3, 0): path, (5, 0): path, (4, 1): path<br>Fuego: 0<br>POI: False<br>Es punto de entrada: False",
          "Posición: (4, 1)<br>Adyacentes: (3, 1): wall, (4, 0): path, (5, 1): path, (4, 2): path<br>Fuego: 0<br>POI: None<br>Es punto de entrada: False",
          "Posición: (4, 2)<br>Adyacentes: (3, 2): wall, (4, 1): path, (5, 2): path, (4, 3): path<br>Fuego: 0<br>POI: None<br>Es punto de entrada: False",
          "Posición: (4, 3)<br>Adyacentes: (3, 3): door, (4, 2): path, (5, 3): path, (4, 4): path<br>Fuego: 0<br>POI: None<br>Es punto de entrada: False",
          "Posición: (4, 4)<br>Adyacentes: (3, 4): wall, (4, 3): path, (5, 4): path, (4, 5): wall<br>Fuego: 0<br>POI: None<br>Es punto de entrada: False",
          "Posición: (4, 5)<br>Adyacentes: (3, 5): wall, (4, 4): wall, (5, 5): path, (4, 6): path<br>Fuego: 2<br>POI: None<br>Es punto de entrada: False",
          "Posición: (4, 6)<br>Adyacentes: (3, 6): wall, (4, 5): path, (5, 6): path, (4, 7): wall<br>Fuego: 2<br>POI: None<br>Es punto de entrada: False",
          "Posición: (4, 7)<br>Adyacentes: (3, 7): wall, (4, 6): wall, (5, 7): path<br>Fuego: 0<br>POI: True<br>Es punto de entrada: False",
          "Posición: (5, 0)<br>Adyacentes: (4, 0): path, (5, 1): path<br>Fuego: 0<br>POI: None<br>Es punto de entrada: False",
          "Posición: (5, 1)<br>Adyacentes: (4, 1): path, (5, 0): path, (5, 2): path<br>Fuego: 0<br>POI: None<br>Es punto de entrada: False",
          "Posición: (5, 2)<br>Adyacentes: (4, 2): path, (5, 1): path, (5, 3): path<br>Fuego: 0<br>POI: None<br>Es punto de entrada: True",
          "Posición: (5, 3)<br>Adyacentes: (4, 3): path, (5, 2): path, (5, 4): path<br>Fuego: 0<br>POI: None<br>Es punto de entrada: False",
          "Posición: (5, 4)<br>Adyacentes: (4, 4): path, (5, 3): path, (5, 5): door<br>Fuego: 0<br>POI: None<br>Es punto de entrada: False",
          "Posición: (5, 5)<br>Adyacentes: (4, 5): path, (5, 4): door, (5, 6): path<br>Fuego: 2<br>POI: None<br>Es punto de entrada: False",
          "Posición: (5, 6)<br>Adyacentes: (4, 6): path, (5, 5): path, (5, 7): door<br>Fuego: 0<br>POI: None<br>Es punto de entrada: False",
          "Posición: (5, 7)<br>Adyacentes: (4, 7): path, (5, 6): door<br>Fuego: 0<br>POI: None<br>Es punto de entrada: False"
         ],
         "type": "scatter",
         "x": [
          0,
          1,
          2,
          3,
          4,
          5,
          6,
          7,
          0,
          1,
          2,
          3,
          4,
          5,
          6,
          7,
          0,
          1,
          2,
          3,
          4,
          5,
          6,
          7,
          0,
          1,
          2,
          3,
          4,
          5,
          6,
          7,
          0,
          1,
          2,
          3,
          4,
          5,
          6,
          7,
          0,
          1,
          2,
          3,
          4,
          5,
          6,
          7
         ],
         "y": [
          0,
          0,
          0,
          0,
          0,
          0,
          0,
          0,
          -1,
          -1,
          -1,
          -1,
          -1,
          -1,
          -1,
          -1,
          -2,
          -2,
          -2,
          -2,
          -2,
          -2,
          -2,
          -2,
          -3,
          -3,
          -3,
          -3,
          -3,
          -3,
          -3,
          -3,
          -4,
          -4,
          -4,
          -4,
          -4,
          -4,
          -4,
          -4,
          -5,
          -5,
          -5,
          -5,
          -5,
          -5,
          -5,
          -5
         ]
        }
       ],
       "layout": {
        "annotations": [
         {
          "font": {
           "color": "black",
           "size": 10
          },
          "showarrow": false,
          "text": "1<br>path",
          "x": 0,
          "y": -0.5
         },
         {
          "font": {
           "color": "black",
           "size": 10
          },
          "showarrow": false,
          "text": "1<br>path",
          "x": 0.5,
          "y": 0
         },
         {
          "font": {
           "color": "black",
           "size": 10
          },
          "showarrow": false,
          "text": "3<br>path",
          "x": 1,
          "y": -0.5
         },
         {
          "font": {
           "color": "black",
           "size": 10
          },
          "showarrow": false,
          "text": "1<br>path",
          "x": 1.5,
          "y": 0
         },
         {
          "font": {
           "color": "black",
           "size": 10
          },
          "showarrow": false,
          "text": "3<br>path",
          "x": 2,
          "y": -0.5
         },
         {
          "font": {
           "color": "black",
           "size": 10
          },
          "showarrow": false,
          "text": "2<br>door",
          "x": 2.5,
          "y": 0
         },
         {
          "font": {
           "color": "black",
           "size": 10
          },
          "showarrow": false,
          "text": "1<br>path",
          "x": 3,
          "y": -0.5
         },
         {
          "font": {
           "color": "black",
           "size": 10
          },
          "showarrow": false,
          "text": "1<br>path",
          "x": 3.5,
          "y": 0
         },
         {
          "font": {
           "color": "black",
           "size": 10
          },
          "showarrow": false,
          "text": "1<br>path",
          "x": 4,
          "y": -0.5
         },
         {
          "font": {
           "color": "black",
           "size": 10
          },
          "showarrow": false,
          "text": "5<br>wall",
          "x": 4.5,
          "y": 0
         },
         {
          "font": {
           "color": "black",
           "size": 10
          },
          "showarrow": false,
          "text": "1<br>path",
          "x": 5,
          "y": -0.5
         },
         {
          "font": {
           "color": "black",
           "size": 10
          },
          "showarrow": false,
          "text": "1<br>path",
          "x": 5.5,
          "y": 0
         },
         {
          "font": {
           "color": "black",
           "size": 10
          },
          "showarrow": false,
          "text": "1<br>path",
          "x": 6,
          "y": -0.5
         },
         {
          "font": {
           "color": "black",
           "size": 10
          },
          "showarrow": false,
          "text": "1<br>path",
          "x": 6.5,
          "y": 0
         },
         {
          "font": {
           "color": "black",
           "size": 10
          },
          "showarrow": false,
          "text": "1<br>path",
          "x": 7,
          "y": -0.5
         },
         {
          "font": {
           "color": "black",
           "size": 10
          },
          "showarrow": false,
          "text": "1<br>path",
          "x": 0,
          "y": -1.5
         },
         {
          "font": {
           "color": "black",
           "size": 10
          },
          "showarrow": false,
          "text": "3<br>path",
          "x": 0.5,
          "y": -1
         },
         {
          "font": {
           "color": "black",
           "size": 10
          },
          "showarrow": false,
          "text": "3<br>path",
          "x": 1,
          "y": -1.5
         },
         {
          "font": {
           "color": "black",
           "size": 10
          },
          "showarrow": false,
          "text": "3<br>path",
          "x": 1.5,
          "y": -1
         },
         {
          "font": {
           "color": "black",
           "size": 10
          },
          "showarrow": false,
          "text": "5<br>wall",
          "x": 2,
          "y": -1.5
         },
         {
          "font": {
           "color": "black",
           "size": 10
          },
          "showarrow": false,
          "text": "5<br>wall",
          "x": 2.5,
          "y": -1
         },
         {
          "font": {
           "color": "black",
           "size": 10
          },
          "showarrow": false,
          "text": "3<br>path",
          "x": 3,
          "y": -1.5
         },
         {
          "font": {
           "color": "black",
           "size": 10
          },
          "showarrow": false,
          "text": "1<br>path",
          "x": 3.5,
          "y": -1
         },
         {
          "font": {
           "color": "black",
           "size": 10
          },
          "showarrow": false,
          "text": "5<br>wall",
          "x": 4,
          "y": -1.5
         },
         {
          "font": {
           "color": "black",
           "size": 10
          },
          "showarrow": false,
          "text": "2<br>door",
          "x": 4.5,
          "y": -1
         },
         {
          "font": {
           "color": "black",
           "size": 10
          },
          "showarrow": false,
          "text": "5<br>wall",
          "x": 5,
          "y": -1.5
         },
         {
          "font": {
           "color": "black",
           "size": 10
          },
          "showarrow": false,
          "text": "1<br>path",
          "x": 5.5,
          "y": -1
         },
         {
          "font": {
           "color": "black",
           "size": 10
          },
          "showarrow": false,
          "text": "5<br>wall",
          "x": 6,
          "y": -1.5
         },
         {
          "font": {
           "color": "black",
           "size": 10
          },
          "showarrow": false,
          "text": "1<br>path",
          "x": 6.5,
          "y": -1
         },
         {
          "font": {
           "color": "black",
           "size": 10
          },
          "showarrow": false,
          "text": "2<br>door",
          "x": 7,
          "y": -1.5
         },
         {
          "font": {
           "color": "black",
           "size": 10
          },
          "showarrow": false,
          "text": "1<br>path",
          "x": 0,
          "y": -2.5
         },
         {
          "font": {
           "color": "black",
           "size": 10
          },
          "showarrow": false,
          "text": "3<br>path",
          "x": 0.5,
          "y": -2
         },
         {
          "font": {
           "color": "black",
           "size": 10
          },
          "showarrow": false,
          "text": "3<br>path",
          "x": 1,
          "y": -2.5
         },
         {
          "font": {
           "color": "black",
           "size": 10
          },
          "showarrow": false,
          "text": "2<br>door",
          "x": 1.5,
          "y": -2
         },
         {
          "font": {
           "color": "black",
           "size": 10
          },
          "showarrow": false,
          "text": "3<br>path",
          "x": 2,
          "y": -2.5
         },
         {
          "font": {
           "color": "black",
           "size": 10
          },
          "showarrow": false,
          "text": "3<br>path",
          "x": 2.5,
          "y": -2
         },
         {
          "font": {
           "color": "black",
           "size": 10
          },
          "showarrow": false,
          "text": "3<br>path",
          "x": 3,
          "y": -2.5
         },
         {
          "font": {
           "color": "black",
           "size": 10
          },
          "showarrow": false,
          "text": "3<br>path",
          "x": 3.5,
          "y": -2
         },
         {
          "font": {
           "color": "black",
           "size": 10
          },
          "showarrow": false,
          "text": "3<br>path",
          "x": 4,
          "y": -2.5
         },
         {
          "font": {
           "color": "black",
           "size": 10
          },
          "showarrow": false,
          "text": "3<br>path",
          "x": 4.5,
          "y": -2
         },
         {
          "font": {
           "color": "black",
           "size": 10
          },
          "showarrow": false,
          "text": "1<br>path",
          "x": 5,
          "y": -2.5
         },
         {
          "font": {
           "color": "black",
           "size": 10
          },
          "showarrow": false,
          "text": "5<br>wall",
          "x": 5.5,
          "y": -2
         },
         {
          "font": {
           "color": "black",
           "size": 10
          },
          "showarrow": false,
          "text": "1<br>path",
          "x": 6,
          "y": -2.5
         },
         {
          "font": {
           "color": "black",
           "size": 10
          },
          "showarrow": false,
          "text": "1<br>path",
          "x": 6.5,
          "y": -2
         },
         {
          "font": {
           "color": "black",
           "size": 10
          },
          "showarrow": false,
          "text": "1<br>path",
          "x": 7,
          "y": -2.5
         },
         {
          "font": {
           "color": "black",
           "size": 10
          },
          "showarrow": false,
          "text": "1<br>path",
          "x": 0,
          "y": -3.5
         },
         {
          "font": {
           "color": "black",
           "size": 10
          },
          "showarrow": false,
          "text": "1<br>path",
          "x": 0.5,
          "y": -3
         },
         {
          "font": {
           "color": "black",
           "size": 10
          },
          "showarrow": false,
          "text": "5<br>wall",
          "x": 1,
          "y": -3.5
         },
         {
          "font": {
           "color": "black",
           "size": 10
          },
          "showarrow": false,
          "text": "5<br>wall",
          "x": 1.5,
          "y": -3
         },
         {
          "font": {
           "color": "black",
           "size": 10
          },
          "showarrow": false,
          "text": "5<br>wall",
          "x": 2,
          "y": -3.5
         },
         {
          "font": {
           "color": "black",
           "size": 10
          },
          "showarrow": false,
          "text": "3<br>path",
          "x": 2.5,
          "y": -3
         },
         {
          "font": {
           "color": "black",
           "size": 10
          },
          "showarrow": false,
          "text": "2<br>door",
          "x": 3,
          "y": -3.5
         },
         {
          "font": {
           "color": "black",
           "size": 10
          },
          "showarrow": false,
          "text": "3<br>path",
          "x": 3.5,
          "y": -3
         },
         {
          "font": {
           "color": "black",
           "size": 10
          },
          "showarrow": false,
          "text": "5<br>wall",
          "x": 4,
          "y": -3.5
         },
         {
          "font": {
           "color": "black",
           "size": 10
          },
          "showarrow": false,
          "text": "1<br>path",
          "x": 4.5,
          "y": -3
         },
         {
          "font": {
           "color": "black",
           "size": 10
          },
          "showarrow": false,
          "text": "5<br>wall",
          "x": 5,
          "y": -3.5
         },
         {
          "font": {
           "color": "black",
           "size": 10
          },
          "showarrow": false,
          "text": "2<br>door",
          "x": 5.5,
          "y": -3
         },
         {
          "font": {
           "color": "black",
           "size": 10
          },
          "showarrow": false,
          "text": "5<br>wall",
          "x": 6,
          "y": -3.5
         },
         {
          "font": {
           "color": "black",
           "size": 10
          },
          "showarrow": false,
          "text": "1<br>path",
          "x": 6.5,
          "y": -3
         },
         {
          "font": {
           "color": "black",
           "size": 10
          },
          "showarrow": false,
          "text": "5<br>wall",
          "x": 7,
          "y": -3.5
         },
         {
          "font": {
           "color": "black",
           "size": 10
          },
          "showarrow": false,
          "text": "1<br>path",
          "x": 0,
          "y": -4.5
         },
         {
          "font": {
           "color": "black",
           "size": 10
          },
          "showarrow": false,
          "text": "1<br>path",
          "x": 0.5,
          "y": -4
         },
         {
          "font": {
           "color": "black",
           "size": 10
          },
          "showarrow": false,
          "text": "1<br>path",
          "x": 1,
          "y": -4.5
         },
         {
          "font": {
           "color": "black",
           "size": 10
          },
          "showarrow": false,
          "text": "1<br>path",
          "x": 1.5,
          "y": -4
         },
         {
          "font": {
           "color": "black",
           "size": 10
          },
          "showarrow": false,
          "text": "1<br>path",
          "x": 2,
          "y": -4.5
         },
         {
          "font": {
           "color": "black",
           "size": 10
          },
          "showarrow": false,
          "text": "1<br>path",
          "x": 2.5,
          "y": -4
         },
         {
          "font": {
           "color": "black",
           "size": 10
          },
          "showarrow": false,
          "text": "1<br>path",
          "x": 3,
          "y": -4.5
         },
         {
          "font": {
           "color": "black",
           "size": 10
          },
          "showarrow": false,
          "text": "1<br>path",
          "x": 3.5,
          "y": -4
         },
         {
          "font": {
           "color": "black",
           "size": 10
          },
          "showarrow": false,
          "text": "1<br>path",
          "x": 4,
          "y": -4.5
         },
         {
          "font": {
           "color": "black",
           "size": 10
          },
          "showarrow": false,
          "text": "5<br>wall",
          "x": 4.5,
          "y": -4
         },
         {
          "font": {
           "color": "black",
           "size": 10
          },
          "showarrow": false,
          "text": "3<br>path",
          "x": 5,
          "y": -4.5
         },
         {
          "font": {
           "color": "black",
           "size": 10
          },
          "showarrow": false,
          "text": "3<br>path",
          "x": 5.5,
          "y": -4
         },
         {
          "font": {
           "color": "black",
           "size": 10
          },
          "showarrow": false,
          "text": "3<br>path",
          "x": 6,
          "y": -4.5
         },
         {
          "font": {
           "color": "black",
           "size": 10
          },
          "showarrow": false,
          "text": "5<br>wall",
          "x": 6.5,
          "y": -4
         },
         {
          "font": {
           "color": "black",
           "size": 10
          },
          "showarrow": false,
          "text": "1<br>path",
          "x": 7,
          "y": -4.5
         },
         {
          "font": {
           "color": "black",
           "size": 10
          },
          "showarrow": false,
          "text": "1<br>path",
          "x": 0.5,
          "y": -5
         },
         {
          "font": {
           "color": "black",
           "size": 10
          },
          "showarrow": false,
          "text": "1<br>path",
          "x": 1.5,
          "y": -5
         },
         {
          "font": {
           "color": "black",
           "size": 10
          },
          "showarrow": false,
          "text": "1<br>path",
          "x": 2.5,
          "y": -5
         },
         {
          "font": {
           "color": "black",
           "size": 10
          },
          "showarrow": false,
          "text": "1<br>path",
          "x": 3.5,
          "y": -5
         },
         {
          "font": {
           "color": "black",
           "size": 10
          },
          "showarrow": false,
          "text": "2<br>door",
          "x": 4.5,
          "y": -5
         },
         {
          "font": {
           "color": "black",
           "size": 10
          },
          "showarrow": false,
          "text": "3<br>path",
          "x": 5.5,
          "y": -5
         },
         {
          "font": {
           "color": "black",
           "size": 10
          },
          "showarrow": false,
          "text": "2<br>door",
          "x": 6.5,
          "y": -5
         }
        ],
        "hovermode": "closest",
        "margin": {
         "b": 20,
         "l": 5,
         "r": 5,
         "t": 40
        },
        "showlegend": false,
        "template": {
         "data": {
          "bar": [
           {
            "error_x": {
             "color": "#2a3f5f"
            },
            "error_y": {
             "color": "#2a3f5f"
            },
            "marker": {
             "line": {
              "color": "#E5ECF6",
              "width": 0.5
             },
             "pattern": {
              "fillmode": "overlay",
              "size": 10,
              "solidity": 0.2
             }
            },
            "type": "bar"
           }
          ],
          "barpolar": [
           {
            "marker": {
             "line": {
              "color": "#E5ECF6",
              "width": 0.5
             },
             "pattern": {
              "fillmode": "overlay",
              "size": 10,
              "solidity": 0.2
             }
            },
            "type": "barpolar"
           }
          ],
          "carpet": [
           {
            "aaxis": {
             "endlinecolor": "#2a3f5f",
             "gridcolor": "white",
             "linecolor": "white",
             "minorgridcolor": "white",
             "startlinecolor": "#2a3f5f"
            },
            "baxis": {
             "endlinecolor": "#2a3f5f",
             "gridcolor": "white",
             "linecolor": "white",
             "minorgridcolor": "white",
             "startlinecolor": "#2a3f5f"
            },
            "type": "carpet"
           }
          ],
          "choropleth": [
           {
            "colorbar": {
             "outlinewidth": 0,
             "ticks": ""
            },
            "type": "choropleth"
           }
          ],
          "contour": [
           {
            "colorbar": {
             "outlinewidth": 0,
             "ticks": ""
            },
            "colorscale": [
             [
              0,
              "#0d0887"
             ],
             [
              0.1111111111111111,
              "#46039f"
             ],
             [
              0.2222222222222222,
              "#7201a8"
             ],
             [
              0.3333333333333333,
              "#9c179e"
             ],
             [
              0.4444444444444444,
              "#bd3786"
             ],
             [
              0.5555555555555556,
              "#d8576b"
             ],
             [
              0.6666666666666666,
              "#ed7953"
             ],
             [
              0.7777777777777778,
              "#fb9f3a"
             ],
             [
              0.8888888888888888,
              "#fdca26"
             ],
             [
              1,
              "#f0f921"
             ]
            ],
            "type": "contour"
           }
          ],
          "contourcarpet": [
           {
            "colorbar": {
             "outlinewidth": 0,
             "ticks": ""
            },
            "type": "contourcarpet"
           }
          ],
          "heatmap": [
           {
            "colorbar": {
             "outlinewidth": 0,
             "ticks": ""
            },
            "colorscale": [
             [
              0,
              "#0d0887"
             ],
             [
              0.1111111111111111,
              "#46039f"
             ],
             [
              0.2222222222222222,
              "#7201a8"
             ],
             [
              0.3333333333333333,
              "#9c179e"
             ],
             [
              0.4444444444444444,
              "#bd3786"
             ],
             [
              0.5555555555555556,
              "#d8576b"
             ],
             [
              0.6666666666666666,
              "#ed7953"
             ],
             [
              0.7777777777777778,
              "#fb9f3a"
             ],
             [
              0.8888888888888888,
              "#fdca26"
             ],
             [
              1,
              "#f0f921"
             ]
            ],
            "type": "heatmap"
           }
          ],
          "heatmapgl": [
           {
            "colorbar": {
             "outlinewidth": 0,
             "ticks": ""
            },
            "colorscale": [
             [
              0,
              "#0d0887"
             ],
             [
              0.1111111111111111,
              "#46039f"
             ],
             [
              0.2222222222222222,
              "#7201a8"
             ],
             [
              0.3333333333333333,
              "#9c179e"
             ],
             [
              0.4444444444444444,
              "#bd3786"
             ],
             [
              0.5555555555555556,
              "#d8576b"
             ],
             [
              0.6666666666666666,
              "#ed7953"
             ],
             [
              0.7777777777777778,
              "#fb9f3a"
             ],
             [
              0.8888888888888888,
              "#fdca26"
             ],
             [
              1,
              "#f0f921"
             ]
            ],
            "type": "heatmapgl"
           }
          ],
          "histogram": [
           {
            "marker": {
             "pattern": {
              "fillmode": "overlay",
              "size": 10,
              "solidity": 0.2
             }
            },
            "type": "histogram"
           }
          ],
          "histogram2d": [
           {
            "colorbar": {
             "outlinewidth": 0,
             "ticks": ""
            },
            "colorscale": [
             [
              0,
              "#0d0887"
             ],
             [
              0.1111111111111111,
              "#46039f"
             ],
             [
              0.2222222222222222,
              "#7201a8"
             ],
             [
              0.3333333333333333,
              "#9c179e"
             ],
             [
              0.4444444444444444,
              "#bd3786"
             ],
             [
              0.5555555555555556,
              "#d8576b"
             ],
             [
              0.6666666666666666,
              "#ed7953"
             ],
             [
              0.7777777777777778,
              "#fb9f3a"
             ],
             [
              0.8888888888888888,
              "#fdca26"
             ],
             [
              1,
              "#f0f921"
             ]
            ],
            "type": "histogram2d"
           }
          ],
          "histogram2dcontour": [
           {
            "colorbar": {
             "outlinewidth": 0,
             "ticks": ""
            },
            "colorscale": [
             [
              0,
              "#0d0887"
             ],
             [
              0.1111111111111111,
              "#46039f"
             ],
             [
              0.2222222222222222,
              "#7201a8"
             ],
             [
              0.3333333333333333,
              "#9c179e"
             ],
             [
              0.4444444444444444,
              "#bd3786"
             ],
             [
              0.5555555555555556,
              "#d8576b"
             ],
             [
              0.6666666666666666,
              "#ed7953"
             ],
             [
              0.7777777777777778,
              "#fb9f3a"
             ],
             [
              0.8888888888888888,
              "#fdca26"
             ],
             [
              1,
              "#f0f921"
             ]
            ],
            "type": "histogram2dcontour"
           }
          ],
          "mesh3d": [
           {
            "colorbar": {
             "outlinewidth": 0,
             "ticks": ""
            },
            "type": "mesh3d"
           }
          ],
          "parcoords": [
           {
            "line": {
             "colorbar": {
              "outlinewidth": 0,
              "ticks": ""
             }
            },
            "type": "parcoords"
           }
          ],
          "pie": [
           {
            "automargin": true,
            "type": "pie"
           }
          ],
          "scatter": [
           {
            "fillpattern": {
             "fillmode": "overlay",
             "size": 10,
             "solidity": 0.2
            },
            "type": "scatter"
           }
          ],
          "scatter3d": [
           {
            "line": {
             "colorbar": {
              "outlinewidth": 0,
              "ticks": ""
             }
            },
            "marker": {
             "colorbar": {
              "outlinewidth": 0,
              "ticks": ""
             }
            },
            "type": "scatter3d"
           }
          ],
          "scattercarpet": [
           {
            "marker": {
             "colorbar": {
              "outlinewidth": 0,
              "ticks": ""
             }
            },
            "type": "scattercarpet"
           }
          ],
          "scattergeo": [
           {
            "marker": {
             "colorbar": {
              "outlinewidth": 0,
              "ticks": ""
             }
            },
            "type": "scattergeo"
           }
          ],
          "scattergl": [
           {
            "marker": {
             "colorbar": {
              "outlinewidth": 0,
              "ticks": ""
             }
            },
            "type": "scattergl"
           }
          ],
          "scattermapbox": [
           {
            "marker": {
             "colorbar": {
              "outlinewidth": 0,
              "ticks": ""
             }
            },
            "type": "scattermapbox"
           }
          ],
          "scatterpolar": [
           {
            "marker": {
             "colorbar": {
              "outlinewidth": 0,
              "ticks": ""
             }
            },
            "type": "scatterpolar"
           }
          ],
          "scatterpolargl": [
           {
            "marker": {
             "colorbar": {
              "outlinewidth": 0,
              "ticks": ""
             }
            },
            "type": "scatterpolargl"
           }
          ],
          "scatterternary": [
           {
            "marker": {
             "colorbar": {
              "outlinewidth": 0,
              "ticks": ""
             }
            },
            "type": "scatterternary"
           }
          ],
          "surface": [
           {
            "colorbar": {
             "outlinewidth": 0,
             "ticks": ""
            },
            "colorscale": [
             [
              0,
              "#0d0887"
             ],
             [
              0.1111111111111111,
              "#46039f"
             ],
             [
              0.2222222222222222,
              "#7201a8"
             ],
             [
              0.3333333333333333,
              "#9c179e"
             ],
             [
              0.4444444444444444,
              "#bd3786"
             ],
             [
              0.5555555555555556,
              "#d8576b"
             ],
             [
              0.6666666666666666,
              "#ed7953"
             ],
             [
              0.7777777777777778,
              "#fb9f3a"
             ],
             [
              0.8888888888888888,
              "#fdca26"
             ],
             [
              1,
              "#f0f921"
             ]
            ],
            "type": "surface"
           }
          ],
          "table": [
           {
            "cells": {
             "fill": {
              "color": "#EBF0F8"
             },
             "line": {
              "color": "white"
             }
            },
            "header": {
             "fill": {
              "color": "#C8D4E3"
             },
             "line": {
              "color": "white"
             }
            },
            "type": "table"
           }
          ]
         },
         "layout": {
          "annotationdefaults": {
           "arrowcolor": "#2a3f5f",
           "arrowhead": 0,
           "arrowwidth": 1
          },
          "autotypenumbers": "strict",
          "coloraxis": {
           "colorbar": {
            "outlinewidth": 0,
            "ticks": ""
           }
          },
          "colorscale": {
           "diverging": [
            [
             0,
             "#8e0152"
            ],
            [
             0.1,
             "#c51b7d"
            ],
            [
             0.2,
             "#de77ae"
            ],
            [
             0.3,
             "#f1b6da"
            ],
            [
             0.4,
             "#fde0ef"
            ],
            [
             0.5,
             "#f7f7f7"
            ],
            [
             0.6,
             "#e6f5d0"
            ],
            [
             0.7,
             "#b8e186"
            ],
            [
             0.8,
             "#7fbc41"
            ],
            [
             0.9,
             "#4d9221"
            ],
            [
             1,
             "#276419"
            ]
           ],
           "sequential": [
            [
             0,
             "#0d0887"
            ],
            [
             0.1111111111111111,
             "#46039f"
            ],
            [
             0.2222222222222222,
             "#7201a8"
            ],
            [
             0.3333333333333333,
             "#9c179e"
            ],
            [
             0.4444444444444444,
             "#bd3786"
            ],
            [
             0.5555555555555556,
             "#d8576b"
            ],
            [
             0.6666666666666666,
             "#ed7953"
            ],
            [
             0.7777777777777778,
             "#fb9f3a"
            ],
            [
             0.8888888888888888,
             "#fdca26"
            ],
            [
             1,
             "#f0f921"
            ]
           ],
           "sequentialminus": [
            [
             0,
             "#0d0887"
            ],
            [
             0.1111111111111111,
             "#46039f"
            ],
            [
             0.2222222222222222,
             "#7201a8"
            ],
            [
             0.3333333333333333,
             "#9c179e"
            ],
            [
             0.4444444444444444,
             "#bd3786"
            ],
            [
             0.5555555555555556,
             "#d8576b"
            ],
            [
             0.6666666666666666,
             "#ed7953"
            ],
            [
             0.7777777777777778,
             "#fb9f3a"
            ],
            [
             0.8888888888888888,
             "#fdca26"
            ],
            [
             1,
             "#f0f921"
            ]
           ]
          },
          "colorway": [
           "#636efa",
           "#EF553B",
           "#00cc96",
           "#ab63fa",
           "#FFA15A",
           "#19d3f3",
           "#FF6692",
           "#B6E880",
           "#FF97FF",
           "#FECB52"
          ],
          "font": {
           "color": "#2a3f5f"
          },
          "geo": {
           "bgcolor": "white",
           "lakecolor": "white",
           "landcolor": "#E5ECF6",
           "showlakes": true,
           "showland": true,
           "subunitcolor": "white"
          },
          "hoverlabel": {
           "align": "left"
          },
          "hovermode": "closest",
          "mapbox": {
           "style": "light"
          },
          "paper_bgcolor": "white",
          "plot_bgcolor": "#E5ECF6",
          "polar": {
           "angularaxis": {
            "gridcolor": "white",
            "linecolor": "white",
            "ticks": ""
           },
           "bgcolor": "#E5ECF6",
           "radialaxis": {
            "gridcolor": "white",
            "linecolor": "white",
            "ticks": ""
           }
          },
          "scene": {
           "xaxis": {
            "backgroundcolor": "#E5ECF6",
            "gridcolor": "white",
            "gridwidth": 2,
            "linecolor": "white",
            "showbackground": true,
            "ticks": "",
            "zerolinecolor": "white"
           },
           "yaxis": {
            "backgroundcolor": "#E5ECF6",
            "gridcolor": "white",
            "gridwidth": 2,
            "linecolor": "white",
            "showbackground": true,
            "ticks": "",
            "zerolinecolor": "white"
           },
           "zaxis": {
            "backgroundcolor": "#E5ECF6",
            "gridcolor": "white",
            "gridwidth": 2,
            "linecolor": "white",
            "showbackground": true,
            "ticks": "",
            "zerolinecolor": "white"
           }
          },
          "shapedefaults": {
           "line": {
            "color": "#2a3f5f"
           }
          },
          "ternary": {
           "aaxis": {
            "gridcolor": "white",
            "linecolor": "white",
            "ticks": ""
           },
           "baxis": {
            "gridcolor": "white",
            "linecolor": "white",
            "ticks": ""
           },
           "bgcolor": "#E5ECF6",
           "caxis": {
            "gridcolor": "white",
            "linecolor": "white",
            "ticks": ""
           }
          },
          "title": {
           "x": 0.05
          },
          "xaxis": {
           "automargin": true,
           "gridcolor": "white",
           "linecolor": "white",
           "ticks": "",
           "title": {
            "standoff": 15
           },
           "zerolinecolor": "white",
           "zerolinewidth": 2
          },
          "yaxis": {
           "automargin": true,
           "gridcolor": "white",
           "linecolor": "white",
           "ticks": "",
           "title": {
            "standoff": 15
           },
           "zerolinecolor": "white",
           "zerolinewidth": 2
          }
         }
        },
        "title": {
         "font": {
          "size": 16
         },
         "text": "Flash Point: Fire Rescue"
        },
        "xaxis": {
         "showgrid": false,
         "zeroline": false
        },
        "yaxis": {
         "showgrid": false,
         "zeroline": false
        }
       }
      }
     },
     "metadata": {},
     "output_type": "display_data"
    },
    {
     "name": "stdout",
     "output_type": "stream",
     "text": [
      "Con humo\n"
     ]
    },
    {
     "data": {
      "application/vnd.plotly.v1+json": {
       "config": {
        "plotlyServerURL": "https://plot.ly"
       },
       "data": [
        {
         "hoverinfo": "none",
         "line": {
          "color": "green",
          "width": 2
         },
         "mode": "lines",
         "type": "scatter",
         "x": [
          0,
          0,
          null
         ],
         "y": [
          0,
          -1,
          null
         ]
        },
        {
         "hoverinfo": "none",
         "line": {
          "color": "green",
          "width": 2
         },
         "mode": "lines",
         "type": "scatter",
         "x": [
          0,
          1,
          null
         ],
         "y": [
          0,
          0,
          null
         ]
        },
        {
         "hoverinfo": "none",
         "line": {
          "color": "green",
          "width": 2
         },
         "mode": "lines",
         "type": "scatter",
         "x": [
          1,
          1,
          null
         ],
         "y": [
          0,
          -1,
          null
         ]
        },
        {
         "hoverinfo": "none",
         "line": {
          "color": "green",
          "width": 2
         },
         "mode": "lines",
         "type": "scatter",
         "x": [
          1,
          2,
          null
         ],
         "y": [
          0,
          0,
          null
         ]
        },
        {
         "hoverinfo": "none",
         "line": {
          "color": "green",
          "width": 2
         },
         "mode": "lines",
         "type": "scatter",
         "x": [
          2,
          2,
          null
         ],
         "y": [
          0,
          -1,
          null
         ]
        },
        {
         "hoverinfo": "none",
         "line": {
          "color": "blue",
          "width": 2
         },
         "mode": "lines",
         "type": "scatter",
         "x": [
          2,
          3,
          null
         ],
         "y": [
          0,
          0,
          null
         ]
        },
        {
         "hoverinfo": "none",
         "line": {
          "color": "green",
          "width": 2
         },
         "mode": "lines",
         "type": "scatter",
         "x": [
          3,
          3,
          null
         ],
         "y": [
          0,
          -1,
          null
         ]
        },
        {
         "hoverinfo": "none",
         "line": {
          "color": "green",
          "width": 2
         },
         "mode": "lines",
         "type": "scatter",
         "x": [
          3,
          4,
          null
         ],
         "y": [
          0,
          0,
          null
         ]
        },
        {
         "hoverinfo": "none",
         "line": {
          "color": "green",
          "width": 2
         },
         "mode": "lines",
         "type": "scatter",
         "x": [
          4,
          4,
          null
         ],
         "y": [
          0,
          -1,
          null
         ]
        },
        {
         "hoverinfo": "none",
         "line": {
          "color": "red",
          "width": 2
         },
         "mode": "lines",
         "type": "scatter",
         "x": [
          4,
          5,
          null
         ],
         "y": [
          0,
          0,
          null
         ]
        },
        {
         "hoverinfo": "none",
         "line": {
          "color": "green",
          "width": 2
         },
         "mode": "lines",
         "type": "scatter",
         "x": [
          5,
          5,
          null
         ],
         "y": [
          0,
          -1,
          null
         ]
        },
        {
         "hoverinfo": "none",
         "line": {
          "color": "green",
          "width": 2
         },
         "mode": "lines",
         "type": "scatter",
         "x": [
          5,
          6,
          null
         ],
         "y": [
          0,
          0,
          null
         ]
        },
        {
         "hoverinfo": "none",
         "line": {
          "color": "green",
          "width": 2
         },
         "mode": "lines",
         "type": "scatter",
         "x": [
          6,
          6,
          null
         ],
         "y": [
          0,
          -1,
          null
         ]
        },
        {
         "hoverinfo": "none",
         "line": {
          "color": "green",
          "width": 2
         },
         "mode": "lines",
         "type": "scatter",
         "x": [
          6,
          7,
          null
         ],
         "y": [
          0,
          0,
          null
         ]
        },
        {
         "hoverinfo": "none",
         "line": {
          "color": "green",
          "width": 2
         },
         "mode": "lines",
         "type": "scatter",
         "x": [
          7,
          7,
          null
         ],
         "y": [
          0,
          -1,
          null
         ]
        },
        {
         "hoverinfo": "none",
         "line": {
          "color": "green",
          "width": 2
         },
         "mode": "lines",
         "type": "scatter",
         "x": [
          0,
          0,
          null
         ],
         "y": [
          -1,
          -2,
          null
         ]
        },
        {
         "hoverinfo": "none",
         "line": {
          "color": "green",
          "width": 2
         },
         "mode": "lines",
         "type": "scatter",
         "x": [
          0,
          1,
          null
         ],
         "y": [
          -1,
          -1,
          null
         ]
        },
        {
         "hoverinfo": "none",
         "line": {
          "color": "green",
          "width": 2
         },
         "mode": "lines",
         "type": "scatter",
         "x": [
          1,
          1,
          null
         ],
         "y": [
          -1,
          -2,
          null
         ]
        },
        {
         "hoverinfo": "none",
         "line": {
          "color": "green",
          "width": 2
         },
         "mode": "lines",
         "type": "scatter",
         "x": [
          1,
          2,
          null
         ],
         "y": [
          -1,
          -1,
          null
         ]
        },
        {
         "hoverinfo": "none",
         "line": {
          "color": "red",
          "width": 2
         },
         "mode": "lines",
         "type": "scatter",
         "x": [
          2,
          2,
          null
         ],
         "y": [
          -1,
          -2,
          null
         ]
        },
        {
         "hoverinfo": "none",
         "line": {
          "color": "red",
          "width": 2
         },
         "mode": "lines",
         "type": "scatter",
         "x": [
          2,
          3,
          null
         ],
         "y": [
          -1,
          -1,
          null
         ]
        },
        {
         "hoverinfo": "none",
         "line": {
          "color": "green",
          "width": 2
         },
         "mode": "lines",
         "type": "scatter",
         "x": [
          3,
          3,
          null
         ],
         "y": [
          -1,
          -2,
          null
         ]
        },
        {
         "hoverinfo": "none",
         "line": {
          "color": "green",
          "width": 2
         },
         "mode": "lines",
         "type": "scatter",
         "x": [
          3,
          4,
          null
         ],
         "y": [
          -1,
          -1,
          null
         ]
        },
        {
         "hoverinfo": "none",
         "line": {
          "color": "red",
          "width": 2
         },
         "mode": "lines",
         "type": "scatter",
         "x": [
          4,
          4,
          null
         ],
         "y": [
          -1,
          -2,
          null
         ]
        },
        {
         "hoverinfo": "none",
         "line": {
          "color": "blue",
          "width": 2
         },
         "mode": "lines",
         "type": "scatter",
         "x": [
          4,
          5,
          null
         ],
         "y": [
          -1,
          -1,
          null
         ]
        },
        {
         "hoverinfo": "none",
         "line": {
          "color": "red",
          "width": 2
         },
         "mode": "lines",
         "type": "scatter",
         "x": [
          5,
          5,
          null
         ],
         "y": [
          -1,
          -2,
          null
         ]
        },
        {
         "hoverinfo": "none",
         "line": {
          "color": "green",
          "width": 2
         },
         "mode": "lines",
         "type": "scatter",
         "x": [
          5,
          6,
          null
         ],
         "y": [
          -1,
          -1,
          null
         ]
        },
        {
         "hoverinfo": "none",
         "line": {
          "color": "red",
          "width": 2
         },
         "mode": "lines",
         "type": "scatter",
         "x": [
          6,
          6,
          null
         ],
         "y": [
          -1,
          -2,
          null
         ]
        },
        {
         "hoverinfo": "none",
         "line": {
          "color": "green",
          "width": 2
         },
         "mode": "lines",
         "type": "scatter",
         "x": [
          6,
          7,
          null
         ],
         "y": [
          -1,
          -1,
          null
         ]
        },
        {
         "hoverinfo": "none",
         "line": {
          "color": "blue",
          "width": 2
         },
         "mode": "lines",
         "type": "scatter",
         "x": [
          7,
          7,
          null
         ],
         "y": [
          -1,
          -2,
          null
         ]
        },
        {
         "hoverinfo": "none",
         "line": {
          "color": "green",
          "width": 2
         },
         "mode": "lines",
         "type": "scatter",
         "x": [
          0,
          0,
          null
         ],
         "y": [
          -2,
          -3,
          null
         ]
        },
        {
         "hoverinfo": "none",
         "line": {
          "color": "green",
          "width": 2
         },
         "mode": "lines",
         "type": "scatter",
         "x": [
          0,
          1,
          null
         ],
         "y": [
          -2,
          -2,
          null
         ]
        },
        {
         "hoverinfo": "none",
         "line": {
          "color": "green",
          "width": 2
         },
         "mode": "lines",
         "type": "scatter",
         "x": [
          1,
          1,
          null
         ],
         "y": [
          -2,
          -3,
          null
         ]
        },
        {
         "hoverinfo": "none",
         "line": {
          "color": "blue",
          "width": 2
         },
         "mode": "lines",
         "type": "scatter",
         "x": [
          1,
          2,
          null
         ],
         "y": [
          -2,
          -2,
          null
         ]
        },
        {
         "hoverinfo": "none",
         "line": {
          "color": "green",
          "width": 2
         },
         "mode": "lines",
         "type": "scatter",
         "x": [
          2,
          2,
          null
         ],
         "y": [
          -2,
          -3,
          null
         ]
        },
        {
         "hoverinfo": "none",
         "line": {
          "color": "green",
          "width": 2
         },
         "mode": "lines",
         "type": "scatter",
         "x": [
          2,
          3,
          null
         ],
         "y": [
          -2,
          -2,
          null
         ]
        },
        {
         "hoverinfo": "none",
         "line": {
          "color": "green",
          "width": 2
         },
         "mode": "lines",
         "type": "scatter",
         "x": [
          3,
          3,
          null
         ],
         "y": [
          -2,
          -3,
          null
         ]
        },
        {
         "hoverinfo": "none",
         "line": {
          "color": "green",
          "width": 2
         },
         "mode": "lines",
         "type": "scatter",
         "x": [
          3,
          4,
          null
         ],
         "y": [
          -2,
          -2,
          null
         ]
        },
        {
         "hoverinfo": "none",
         "line": {
          "color": "green",
          "width": 2
         },
         "mode": "lines",
         "type": "scatter",
         "x": [
          4,
          4,
          null
         ],
         "y": [
          -2,
          -3,
          null
         ]
        },
        {
         "hoverinfo": "none",
         "line": {
          "color": "green",
          "width": 2
         },
         "mode": "lines",
         "type": "scatter",
         "x": [
          4,
          5,
          null
         ],
         "y": [
          -2,
          -2,
          null
         ]
        },
        {
         "hoverinfo": "none",
         "line": {
          "color": "green",
          "width": 2
         },
         "mode": "lines",
         "type": "scatter",
         "x": [
          5,
          5,
          null
         ],
         "y": [
          -2,
          -3,
          null
         ]
        },
        {
         "hoverinfo": "none",
         "line": {
          "color": "red",
          "width": 2
         },
         "mode": "lines",
         "type": "scatter",
         "x": [
          5,
          6,
          null
         ],
         "y": [
          -2,
          -2,
          null
         ]
        },
        {
         "hoverinfo": "none",
         "line": {
          "color": "green",
          "width": 2
         },
         "mode": "lines",
         "type": "scatter",
         "x": [
          6,
          6,
          null
         ],
         "y": [
          -2,
          -3,
          null
         ]
        },
        {
         "hoverinfo": "none",
         "line": {
          "color": "green",
          "width": 2
         },
         "mode": "lines",
         "type": "scatter",
         "x": [
          6,
          7,
          null
         ],
         "y": [
          -2,
          -2,
          null
         ]
        },
        {
         "hoverinfo": "none",
         "line": {
          "color": "green",
          "width": 2
         },
         "mode": "lines",
         "type": "scatter",
         "x": [
          7,
          7,
          null
         ],
         "y": [
          -2,
          -3,
          null
         ]
        },
        {
         "hoverinfo": "none",
         "line": {
          "color": "green",
          "width": 2
         },
         "mode": "lines",
         "type": "scatter",
         "x": [
          0,
          0,
          null
         ],
         "y": [
          -3,
          -4,
          null
         ]
        },
        {
         "hoverinfo": "none",
         "line": {
          "color": "green",
          "width": 2
         },
         "mode": "lines",
         "type": "scatter",
         "x": [
          0,
          1,
          null
         ],
         "y": [
          -3,
          -3,
          null
         ]
        },
        {
         "hoverinfo": "none",
         "line": {
          "color": "red",
          "width": 2
         },
         "mode": "lines",
         "type": "scatter",
         "x": [
          1,
          1,
          null
         ],
         "y": [
          -3,
          -4,
          null
         ]
        },
        {
         "hoverinfo": "none",
         "line": {
          "color": "red",
          "width": 2
         },
         "mode": "lines",
         "type": "scatter",
         "x": [
          1,
          2,
          null
         ],
         "y": [
          -3,
          -3,
          null
         ]
        },
        {
         "hoverinfo": "none",
         "line": {
          "color": "red",
          "width": 2
         },
         "mode": "lines",
         "type": "scatter",
         "x": [
          2,
          2,
          null
         ],
         "y": [
          -3,
          -4,
          null
         ]
        },
        {
         "hoverinfo": "none",
         "line": {
          "color": "green",
          "width": 2
         },
         "mode": "lines",
         "type": "scatter",
         "x": [
          2,
          3,
          null
         ],
         "y": [
          -3,
          -3,
          null
         ]
        },
        {
         "hoverinfo": "none",
         "line": {
          "color": "blue",
          "width": 2
         },
         "mode": "lines",
         "type": "scatter",
         "x": [
          3,
          3,
          null
         ],
         "y": [
          -3,
          -4,
          null
         ]
        },
        {
         "hoverinfo": "none",
         "line": {
          "color": "green",
          "width": 2
         },
         "mode": "lines",
         "type": "scatter",
         "x": [
          3,
          4,
          null
         ],
         "y": [
          -3,
          -3,
          null
         ]
        },
        {
         "hoverinfo": "none",
         "line": {
          "color": "red",
          "width": 2
         },
         "mode": "lines",
         "type": "scatter",
         "x": [
          4,
          4,
          null
         ],
         "y": [
          -3,
          -4,
          null
         ]
        },
        {
         "hoverinfo": "none",
         "line": {
          "color": "green",
          "width": 2
         },
         "mode": "lines",
         "type": "scatter",
         "x": [
          4,
          5,
          null
         ],
         "y": [
          -3,
          -3,
          null
         ]
        },
        {
         "hoverinfo": "none",
         "line": {
          "color": "red",
          "width": 2
         },
         "mode": "lines",
         "type": "scatter",
         "x": [
          5,
          5,
          null
         ],
         "y": [
          -3,
          -4,
          null
         ]
        },
        {
         "hoverinfo": "none",
         "line": {
          "color": "blue",
          "width": 2
         },
         "mode": "lines",
         "type": "scatter",
         "x": [
          5,
          6,
          null
         ],
         "y": [
          -3,
          -3,
          null
         ]
        },
        {
         "hoverinfo": "none",
         "line": {
          "color": "red",
          "width": 2
         },
         "mode": "lines",
         "type": "scatter",
         "x": [
          6,
          6,
          null
         ],
         "y": [
          -3,
          -4,
          null
         ]
        },
        {
         "hoverinfo": "none",
         "line": {
          "color": "green",
          "width": 2
         },
         "mode": "lines",
         "type": "scatter",
         "x": [
          6,
          7,
          null
         ],
         "y": [
          -3,
          -3,
          null
         ]
        },
        {
         "hoverinfo": "none",
         "line": {
          "color": "red",
          "width": 2
         },
         "mode": "lines",
         "type": "scatter",
         "x": [
          7,
          7,
          null
         ],
         "y": [
          -3,
          -4,
          null
         ]
        },
        {
         "hoverinfo": "none",
         "line": {
          "color": "green",
          "width": 2
         },
         "mode": "lines",
         "type": "scatter",
         "x": [
          0,
          0,
          null
         ],
         "y": [
          -4,
          -5,
          null
         ]
        },
        {
         "hoverinfo": "none",
         "line": {
          "color": "green",
          "width": 2
         },
         "mode": "lines",
         "type": "scatter",
         "x": [
          0,
          1,
          null
         ],
         "y": [
          -4,
          -4,
          null
         ]
        },
        {
         "hoverinfo": "none",
         "line": {
          "color": "green",
          "width": 2
         },
         "mode": "lines",
         "type": "scatter",
         "x": [
          1,
          1,
          null
         ],
         "y": [
          -4,
          -5,
          null
         ]
        },
        {
         "hoverinfo": "none",
         "line": {
          "color": "green",
          "width": 2
         },
         "mode": "lines",
         "type": "scatter",
         "x": [
          1,
          2,
          null
         ],
         "y": [
          -4,
          -4,
          null
         ]
        },
        {
         "hoverinfo": "none",
         "line": {
          "color": "green",
          "width": 2
         },
         "mode": "lines",
         "type": "scatter",
         "x": [
          2,
          2,
          null
         ],
         "y": [
          -4,
          -5,
          null
         ]
        },
        {
         "hoverinfo": "none",
         "line": {
          "color": "green",
          "width": 2
         },
         "mode": "lines",
         "type": "scatter",
         "x": [
          2,
          3,
          null
         ],
         "y": [
          -4,
          -4,
          null
         ]
        },
        {
         "hoverinfo": "none",
         "line": {
          "color": "green",
          "width": 2
         },
         "mode": "lines",
         "type": "scatter",
         "x": [
          3,
          3,
          null
         ],
         "y": [
          -4,
          -5,
          null
         ]
        },
        {
         "hoverinfo": "none",
         "line": {
          "color": "green",
          "width": 2
         },
         "mode": "lines",
         "type": "scatter",
         "x": [
          3,
          4,
          null
         ],
         "y": [
          -4,
          -4,
          null
         ]
        },
        {
         "hoverinfo": "none",
         "line": {
          "color": "green",
          "width": 2
         },
         "mode": "lines",
         "type": "scatter",
         "x": [
          4,
          4,
          null
         ],
         "y": [
          -4,
          -5,
          null
         ]
        },
        {
         "hoverinfo": "none",
         "line": {
          "color": "red",
          "width": 2
         },
         "mode": "lines",
         "type": "scatter",
         "x": [
          4,
          5,
          null
         ],
         "y": [
          -4,
          -4,
          null
         ]
        },
        {
         "hoverinfo": "none",
         "line": {
          "color": "green",
          "width": 2
         },
         "mode": "lines",
         "type": "scatter",
         "x": [
          5,
          5,
          null
         ],
         "y": [
          -4,
          -5,
          null
         ]
        },
        {
         "hoverinfo": "none",
         "line": {
          "color": "green",
          "width": 2
         },
         "mode": "lines",
         "type": "scatter",
         "x": [
          5,
          6,
          null
         ],
         "y": [
          -4,
          -4,
          null
         ]
        },
        {
         "hoverinfo": "none",
         "line": {
          "color": "green",
          "width": 2
         },
         "mode": "lines",
         "type": "scatter",
         "x": [
          6,
          6,
          null
         ],
         "y": [
          -4,
          -5,
          null
         ]
        },
        {
         "hoverinfo": "none",
         "line": {
          "color": "red",
          "width": 2
         },
         "mode": "lines",
         "type": "scatter",
         "x": [
          6,
          7,
          null
         ],
         "y": [
          -4,
          -4,
          null
         ]
        },
        {
         "hoverinfo": "none",
         "line": {
          "color": "green",
          "width": 2
         },
         "mode": "lines",
         "type": "scatter",
         "x": [
          7,
          7,
          null
         ],
         "y": [
          -4,
          -5,
          null
         ]
        },
        {
         "hoverinfo": "none",
         "line": {
          "color": "green",
          "width": 2
         },
         "mode": "lines",
         "type": "scatter",
         "x": [
          0,
          1,
          null
         ],
         "y": [
          -5,
          -5,
          null
         ]
        },
        {
         "hoverinfo": "none",
         "line": {
          "color": "green",
          "width": 2
         },
         "mode": "lines",
         "type": "scatter",
         "x": [
          1,
          2,
          null
         ],
         "y": [
          -5,
          -5,
          null
         ]
        },
        {
         "hoverinfo": "none",
         "line": {
          "color": "green",
          "width": 2
         },
         "mode": "lines",
         "type": "scatter",
         "x": [
          2,
          3,
          null
         ],
         "y": [
          -5,
          -5,
          null
         ]
        },
        {
         "hoverinfo": "none",
         "line": {
          "color": "green",
          "width": 2
         },
         "mode": "lines",
         "type": "scatter",
         "x": [
          3,
          4,
          null
         ],
         "y": [
          -5,
          -5,
          null
         ]
        },
        {
         "hoverinfo": "none",
         "line": {
          "color": "blue",
          "width": 2
         },
         "mode": "lines",
         "type": "scatter",
         "x": [
          4,
          5,
          null
         ],
         "y": [
          -5,
          -5,
          null
         ]
        },
        {
         "hoverinfo": "none",
         "line": {
          "color": "green",
          "width": 2
         },
         "mode": "lines",
         "type": "scatter",
         "x": [
          5,
          6,
          null
         ],
         "y": [
          -5,
          -5,
          null
         ]
        },
        {
         "hoverinfo": "none",
         "line": {
          "color": "blue",
          "width": 2
         },
         "mode": "lines",
         "type": "scatter",
         "x": [
          6,
          7,
          null
         ],
         "y": [
          -5,
          -5,
          null
         ]
        },
        {
         "hoverinfo": "text",
         "marker": {
          "color": [
           "black",
           "black",
           "black",
           "black",
           "black",
           "green",
           "black",
           "black",
           "black",
           "red",
           "red",
           "blue",
           "black",
           "black",
           "black",
           "black",
           "orange",
           "red",
           "red",
           "red",
           "red",
           "black",
           "black",
           "black",
           "orange",
           "orange",
           "black",
           "red",
           "black",
           "black",
           "black",
           "green",
           "blue",
           "orange",
           "black",
           "black",
           "black",
           "red",
           "red",
           "blue",
           "black",
           "black",
           "green",
           "black",
           "black",
           "red",
           "black",
           "black"
          ],
          "size": 10
         },
         "mode": "markers",
         "text": [
          "Posición: (0, 0)<br>Adyacentes: (1, 0): path, (0, 1): path<br>Fuego: 0<br>POI: None<br>Es punto de entrada: False",
          "Posición: (0, 1)<br>Adyacentes: (0, 0): path, (1, 1): path, (0, 2): path<br>Fuego: 0<br>POI: None<br>Es punto de entrada: False",
          "Posición: (0, 2)<br>Adyacentes: (0, 1): path, (1, 2): path, (0, 3): door<br>Fuego: 0<br>POI: None<br>Es punto de entrada: False",
          "Posición: (0, 3)<br>Adyacentes: (0, 2): door, (1, 3): path, (0, 4): path<br>Fuego: 0<br>POI: None<br>Es punto de entrada: False",
          "Posición: (0, 4)<br>Adyacentes: (0, 3): path, (1, 4): path, (0, 5): wall<br>Fuego: 0<br>POI: None<br>Es punto de entrada: False",
          "Posición: (0, 5)<br>Adyacentes: (0, 4): wall, (1, 5): path, (0, 6): path<br>Fuego: 0<br>POI: None<br>Es punto de entrada: True",
          "Posición: (0, 6)<br>Adyacentes: (0, 5): path, (1, 6): path, (0, 7): path<br>Fuego: 0<br>POI: None<br>Es punto de entrada: False",
          "Posición: (0, 7)<br>Adyacentes: (0, 6): path, (1, 7): path<br>Fuego: 0<br>POI: None<br>Es punto de entrada: False",
          "Posición: (1, 0)<br>Adyacentes: (0, 0): path, (2, 0): path, (1, 1): path<br>Fuego: 0<br>POI: None<br>Es punto de entrada: False",
          "Posición: (1, 1)<br>Adyacentes: (0, 1): path, (1, 0): path, (2, 1): path, (1, 2): path<br>Fuego: 2<br>POI: None<br>Es punto de entrada: False",
          "Posición: (1, 2)<br>Adyacentes: (0, 2): path, (1, 1): path, (2, 2): wall, (1, 3): wall<br>Fuego: 2<br>POI: None<br>Es punto de entrada: False",
          "Posición: (1, 3)<br>Adyacentes: (0, 3): path, (1, 2): wall, (2, 3): path, (1, 4): path<br>Fuego: 0<br>POI: True<br>Es punto de entrada: False",
          "Posición: (1, 4)<br>Adyacentes: (0, 4): path, (1, 3): path, (2, 4): wall, (1, 5): door<br>Fuego: 0<br>POI: None<br>Es punto de entrada: False",
          "Posición: (1, 5)<br>Adyacentes: (0, 5): path, (1, 4): door, (2, 5): wall, (1, 6): path<br>Fuego: 0<br>POI: None<br>Es punto de entrada: False",
          "Posición: (1, 6)<br>Adyacentes: (0, 6): path, (1, 5): path, (2, 6): wall, (1, 7): path<br>Fuego: 0<br>POI: None<br>Es punto de entrada: False",
          "Posición: (1, 7)<br>Adyacentes: (0, 7): path, (1, 6): path, (2, 7): door<br>Fuego: 0<br>POI: None<br>Es punto de entrada: False",
          "Posición: (2, 0)<br>Adyacentes: (1, 0): path, (3, 0): path, (2, 1): path<br>Fuego: 1<br>POI: None<br>Es punto de entrada: True",
          "Posición: (2, 1)<br>Adyacentes: (1, 1): path, (2, 0): path, (3, 1): path, (2, 2): door<br>Fuego: 2<br>POI: None<br>Es punto de entrada: False",
          "Posición: (2, 2)<br>Adyacentes: (1, 2): wall, (2, 1): door, (3, 2): path, (2, 3): path<br>Fuego: 2<br>POI: None<br>Es punto de entrada: False",
          "Posición: (2, 3)<br>Adyacentes: (1, 3): path, (2, 2): path, (3, 3): path, (2, 4): path<br>Fuego: 2<br>POI: None<br>Es punto de entrada: False",
          "Posición: (2, 4)<br>Adyacentes: (1, 4): wall, (2, 3): path, (3, 4): path, (2, 5): path<br>Fuego: 2<br>POI: None<br>Es punto de entrada: False",
          "Posición: (2, 5)<br>Adyacentes: (1, 5): wall, (2, 4): path, (3, 5): path, (2, 6): wall<br>Fuego: 0<br>POI: None<br>Es punto de entrada: False",
          "Posición: (2, 6)<br>Adyacentes: (1, 6): wall, (2, 5): wall, (3, 6): path, (2, 7): path<br>Fuego: 0<br>POI: None<br>Es punto de entrada: False",
          "Posición: (2, 7)<br>Adyacentes: (1, 7): door, (2, 6): path, (3, 7): path<br>Fuego: 0<br>POI: None<br>Es punto de entrada: False",
          "Posición: (3, 0)<br>Adyacentes: (2, 0): path, (4, 0): path, (3, 1): path<br>Fuego: 1<br>POI: None<br>Es punto de entrada: False",
          "Posición: (3, 1)<br>Adyacentes: (2, 1): path, (3, 0): path, (4, 1): wall, (3, 2): wall<br>Fuego: 1<br>POI: None<br>Es punto de entrada: False",
          "Posición: (3, 2)<br>Adyacentes: (2, 2): path, (3, 1): wall, (4, 2): wall, (3, 3): path<br>Fuego: 0<br>POI: None<br>Es punto de entrada: False",
          "Posición: (3, 3)<br>Adyacentes: (2, 3): path, (3, 2): path, (4, 3): door, (3, 4): path<br>Fuego: 2<br>POI: None<br>Es punto de entrada: False",
          "Posición: (3, 4)<br>Adyacentes: (2, 4): path, (3, 3): path, (4, 4): wall, (3, 5): path<br>Fuego: 0<br>POI: None<br>Es punto de entrada: False",
          "Posición: (3, 5)<br>Adyacentes: (2, 5): path, (3, 4): path, (4, 5): wall, (3, 6): door<br>Fuego: 0<br>POI: None<br>Es punto de entrada: False",
          "Posición: (3, 6)<br>Adyacentes: (2, 6): path, (3, 5): door, (4, 6): wall, (3, 7): path<br>Fuego: 0<br>POI: None<br>Es punto de entrada: False",
          "Posición: (3, 7)<br>Adyacentes: (2, 7): path, (3, 6): path, (4, 7): wall<br>Fuego: 0<br>POI: None<br>Es punto de entrada: True",
          "Posición: (4, 0)<br>Adyacentes: (3, 0): path, (5, 0): path, (4, 1): path<br>Fuego: 0<br>POI: False<br>Es punto de entrada: False",
          "Posición: (4, 1)<br>Adyacentes: (3, 1): wall, (4, 0): path, (5, 1): path, (4, 2): path<br>Fuego: 1<br>POI: None<br>Es punto de entrada: False",
          "Posición: (4, 2)<br>Adyacentes: (3, 2): wall, (4, 1): path, (5, 2): path, (4, 3): path<br>Fuego: 0<br>POI: None<br>Es punto de entrada: False",
          "Posición: (4, 3)<br>Adyacentes: (3, 3): door, (4, 2): path, (5, 3): path, (4, 4): path<br>Fuego: 0<br>POI: None<br>Es punto de entrada: False",
          "Posición: (4, 4)<br>Adyacentes: (3, 4): wall, (4, 3): path, (5, 4): path, (4, 5): wall<br>Fuego: 0<br>POI: None<br>Es punto de entrada: False",
          "Posición: (4, 5)<br>Adyacentes: (3, 5): wall, (4, 4): wall, (5, 5): path, (4, 6): path<br>Fuego: 2<br>POI: None<br>Es punto de entrada: False",
          "Posición: (4, 6)<br>Adyacentes: (3, 6): wall, (4, 5): path, (5, 6): path, (4, 7): wall<br>Fuego: 2<br>POI: None<br>Es punto de entrada: False",
          "Posición: (4, 7)<br>Adyacentes: (3, 7): wall, (4, 6): wall, (5, 7): path<br>Fuego: 0<br>POI: True<br>Es punto de entrada: False",
          "Posición: (5, 0)<br>Adyacentes: (4, 0): path, (5, 1): path<br>Fuego: 0<br>POI: None<br>Es punto de entrada: False",
          "Posición: (5, 1)<br>Adyacentes: (4, 1): path, (5, 0): path, (5, 2): path<br>Fuego: 0<br>POI: None<br>Es punto de entrada: False",
          "Posición: (5, 2)<br>Adyacentes: (4, 2): path, (5, 1): path, (5, 3): path<br>Fuego: 0<br>POI: None<br>Es punto de entrada: True",
          "Posición: (5, 3)<br>Adyacentes: (4, 3): path, (5, 2): path, (5, 4): path<br>Fuego: 0<br>POI: None<br>Es punto de entrada: False",
          "Posición: (5, 4)<br>Adyacentes: (4, 4): path, (5, 3): path, (5, 5): door<br>Fuego: 0<br>POI: None<br>Es punto de entrada: False",
          "Posición: (5, 5)<br>Adyacentes: (4, 5): path, (5, 4): door, (5, 6): path<br>Fuego: 2<br>POI: None<br>Es punto de entrada: False",
          "Posición: (5, 6)<br>Adyacentes: (4, 6): path, (5, 5): path, (5, 7): door<br>Fuego: 0<br>POI: None<br>Es punto de entrada: False",
          "Posición: (5, 7)<br>Adyacentes: (4, 7): path, (5, 6): door<br>Fuego: 0<br>POI: None<br>Es punto de entrada: False"
         ],
         "type": "scatter",
         "x": [
          0,
          1,
          2,
          3,
          4,
          5,
          6,
          7,
          0,
          1,
          2,
          3,
          4,
          5,
          6,
          7,
          0,
          1,
          2,
          3,
          4,
          5,
          6,
          7,
          0,
          1,
          2,
          3,
          4,
          5,
          6,
          7,
          0,
          1,
          2,
          3,
          4,
          5,
          6,
          7,
          0,
          1,
          2,
          3,
          4,
          5,
          6,
          7
         ],
         "y": [
          0,
          0,
          0,
          0,
          0,
          0,
          0,
          0,
          -1,
          -1,
          -1,
          -1,
          -1,
          -1,
          -1,
          -1,
          -2,
          -2,
          -2,
          -2,
          -2,
          -2,
          -2,
          -2,
          -3,
          -3,
          -3,
          -3,
          -3,
          -3,
          -3,
          -3,
          -4,
          -4,
          -4,
          -4,
          -4,
          -4,
          -4,
          -4,
          -5,
          -5,
          -5,
          -5,
          -5,
          -5,
          -5,
          -5
         ]
        }
       ],
       "layout": {
        "annotations": [
         {
          "font": {
           "color": "black",
           "size": 10
          },
          "showarrow": false,
          "text": "1<br>path",
          "x": 0,
          "y": -0.5
         },
         {
          "font": {
           "color": "black",
           "size": 10
          },
          "showarrow": false,
          "text": "1<br>path",
          "x": 0.5,
          "y": 0
         },
         {
          "font": {
           "color": "black",
           "size": 10
          },
          "showarrow": false,
          "text": "3<br>path",
          "x": 1,
          "y": -0.5
         },
         {
          "font": {
           "color": "black",
           "size": 10
          },
          "showarrow": false,
          "text": "1<br>path",
          "x": 1.5,
          "y": 0
         },
         {
          "font": {
           "color": "black",
           "size": 10
          },
          "showarrow": false,
          "text": "3<br>path",
          "x": 2,
          "y": -0.5
         },
         {
          "font": {
           "color": "black",
           "size": 10
          },
          "showarrow": false,
          "text": "2<br>door",
          "x": 2.5,
          "y": 0
         },
         {
          "font": {
           "color": "black",
           "size": 10
          },
          "showarrow": false,
          "text": "1<br>path",
          "x": 3,
          "y": -0.5
         },
         {
          "font": {
           "color": "black",
           "size": 10
          },
          "showarrow": false,
          "text": "1<br>path",
          "x": 3.5,
          "y": 0
         },
         {
          "font": {
           "color": "black",
           "size": 10
          },
          "showarrow": false,
          "text": "1<br>path",
          "x": 4,
          "y": -0.5
         },
         {
          "font": {
           "color": "black",
           "size": 10
          },
          "showarrow": false,
          "text": "5<br>wall",
          "x": 4.5,
          "y": 0
         },
         {
          "font": {
           "color": "black",
           "size": 10
          },
          "showarrow": false,
          "text": "1<br>path",
          "x": 5,
          "y": -0.5
         },
         {
          "font": {
           "color": "black",
           "size": 10
          },
          "showarrow": false,
          "text": "1<br>path",
          "x": 5.5,
          "y": 0
         },
         {
          "font": {
           "color": "black",
           "size": 10
          },
          "showarrow": false,
          "text": "1<br>path",
          "x": 6,
          "y": -0.5
         },
         {
          "font": {
           "color": "black",
           "size": 10
          },
          "showarrow": false,
          "text": "1<br>path",
          "x": 6.5,
          "y": 0
         },
         {
          "font": {
           "color": "black",
           "size": 10
          },
          "showarrow": false,
          "text": "1<br>path",
          "x": 7,
          "y": -0.5
         },
         {
          "font": {
           "color": "black",
           "size": 10
          },
          "showarrow": false,
          "text": "1<br>path",
          "x": 0,
          "y": -1.5
         },
         {
          "font": {
           "color": "black",
           "size": 10
          },
          "showarrow": false,
          "text": "3<br>path",
          "x": 0.5,
          "y": -1
         },
         {
          "font": {
           "color": "black",
           "size": 10
          },
          "showarrow": false,
          "text": "3<br>path",
          "x": 1,
          "y": -1.5
         },
         {
          "font": {
           "color": "black",
           "size": 10
          },
          "showarrow": false,
          "text": "3<br>path",
          "x": 1.5,
          "y": -1
         },
         {
          "font": {
           "color": "black",
           "size": 10
          },
          "showarrow": false,
          "text": "5<br>wall",
          "x": 2,
          "y": -1.5
         },
         {
          "font": {
           "color": "black",
           "size": 10
          },
          "showarrow": false,
          "text": "5<br>wall",
          "x": 2.5,
          "y": -1
         },
         {
          "font": {
           "color": "black",
           "size": 10
          },
          "showarrow": false,
          "text": "3<br>path",
          "x": 3,
          "y": -1.5
         },
         {
          "font": {
           "color": "black",
           "size": 10
          },
          "showarrow": false,
          "text": "1<br>path",
          "x": 3.5,
          "y": -1
         },
         {
          "font": {
           "color": "black",
           "size": 10
          },
          "showarrow": false,
          "text": "5<br>wall",
          "x": 4,
          "y": -1.5
         },
         {
          "font": {
           "color": "black",
           "size": 10
          },
          "showarrow": false,
          "text": "2<br>door",
          "x": 4.5,
          "y": -1
         },
         {
          "font": {
           "color": "black",
           "size": 10
          },
          "showarrow": false,
          "text": "5<br>wall",
          "x": 5,
          "y": -1.5
         },
         {
          "font": {
           "color": "black",
           "size": 10
          },
          "showarrow": false,
          "text": "1<br>path",
          "x": 5.5,
          "y": -1
         },
         {
          "font": {
           "color": "black",
           "size": 10
          },
          "showarrow": false,
          "text": "5<br>wall",
          "x": 6,
          "y": -1.5
         },
         {
          "font": {
           "color": "black",
           "size": 10
          },
          "showarrow": false,
          "text": "1<br>path",
          "x": 6.5,
          "y": -1
         },
         {
          "font": {
           "color": "black",
           "size": 10
          },
          "showarrow": false,
          "text": "2<br>door",
          "x": 7,
          "y": -1.5
         },
         {
          "font": {
           "color": "black",
           "size": 10
          },
          "showarrow": false,
          "text": "1<br>path",
          "x": 0,
          "y": -2.5
         },
         {
          "font": {
           "color": "black",
           "size": 10
          },
          "showarrow": false,
          "text": "3<br>path",
          "x": 0.5,
          "y": -2
         },
         {
          "font": {
           "color": "black",
           "size": 10
          },
          "showarrow": false,
          "text": "3<br>path",
          "x": 1,
          "y": -2.5
         },
         {
          "font": {
           "color": "black",
           "size": 10
          },
          "showarrow": false,
          "text": "2<br>door",
          "x": 1.5,
          "y": -2
         },
         {
          "font": {
           "color": "black",
           "size": 10
          },
          "showarrow": false,
          "text": "3<br>path",
          "x": 2,
          "y": -2.5
         },
         {
          "font": {
           "color": "black",
           "size": 10
          },
          "showarrow": false,
          "text": "3<br>path",
          "x": 2.5,
          "y": -2
         },
         {
          "font": {
           "color": "black",
           "size": 10
          },
          "showarrow": false,
          "text": "3<br>path",
          "x": 3,
          "y": -2.5
         },
         {
          "font": {
           "color": "black",
           "size": 10
          },
          "showarrow": false,
          "text": "3<br>path",
          "x": 3.5,
          "y": -2
         },
         {
          "font": {
           "color": "black",
           "size": 10
          },
          "showarrow": false,
          "text": "3<br>path",
          "x": 4,
          "y": -2.5
         },
         {
          "font": {
           "color": "black",
           "size": 10
          },
          "showarrow": false,
          "text": "3<br>path",
          "x": 4.5,
          "y": -2
         },
         {
          "font": {
           "color": "black",
           "size": 10
          },
          "showarrow": false,
          "text": "1<br>path",
          "x": 5,
          "y": -2.5
         },
         {
          "font": {
           "color": "black",
           "size": 10
          },
          "showarrow": false,
          "text": "5<br>wall",
          "x": 5.5,
          "y": -2
         },
         {
          "font": {
           "color": "black",
           "size": 10
          },
          "showarrow": false,
          "text": "1<br>path",
          "x": 6,
          "y": -2.5
         },
         {
          "font": {
           "color": "black",
           "size": 10
          },
          "showarrow": false,
          "text": "1<br>path",
          "x": 6.5,
          "y": -2
         },
         {
          "font": {
           "color": "black",
           "size": 10
          },
          "showarrow": false,
          "text": "1<br>path",
          "x": 7,
          "y": -2.5
         },
         {
          "font": {
           "color": "black",
           "size": 10
          },
          "showarrow": false,
          "text": "1<br>path",
          "x": 0,
          "y": -3.5
         },
         {
          "font": {
           "color": "black",
           "size": 10
          },
          "showarrow": false,
          "text": "1<br>path",
          "x": 0.5,
          "y": -3
         },
         {
          "font": {
           "color": "black",
           "size": 10
          },
          "showarrow": false,
          "text": "5<br>wall",
          "x": 1,
          "y": -3.5
         },
         {
          "font": {
           "color": "black",
           "size": 10
          },
          "showarrow": false,
          "text": "5<br>wall",
          "x": 1.5,
          "y": -3
         },
         {
          "font": {
           "color": "black",
           "size": 10
          },
          "showarrow": false,
          "text": "5<br>wall",
          "x": 2,
          "y": -3.5
         },
         {
          "font": {
           "color": "black",
           "size": 10
          },
          "showarrow": false,
          "text": "3<br>path",
          "x": 2.5,
          "y": -3
         },
         {
          "font": {
           "color": "black",
           "size": 10
          },
          "showarrow": false,
          "text": "2<br>door",
          "x": 3,
          "y": -3.5
         },
         {
          "font": {
           "color": "black",
           "size": 10
          },
          "showarrow": false,
          "text": "3<br>path",
          "x": 3.5,
          "y": -3
         },
         {
          "font": {
           "color": "black",
           "size": 10
          },
          "showarrow": false,
          "text": "5<br>wall",
          "x": 4,
          "y": -3.5
         },
         {
          "font": {
           "color": "black",
           "size": 10
          },
          "showarrow": false,
          "text": "1<br>path",
          "x": 4.5,
          "y": -3
         },
         {
          "font": {
           "color": "black",
           "size": 10
          },
          "showarrow": false,
          "text": "5<br>wall",
          "x": 5,
          "y": -3.5
         },
         {
          "font": {
           "color": "black",
           "size": 10
          },
          "showarrow": false,
          "text": "2<br>door",
          "x": 5.5,
          "y": -3
         },
         {
          "font": {
           "color": "black",
           "size": 10
          },
          "showarrow": false,
          "text": "5<br>wall",
          "x": 6,
          "y": -3.5
         },
         {
          "font": {
           "color": "black",
           "size": 10
          },
          "showarrow": false,
          "text": "1<br>path",
          "x": 6.5,
          "y": -3
         },
         {
          "font": {
           "color": "black",
           "size": 10
          },
          "showarrow": false,
          "text": "5<br>wall",
          "x": 7,
          "y": -3.5
         },
         {
          "font": {
           "color": "black",
           "size": 10
          },
          "showarrow": false,
          "text": "1<br>path",
          "x": 0,
          "y": -4.5
         },
         {
          "font": {
           "color": "black",
           "size": 10
          },
          "showarrow": false,
          "text": "1<br>path",
          "x": 0.5,
          "y": -4
         },
         {
          "font": {
           "color": "black",
           "size": 10
          },
          "showarrow": false,
          "text": "1<br>path",
          "x": 1,
          "y": -4.5
         },
         {
          "font": {
           "color": "black",
           "size": 10
          },
          "showarrow": false,
          "text": "1<br>path",
          "x": 1.5,
          "y": -4
         },
         {
          "font": {
           "color": "black",
           "size": 10
          },
          "showarrow": false,
          "text": "1<br>path",
          "x": 2,
          "y": -4.5
         },
         {
          "font": {
           "color": "black",
           "size": 10
          },
          "showarrow": false,
          "text": "1<br>path",
          "x": 2.5,
          "y": -4
         },
         {
          "font": {
           "color": "black",
           "size": 10
          },
          "showarrow": false,
          "text": "1<br>path",
          "x": 3,
          "y": -4.5
         },
         {
          "font": {
           "color": "black",
           "size": 10
          },
          "showarrow": false,
          "text": "1<br>path",
          "x": 3.5,
          "y": -4
         },
         {
          "font": {
           "color": "black",
           "size": 10
          },
          "showarrow": false,
          "text": "1<br>path",
          "x": 4,
          "y": -4.5
         },
         {
          "font": {
           "color": "black",
           "size": 10
          },
          "showarrow": false,
          "text": "5<br>wall",
          "x": 4.5,
          "y": -4
         },
         {
          "font": {
           "color": "black",
           "size": 10
          },
          "showarrow": false,
          "text": "3<br>path",
          "x": 5,
          "y": -4.5
         },
         {
          "font": {
           "color": "black",
           "size": 10
          },
          "showarrow": false,
          "text": "3<br>path",
          "x": 5.5,
          "y": -4
         },
         {
          "font": {
           "color": "black",
           "size": 10
          },
          "showarrow": false,
          "text": "3<br>path",
          "x": 6,
          "y": -4.5
         },
         {
          "font": {
           "color": "black",
           "size": 10
          },
          "showarrow": false,
          "text": "5<br>wall",
          "x": 6.5,
          "y": -4
         },
         {
          "font": {
           "color": "black",
           "size": 10
          },
          "showarrow": false,
          "text": "1<br>path",
          "x": 7,
          "y": -4.5
         },
         {
          "font": {
           "color": "black",
           "size": 10
          },
          "showarrow": false,
          "text": "1<br>path",
          "x": 0.5,
          "y": -5
         },
         {
          "font": {
           "color": "black",
           "size": 10
          },
          "showarrow": false,
          "text": "1<br>path",
          "x": 1.5,
          "y": -5
         },
         {
          "font": {
           "color": "black",
           "size": 10
          },
          "showarrow": false,
          "text": "1<br>path",
          "x": 2.5,
          "y": -5
         },
         {
          "font": {
           "color": "black",
           "size": 10
          },
          "showarrow": false,
          "text": "1<br>path",
          "x": 3.5,
          "y": -5
         },
         {
          "font": {
           "color": "black",
           "size": 10
          },
          "showarrow": false,
          "text": "2<br>door",
          "x": 4.5,
          "y": -5
         },
         {
          "font": {
           "color": "black",
           "size": 10
          },
          "showarrow": false,
          "text": "3<br>path",
          "x": 5.5,
          "y": -5
         },
         {
          "font": {
           "color": "black",
           "size": 10
          },
          "showarrow": false,
          "text": "2<br>door",
          "x": 6.5,
          "y": -5
         }
        ],
        "hovermode": "closest",
        "margin": {
         "b": 20,
         "l": 5,
         "r": 5,
         "t": 40
        },
        "showlegend": false,
        "template": {
         "data": {
          "bar": [
           {
            "error_x": {
             "color": "#2a3f5f"
            },
            "error_y": {
             "color": "#2a3f5f"
            },
            "marker": {
             "line": {
              "color": "#E5ECF6",
              "width": 0.5
             },
             "pattern": {
              "fillmode": "overlay",
              "size": 10,
              "solidity": 0.2
             }
            },
            "type": "bar"
           }
          ],
          "barpolar": [
           {
            "marker": {
             "line": {
              "color": "#E5ECF6",
              "width": 0.5
             },
             "pattern": {
              "fillmode": "overlay",
              "size": 10,
              "solidity": 0.2
             }
            },
            "type": "barpolar"
           }
          ],
          "carpet": [
           {
            "aaxis": {
             "endlinecolor": "#2a3f5f",
             "gridcolor": "white",
             "linecolor": "white",
             "minorgridcolor": "white",
             "startlinecolor": "#2a3f5f"
            },
            "baxis": {
             "endlinecolor": "#2a3f5f",
             "gridcolor": "white",
             "linecolor": "white",
             "minorgridcolor": "white",
             "startlinecolor": "#2a3f5f"
            },
            "type": "carpet"
           }
          ],
          "choropleth": [
           {
            "colorbar": {
             "outlinewidth": 0,
             "ticks": ""
            },
            "type": "choropleth"
           }
          ],
          "contour": [
           {
            "colorbar": {
             "outlinewidth": 0,
             "ticks": ""
            },
            "colorscale": [
             [
              0,
              "#0d0887"
             ],
             [
              0.1111111111111111,
              "#46039f"
             ],
             [
              0.2222222222222222,
              "#7201a8"
             ],
             [
              0.3333333333333333,
              "#9c179e"
             ],
             [
              0.4444444444444444,
              "#bd3786"
             ],
             [
              0.5555555555555556,
              "#d8576b"
             ],
             [
              0.6666666666666666,
              "#ed7953"
             ],
             [
              0.7777777777777778,
              "#fb9f3a"
             ],
             [
              0.8888888888888888,
              "#fdca26"
             ],
             [
              1,
              "#f0f921"
             ]
            ],
            "type": "contour"
           }
          ],
          "contourcarpet": [
           {
            "colorbar": {
             "outlinewidth": 0,
             "ticks": ""
            },
            "type": "contourcarpet"
           }
          ],
          "heatmap": [
           {
            "colorbar": {
             "outlinewidth": 0,
             "ticks": ""
            },
            "colorscale": [
             [
              0,
              "#0d0887"
             ],
             [
              0.1111111111111111,
              "#46039f"
             ],
             [
              0.2222222222222222,
              "#7201a8"
             ],
             [
              0.3333333333333333,
              "#9c179e"
             ],
             [
              0.4444444444444444,
              "#bd3786"
             ],
             [
              0.5555555555555556,
              "#d8576b"
             ],
             [
              0.6666666666666666,
              "#ed7953"
             ],
             [
              0.7777777777777778,
              "#fb9f3a"
             ],
             [
              0.8888888888888888,
              "#fdca26"
             ],
             [
              1,
              "#f0f921"
             ]
            ],
            "type": "heatmap"
           }
          ],
          "heatmapgl": [
           {
            "colorbar": {
             "outlinewidth": 0,
             "ticks": ""
            },
            "colorscale": [
             [
              0,
              "#0d0887"
             ],
             [
              0.1111111111111111,
              "#46039f"
             ],
             [
              0.2222222222222222,
              "#7201a8"
             ],
             [
              0.3333333333333333,
              "#9c179e"
             ],
             [
              0.4444444444444444,
              "#bd3786"
             ],
             [
              0.5555555555555556,
              "#d8576b"
             ],
             [
              0.6666666666666666,
              "#ed7953"
             ],
             [
              0.7777777777777778,
              "#fb9f3a"
             ],
             [
              0.8888888888888888,
              "#fdca26"
             ],
             [
              1,
              "#f0f921"
             ]
            ],
            "type": "heatmapgl"
           }
          ],
          "histogram": [
           {
            "marker": {
             "pattern": {
              "fillmode": "overlay",
              "size": 10,
              "solidity": 0.2
             }
            },
            "type": "histogram"
           }
          ],
          "histogram2d": [
           {
            "colorbar": {
             "outlinewidth": 0,
             "ticks": ""
            },
            "colorscale": [
             [
              0,
              "#0d0887"
             ],
             [
              0.1111111111111111,
              "#46039f"
             ],
             [
              0.2222222222222222,
              "#7201a8"
             ],
             [
              0.3333333333333333,
              "#9c179e"
             ],
             [
              0.4444444444444444,
              "#bd3786"
             ],
             [
              0.5555555555555556,
              "#d8576b"
             ],
             [
              0.6666666666666666,
              "#ed7953"
             ],
             [
              0.7777777777777778,
              "#fb9f3a"
             ],
             [
              0.8888888888888888,
              "#fdca26"
             ],
             [
              1,
              "#f0f921"
             ]
            ],
            "type": "histogram2d"
           }
          ],
          "histogram2dcontour": [
           {
            "colorbar": {
             "outlinewidth": 0,
             "ticks": ""
            },
            "colorscale": [
             [
              0,
              "#0d0887"
             ],
             [
              0.1111111111111111,
              "#46039f"
             ],
             [
              0.2222222222222222,
              "#7201a8"
             ],
             [
              0.3333333333333333,
              "#9c179e"
             ],
             [
              0.4444444444444444,
              "#bd3786"
             ],
             [
              0.5555555555555556,
              "#d8576b"
             ],
             [
              0.6666666666666666,
              "#ed7953"
             ],
             [
              0.7777777777777778,
              "#fb9f3a"
             ],
             [
              0.8888888888888888,
              "#fdca26"
             ],
             [
              1,
              "#f0f921"
             ]
            ],
            "type": "histogram2dcontour"
           }
          ],
          "mesh3d": [
           {
            "colorbar": {
             "outlinewidth": 0,
             "ticks": ""
            },
            "type": "mesh3d"
           }
          ],
          "parcoords": [
           {
            "line": {
             "colorbar": {
              "outlinewidth": 0,
              "ticks": ""
             }
            },
            "type": "parcoords"
           }
          ],
          "pie": [
           {
            "automargin": true,
            "type": "pie"
           }
          ],
          "scatter": [
           {
            "fillpattern": {
             "fillmode": "overlay",
             "size": 10,
             "solidity": 0.2
            },
            "type": "scatter"
           }
          ],
          "scatter3d": [
           {
            "line": {
             "colorbar": {
              "outlinewidth": 0,
              "ticks": ""
             }
            },
            "marker": {
             "colorbar": {
              "outlinewidth": 0,
              "ticks": ""
             }
            },
            "type": "scatter3d"
           }
          ],
          "scattercarpet": [
           {
            "marker": {
             "colorbar": {
              "outlinewidth": 0,
              "ticks": ""
             }
            },
            "type": "scattercarpet"
           }
          ],
          "scattergeo": [
           {
            "marker": {
             "colorbar": {
              "outlinewidth": 0,
              "ticks": ""
             }
            },
            "type": "scattergeo"
           }
          ],
          "scattergl": [
           {
            "marker": {
             "colorbar": {
              "outlinewidth": 0,
              "ticks": ""
             }
            },
            "type": "scattergl"
           }
          ],
          "scattermapbox": [
           {
            "marker": {
             "colorbar": {
              "outlinewidth": 0,
              "ticks": ""
             }
            },
            "type": "scattermapbox"
           }
          ],
          "scatterpolar": [
           {
            "marker": {
             "colorbar": {
              "outlinewidth": 0,
              "ticks": ""
             }
            },
            "type": "scatterpolar"
           }
          ],
          "scatterpolargl": [
           {
            "marker": {
             "colorbar": {
              "outlinewidth": 0,
              "ticks": ""
             }
            },
            "type": "scatterpolargl"
           }
          ],
          "scatterternary": [
           {
            "marker": {
             "colorbar": {
              "outlinewidth": 0,
              "ticks": ""
             }
            },
            "type": "scatterternary"
           }
          ],
          "surface": [
           {
            "colorbar": {
             "outlinewidth": 0,
             "ticks": ""
            },
            "colorscale": [
             [
              0,
              "#0d0887"
             ],
             [
              0.1111111111111111,
              "#46039f"
             ],
             [
              0.2222222222222222,
              "#7201a8"
             ],
             [
              0.3333333333333333,
              "#9c179e"
             ],
             [
              0.4444444444444444,
              "#bd3786"
             ],
             [
              0.5555555555555556,
              "#d8576b"
             ],
             [
              0.6666666666666666,
              "#ed7953"
             ],
             [
              0.7777777777777778,
              "#fb9f3a"
             ],
             [
              0.8888888888888888,
              "#fdca26"
             ],
             [
              1,
              "#f0f921"
             ]
            ],
            "type": "surface"
           }
          ],
          "table": [
           {
            "cells": {
             "fill": {
              "color": "#EBF0F8"
             },
             "line": {
              "color": "white"
             }
            },
            "header": {
             "fill": {
              "color": "#C8D4E3"
             },
             "line": {
              "color": "white"
             }
            },
            "type": "table"
           }
          ]
         },
         "layout": {
          "annotationdefaults": {
           "arrowcolor": "#2a3f5f",
           "arrowhead": 0,
           "arrowwidth": 1
          },
          "autotypenumbers": "strict",
          "coloraxis": {
           "colorbar": {
            "outlinewidth": 0,
            "ticks": ""
           }
          },
          "colorscale": {
           "diverging": [
            [
             0,
             "#8e0152"
            ],
            [
             0.1,
             "#c51b7d"
            ],
            [
             0.2,
             "#de77ae"
            ],
            [
             0.3,
             "#f1b6da"
            ],
            [
             0.4,
             "#fde0ef"
            ],
            [
             0.5,
             "#f7f7f7"
            ],
            [
             0.6,
             "#e6f5d0"
            ],
            [
             0.7,
             "#b8e186"
            ],
            [
             0.8,
             "#7fbc41"
            ],
            [
             0.9,
             "#4d9221"
            ],
            [
             1,
             "#276419"
            ]
           ],
           "sequential": [
            [
             0,
             "#0d0887"
            ],
            [
             0.1111111111111111,
             "#46039f"
            ],
            [
             0.2222222222222222,
             "#7201a8"
            ],
            [
             0.3333333333333333,
             "#9c179e"
            ],
            [
             0.4444444444444444,
             "#bd3786"
            ],
            [
             0.5555555555555556,
             "#d8576b"
            ],
            [
             0.6666666666666666,
             "#ed7953"
            ],
            [
             0.7777777777777778,
             "#fb9f3a"
            ],
            [
             0.8888888888888888,
             "#fdca26"
            ],
            [
             1,
             "#f0f921"
            ]
           ],
           "sequentialminus": [
            [
             0,
             "#0d0887"
            ],
            [
             0.1111111111111111,
             "#46039f"
            ],
            [
             0.2222222222222222,
             "#7201a8"
            ],
            [
             0.3333333333333333,
             "#9c179e"
            ],
            [
             0.4444444444444444,
             "#bd3786"
            ],
            [
             0.5555555555555556,
             "#d8576b"
            ],
            [
             0.6666666666666666,
             "#ed7953"
            ],
            [
             0.7777777777777778,
             "#fb9f3a"
            ],
            [
             0.8888888888888888,
             "#fdca26"
            ],
            [
             1,
             "#f0f921"
            ]
           ]
          },
          "colorway": [
           "#636efa",
           "#EF553B",
           "#00cc96",
           "#ab63fa",
           "#FFA15A",
           "#19d3f3",
           "#FF6692",
           "#B6E880",
           "#FF97FF",
           "#FECB52"
          ],
          "font": {
           "color": "#2a3f5f"
          },
          "geo": {
           "bgcolor": "white",
           "lakecolor": "white",
           "landcolor": "#E5ECF6",
           "showlakes": true,
           "showland": true,
           "subunitcolor": "white"
          },
          "hoverlabel": {
           "align": "left"
          },
          "hovermode": "closest",
          "mapbox": {
           "style": "light"
          },
          "paper_bgcolor": "white",
          "plot_bgcolor": "#E5ECF6",
          "polar": {
           "angularaxis": {
            "gridcolor": "white",
            "linecolor": "white",
            "ticks": ""
           },
           "bgcolor": "#E5ECF6",
           "radialaxis": {
            "gridcolor": "white",
            "linecolor": "white",
            "ticks": ""
           }
          },
          "scene": {
           "xaxis": {
            "backgroundcolor": "#E5ECF6",
            "gridcolor": "white",
            "gridwidth": 2,
            "linecolor": "white",
            "showbackground": true,
            "ticks": "",
            "zerolinecolor": "white"
           },
           "yaxis": {
            "backgroundcolor": "#E5ECF6",
            "gridcolor": "white",
            "gridwidth": 2,
            "linecolor": "white",
            "showbackground": true,
            "ticks": "",
            "zerolinecolor": "white"
           },
           "zaxis": {
            "backgroundcolor": "#E5ECF6",
            "gridcolor": "white",
            "gridwidth": 2,
            "linecolor": "white",
            "showbackground": true,
            "ticks": "",
            "zerolinecolor": "white"
           }
          },
          "shapedefaults": {
           "line": {
            "color": "#2a3f5f"
           }
          },
          "ternary": {
           "aaxis": {
            "gridcolor": "white",
            "linecolor": "white",
            "ticks": ""
           },
           "baxis": {
            "gridcolor": "white",
            "linecolor": "white",
            "ticks": ""
           },
           "bgcolor": "#E5ECF6",
           "caxis": {
            "gridcolor": "white",
            "linecolor": "white",
            "ticks": ""
           }
          },
          "title": {
           "x": 0.05
          },
          "xaxis": {
           "automargin": true,
           "gridcolor": "white",
           "linecolor": "white",
           "ticks": "",
           "title": {
            "standoff": 15
           },
           "zerolinecolor": "white",
           "zerolinewidth": 2
          },
          "yaxis": {
           "automargin": true,
           "gridcolor": "white",
           "linecolor": "white",
           "ticks": "",
           "title": {
            "standoff": 15
           },
           "zerolinecolor": "white",
           "zerolinewidth": 2
          }
         }
        },
        "title": {
         "font": {
          "size": 16
         },
         "text": "Flash Point: Fire Rescue"
        },
        "xaxis": {
         "showgrid": false,
         "zeroline": false
        },
        "yaxis": {
         "showgrid": false,
         "zeroline": false
        }
       }
      }
     },
     "metadata": {},
     "output_type": "display_data"
    },
    {
     "name": "stdout",
     "output_type": "stream",
     "text": [
      "Simular ignición (Poner humo en (3, 1))\n"
     ]
    },
    {
     "data": {
      "application/vnd.plotly.v1+json": {
       "config": {
        "plotlyServerURL": "https://plot.ly"
       },
       "data": [
        {
         "hoverinfo": "none",
         "line": {
          "color": "green",
          "width": 2
         },
         "mode": "lines",
         "type": "scatter",
         "x": [
          0,
          0,
          null
         ],
         "y": [
          0,
          -1,
          null
         ]
        },
        {
         "hoverinfo": "none",
         "line": {
          "color": "green",
          "width": 2
         },
         "mode": "lines",
         "type": "scatter",
         "x": [
          0,
          1,
          null
         ],
         "y": [
          0,
          0,
          null
         ]
        },
        {
         "hoverinfo": "none",
         "line": {
          "color": "green",
          "width": 2
         },
         "mode": "lines",
         "type": "scatter",
         "x": [
          1,
          1,
          null
         ],
         "y": [
          0,
          -1,
          null
         ]
        },
        {
         "hoverinfo": "none",
         "line": {
          "color": "green",
          "width": 2
         },
         "mode": "lines",
         "type": "scatter",
         "x": [
          1,
          2,
          null
         ],
         "y": [
          0,
          0,
          null
         ]
        },
        {
         "hoverinfo": "none",
         "line": {
          "color": "green",
          "width": 2
         },
         "mode": "lines",
         "type": "scatter",
         "x": [
          2,
          2,
          null
         ],
         "y": [
          0,
          -1,
          null
         ]
        },
        {
         "hoverinfo": "none",
         "line": {
          "color": "blue",
          "width": 2
         },
         "mode": "lines",
         "type": "scatter",
         "x": [
          2,
          3,
          null
         ],
         "y": [
          0,
          0,
          null
         ]
        },
        {
         "hoverinfo": "none",
         "line": {
          "color": "green",
          "width": 2
         },
         "mode": "lines",
         "type": "scatter",
         "x": [
          3,
          3,
          null
         ],
         "y": [
          0,
          -1,
          null
         ]
        },
        {
         "hoverinfo": "none",
         "line": {
          "color": "green",
          "width": 2
         },
         "mode": "lines",
         "type": "scatter",
         "x": [
          3,
          4,
          null
         ],
         "y": [
          0,
          0,
          null
         ]
        },
        {
         "hoverinfo": "none",
         "line": {
          "color": "green",
          "width": 2
         },
         "mode": "lines",
         "type": "scatter",
         "x": [
          4,
          4,
          null
         ],
         "y": [
          0,
          -1,
          null
         ]
        },
        {
         "hoverinfo": "none",
         "line": {
          "color": "red",
          "width": 2
         },
         "mode": "lines",
         "type": "scatter",
         "x": [
          4,
          5,
          null
         ],
         "y": [
          0,
          0,
          null
         ]
        },
        {
         "hoverinfo": "none",
         "line": {
          "color": "green",
          "width": 2
         },
         "mode": "lines",
         "type": "scatter",
         "x": [
          5,
          5,
          null
         ],
         "y": [
          0,
          -1,
          null
         ]
        },
        {
         "hoverinfo": "none",
         "line": {
          "color": "green",
          "width": 2
         },
         "mode": "lines",
         "type": "scatter",
         "x": [
          5,
          6,
          null
         ],
         "y": [
          0,
          0,
          null
         ]
        },
        {
         "hoverinfo": "none",
         "line": {
          "color": "green",
          "width": 2
         },
         "mode": "lines",
         "type": "scatter",
         "x": [
          6,
          6,
          null
         ],
         "y": [
          0,
          -1,
          null
         ]
        },
        {
         "hoverinfo": "none",
         "line": {
          "color": "green",
          "width": 2
         },
         "mode": "lines",
         "type": "scatter",
         "x": [
          6,
          7,
          null
         ],
         "y": [
          0,
          0,
          null
         ]
        },
        {
         "hoverinfo": "none",
         "line": {
          "color": "green",
          "width": 2
         },
         "mode": "lines",
         "type": "scatter",
         "x": [
          7,
          7,
          null
         ],
         "y": [
          0,
          -1,
          null
         ]
        },
        {
         "hoverinfo": "none",
         "line": {
          "color": "green",
          "width": 2
         },
         "mode": "lines",
         "type": "scatter",
         "x": [
          0,
          0,
          null
         ],
         "y": [
          -1,
          -2,
          null
         ]
        },
        {
         "hoverinfo": "none",
         "line": {
          "color": "green",
          "width": 2
         },
         "mode": "lines",
         "type": "scatter",
         "x": [
          0,
          1,
          null
         ],
         "y": [
          -1,
          -1,
          null
         ]
        },
        {
         "hoverinfo": "none",
         "line": {
          "color": "green",
          "width": 2
         },
         "mode": "lines",
         "type": "scatter",
         "x": [
          1,
          1,
          null
         ],
         "y": [
          -1,
          -2,
          null
         ]
        },
        {
         "hoverinfo": "none",
         "line": {
          "color": "green",
          "width": 2
         },
         "mode": "lines",
         "type": "scatter",
         "x": [
          1,
          2,
          null
         ],
         "y": [
          -1,
          -1,
          null
         ]
        },
        {
         "hoverinfo": "none",
         "line": {
          "color": "red",
          "width": 2
         },
         "mode": "lines",
         "type": "scatter",
         "x": [
          2,
          2,
          null
         ],
         "y": [
          -1,
          -2,
          null
         ]
        },
        {
         "hoverinfo": "none",
         "line": {
          "color": "red",
          "width": 2
         },
         "mode": "lines",
         "type": "scatter",
         "x": [
          2,
          3,
          null
         ],
         "y": [
          -1,
          -1,
          null
         ]
        },
        {
         "hoverinfo": "none",
         "line": {
          "color": "green",
          "width": 2
         },
         "mode": "lines",
         "type": "scatter",
         "x": [
          3,
          3,
          null
         ],
         "y": [
          -1,
          -2,
          null
         ]
        },
        {
         "hoverinfo": "none",
         "line": {
          "color": "green",
          "width": 2
         },
         "mode": "lines",
         "type": "scatter",
         "x": [
          3,
          4,
          null
         ],
         "y": [
          -1,
          -1,
          null
         ]
        },
        {
         "hoverinfo": "none",
         "line": {
          "color": "red",
          "width": 2
         },
         "mode": "lines",
         "type": "scatter",
         "x": [
          4,
          4,
          null
         ],
         "y": [
          -1,
          -2,
          null
         ]
        },
        {
         "hoverinfo": "none",
         "line": {
          "color": "blue",
          "width": 2
         },
         "mode": "lines",
         "type": "scatter",
         "x": [
          4,
          5,
          null
         ],
         "y": [
          -1,
          -1,
          null
         ]
        },
        {
         "hoverinfo": "none",
         "line": {
          "color": "red",
          "width": 2
         },
         "mode": "lines",
         "type": "scatter",
         "x": [
          5,
          5,
          null
         ],
         "y": [
          -1,
          -2,
          null
         ]
        },
        {
         "hoverinfo": "none",
         "line": {
          "color": "green",
          "width": 2
         },
         "mode": "lines",
         "type": "scatter",
         "x": [
          5,
          6,
          null
         ],
         "y": [
          -1,
          -1,
          null
         ]
        },
        {
         "hoverinfo": "none",
         "line": {
          "color": "red",
          "width": 2
         },
         "mode": "lines",
         "type": "scatter",
         "x": [
          6,
          6,
          null
         ],
         "y": [
          -1,
          -2,
          null
         ]
        },
        {
         "hoverinfo": "none",
         "line": {
          "color": "green",
          "width": 2
         },
         "mode": "lines",
         "type": "scatter",
         "x": [
          6,
          7,
          null
         ],
         "y": [
          -1,
          -1,
          null
         ]
        },
        {
         "hoverinfo": "none",
         "line": {
          "color": "blue",
          "width": 2
         },
         "mode": "lines",
         "type": "scatter",
         "x": [
          7,
          7,
          null
         ],
         "y": [
          -1,
          -2,
          null
         ]
        },
        {
         "hoverinfo": "none",
         "line": {
          "color": "green",
          "width": 2
         },
         "mode": "lines",
         "type": "scatter",
         "x": [
          0,
          0,
          null
         ],
         "y": [
          -2,
          -3,
          null
         ]
        },
        {
         "hoverinfo": "none",
         "line": {
          "color": "green",
          "width": 2
         },
         "mode": "lines",
         "type": "scatter",
         "x": [
          0,
          1,
          null
         ],
         "y": [
          -2,
          -2,
          null
         ]
        },
        {
         "hoverinfo": "none",
         "line": {
          "color": "green",
          "width": 2
         },
         "mode": "lines",
         "type": "scatter",
         "x": [
          1,
          1,
          null
         ],
         "y": [
          -2,
          -3,
          null
         ]
        },
        {
         "hoverinfo": "none",
         "line": {
          "color": "blue",
          "width": 2
         },
         "mode": "lines",
         "type": "scatter",
         "x": [
          1,
          2,
          null
         ],
         "y": [
          -2,
          -2,
          null
         ]
        },
        {
         "hoverinfo": "none",
         "line": {
          "color": "green",
          "width": 2
         },
         "mode": "lines",
         "type": "scatter",
         "x": [
          2,
          2,
          null
         ],
         "y": [
          -2,
          -3,
          null
         ]
        },
        {
         "hoverinfo": "none",
         "line": {
          "color": "green",
          "width": 2
         },
         "mode": "lines",
         "type": "scatter",
         "x": [
          2,
          3,
          null
         ],
         "y": [
          -2,
          -2,
          null
         ]
        },
        {
         "hoverinfo": "none",
         "line": {
          "color": "green",
          "width": 2
         },
         "mode": "lines",
         "type": "scatter",
         "x": [
          3,
          3,
          null
         ],
         "y": [
          -2,
          -3,
          null
         ]
        },
        {
         "hoverinfo": "none",
         "line": {
          "color": "green",
          "width": 2
         },
         "mode": "lines",
         "type": "scatter",
         "x": [
          3,
          4,
          null
         ],
         "y": [
          -2,
          -2,
          null
         ]
        },
        {
         "hoverinfo": "none",
         "line": {
          "color": "green",
          "width": 2
         },
         "mode": "lines",
         "type": "scatter",
         "x": [
          4,
          4,
          null
         ],
         "y": [
          -2,
          -3,
          null
         ]
        },
        {
         "hoverinfo": "none",
         "line": {
          "color": "green",
          "width": 2
         },
         "mode": "lines",
         "type": "scatter",
         "x": [
          4,
          5,
          null
         ],
         "y": [
          -2,
          -2,
          null
         ]
        },
        {
         "hoverinfo": "none",
         "line": {
          "color": "green",
          "width": 2
         },
         "mode": "lines",
         "type": "scatter",
         "x": [
          5,
          5,
          null
         ],
         "y": [
          -2,
          -3,
          null
         ]
        },
        {
         "hoverinfo": "none",
         "line": {
          "color": "red",
          "width": 2
         },
         "mode": "lines",
         "type": "scatter",
         "x": [
          5,
          6,
          null
         ],
         "y": [
          -2,
          -2,
          null
         ]
        },
        {
         "hoverinfo": "none",
         "line": {
          "color": "green",
          "width": 2
         },
         "mode": "lines",
         "type": "scatter",
         "x": [
          6,
          6,
          null
         ],
         "y": [
          -2,
          -3,
          null
         ]
        },
        {
         "hoverinfo": "none",
         "line": {
          "color": "green",
          "width": 2
         },
         "mode": "lines",
         "type": "scatter",
         "x": [
          6,
          7,
          null
         ],
         "y": [
          -2,
          -2,
          null
         ]
        },
        {
         "hoverinfo": "none",
         "line": {
          "color": "green",
          "width": 2
         },
         "mode": "lines",
         "type": "scatter",
         "x": [
          7,
          7,
          null
         ],
         "y": [
          -2,
          -3,
          null
         ]
        },
        {
         "hoverinfo": "none",
         "line": {
          "color": "green",
          "width": 2
         },
         "mode": "lines",
         "type": "scatter",
         "x": [
          0,
          0,
          null
         ],
         "y": [
          -3,
          -4,
          null
         ]
        },
        {
         "hoverinfo": "none",
         "line": {
          "color": "green",
          "width": 2
         },
         "mode": "lines",
         "type": "scatter",
         "x": [
          0,
          1,
          null
         ],
         "y": [
          -3,
          -3,
          null
         ]
        },
        {
         "hoverinfo": "none",
         "line": {
          "color": "red",
          "width": 2
         },
         "mode": "lines",
         "type": "scatter",
         "x": [
          1,
          1,
          null
         ],
         "y": [
          -3,
          -4,
          null
         ]
        },
        {
         "hoverinfo": "none",
         "line": {
          "color": "red",
          "width": 2
         },
         "mode": "lines",
         "type": "scatter",
         "x": [
          1,
          2,
          null
         ],
         "y": [
          -3,
          -3,
          null
         ]
        },
        {
         "hoverinfo": "none",
         "line": {
          "color": "red",
          "width": 2
         },
         "mode": "lines",
         "type": "scatter",
         "x": [
          2,
          2,
          null
         ],
         "y": [
          -3,
          -4,
          null
         ]
        },
        {
         "hoverinfo": "none",
         "line": {
          "color": "green",
          "width": 2
         },
         "mode": "lines",
         "type": "scatter",
         "x": [
          2,
          3,
          null
         ],
         "y": [
          -3,
          -3,
          null
         ]
        },
        {
         "hoverinfo": "none",
         "line": {
          "color": "blue",
          "width": 2
         },
         "mode": "lines",
         "type": "scatter",
         "x": [
          3,
          3,
          null
         ],
         "y": [
          -3,
          -4,
          null
         ]
        },
        {
         "hoverinfo": "none",
         "line": {
          "color": "green",
          "width": 2
         },
         "mode": "lines",
         "type": "scatter",
         "x": [
          3,
          4,
          null
         ],
         "y": [
          -3,
          -3,
          null
         ]
        },
        {
         "hoverinfo": "none",
         "line": {
          "color": "red",
          "width": 2
         },
         "mode": "lines",
         "type": "scatter",
         "x": [
          4,
          4,
          null
         ],
         "y": [
          -3,
          -4,
          null
         ]
        },
        {
         "hoverinfo": "none",
         "line": {
          "color": "green",
          "width": 2
         },
         "mode": "lines",
         "type": "scatter",
         "x": [
          4,
          5,
          null
         ],
         "y": [
          -3,
          -3,
          null
         ]
        },
        {
         "hoverinfo": "none",
         "line": {
          "color": "red",
          "width": 2
         },
         "mode": "lines",
         "type": "scatter",
         "x": [
          5,
          5,
          null
         ],
         "y": [
          -3,
          -4,
          null
         ]
        },
        {
         "hoverinfo": "none",
         "line": {
          "color": "blue",
          "width": 2
         },
         "mode": "lines",
         "type": "scatter",
         "x": [
          5,
          6,
          null
         ],
         "y": [
          -3,
          -3,
          null
         ]
        },
        {
         "hoverinfo": "none",
         "line": {
          "color": "red",
          "width": 2
         },
         "mode": "lines",
         "type": "scatter",
         "x": [
          6,
          6,
          null
         ],
         "y": [
          -3,
          -4,
          null
         ]
        },
        {
         "hoverinfo": "none",
         "line": {
          "color": "green",
          "width": 2
         },
         "mode": "lines",
         "type": "scatter",
         "x": [
          6,
          7,
          null
         ],
         "y": [
          -3,
          -3,
          null
         ]
        },
        {
         "hoverinfo": "none",
         "line": {
          "color": "red",
          "width": 2
         },
         "mode": "lines",
         "type": "scatter",
         "x": [
          7,
          7,
          null
         ],
         "y": [
          -3,
          -4,
          null
         ]
        },
        {
         "hoverinfo": "none",
         "line": {
          "color": "green",
          "width": 2
         },
         "mode": "lines",
         "type": "scatter",
         "x": [
          0,
          0,
          null
         ],
         "y": [
          -4,
          -5,
          null
         ]
        },
        {
         "hoverinfo": "none",
         "line": {
          "color": "green",
          "width": 2
         },
         "mode": "lines",
         "type": "scatter",
         "x": [
          0,
          1,
          null
         ],
         "y": [
          -4,
          -4,
          null
         ]
        },
        {
         "hoverinfo": "none",
         "line": {
          "color": "green",
          "width": 2
         },
         "mode": "lines",
         "type": "scatter",
         "x": [
          1,
          1,
          null
         ],
         "y": [
          -4,
          -5,
          null
         ]
        },
        {
         "hoverinfo": "none",
         "line": {
          "color": "green",
          "width": 2
         },
         "mode": "lines",
         "type": "scatter",
         "x": [
          1,
          2,
          null
         ],
         "y": [
          -4,
          -4,
          null
         ]
        },
        {
         "hoverinfo": "none",
         "line": {
          "color": "green",
          "width": 2
         },
         "mode": "lines",
         "type": "scatter",
         "x": [
          2,
          2,
          null
         ],
         "y": [
          -4,
          -5,
          null
         ]
        },
        {
         "hoverinfo": "none",
         "line": {
          "color": "green",
          "width": 2
         },
         "mode": "lines",
         "type": "scatter",
         "x": [
          2,
          3,
          null
         ],
         "y": [
          -4,
          -4,
          null
         ]
        },
        {
         "hoverinfo": "none",
         "line": {
          "color": "green",
          "width": 2
         },
         "mode": "lines",
         "type": "scatter",
         "x": [
          3,
          3,
          null
         ],
         "y": [
          -4,
          -5,
          null
         ]
        },
        {
         "hoverinfo": "none",
         "line": {
          "color": "green",
          "width": 2
         },
         "mode": "lines",
         "type": "scatter",
         "x": [
          3,
          4,
          null
         ],
         "y": [
          -4,
          -4,
          null
         ]
        },
        {
         "hoverinfo": "none",
         "line": {
          "color": "green",
          "width": 2
         },
         "mode": "lines",
         "type": "scatter",
         "x": [
          4,
          4,
          null
         ],
         "y": [
          -4,
          -5,
          null
         ]
        },
        {
         "hoverinfo": "none",
         "line": {
          "color": "red",
          "width": 2
         },
         "mode": "lines",
         "type": "scatter",
         "x": [
          4,
          5,
          null
         ],
         "y": [
          -4,
          -4,
          null
         ]
        },
        {
         "hoverinfo": "none",
         "line": {
          "color": "green",
          "width": 2
         },
         "mode": "lines",
         "type": "scatter",
         "x": [
          5,
          5,
          null
         ],
         "y": [
          -4,
          -5,
          null
         ]
        },
        {
         "hoverinfo": "none",
         "line": {
          "color": "green",
          "width": 2
         },
         "mode": "lines",
         "type": "scatter",
         "x": [
          5,
          6,
          null
         ],
         "y": [
          -4,
          -4,
          null
         ]
        },
        {
         "hoverinfo": "none",
         "line": {
          "color": "green",
          "width": 2
         },
         "mode": "lines",
         "type": "scatter",
         "x": [
          6,
          6,
          null
         ],
         "y": [
          -4,
          -5,
          null
         ]
        },
        {
         "hoverinfo": "none",
         "line": {
          "color": "red",
          "width": 2
         },
         "mode": "lines",
         "type": "scatter",
         "x": [
          6,
          7,
          null
         ],
         "y": [
          -4,
          -4,
          null
         ]
        },
        {
         "hoverinfo": "none",
         "line": {
          "color": "green",
          "width": 2
         },
         "mode": "lines",
         "type": "scatter",
         "x": [
          7,
          7,
          null
         ],
         "y": [
          -4,
          -5,
          null
         ]
        },
        {
         "hoverinfo": "none",
         "line": {
          "color": "green",
          "width": 2
         },
         "mode": "lines",
         "type": "scatter",
         "x": [
          0,
          1,
          null
         ],
         "y": [
          -5,
          -5,
          null
         ]
        },
        {
         "hoverinfo": "none",
         "line": {
          "color": "green",
          "width": 2
         },
         "mode": "lines",
         "type": "scatter",
         "x": [
          1,
          2,
          null
         ],
         "y": [
          -5,
          -5,
          null
         ]
        },
        {
         "hoverinfo": "none",
         "line": {
          "color": "green",
          "width": 2
         },
         "mode": "lines",
         "type": "scatter",
         "x": [
          2,
          3,
          null
         ],
         "y": [
          -5,
          -5,
          null
         ]
        },
        {
         "hoverinfo": "none",
         "line": {
          "color": "green",
          "width": 2
         },
         "mode": "lines",
         "type": "scatter",
         "x": [
          3,
          4,
          null
         ],
         "y": [
          -5,
          -5,
          null
         ]
        },
        {
         "hoverinfo": "none",
         "line": {
          "color": "blue",
          "width": 2
         },
         "mode": "lines",
         "type": "scatter",
         "x": [
          4,
          5,
          null
         ],
         "y": [
          -5,
          -5,
          null
         ]
        },
        {
         "hoverinfo": "none",
         "line": {
          "color": "green",
          "width": 2
         },
         "mode": "lines",
         "type": "scatter",
         "x": [
          5,
          6,
          null
         ],
         "y": [
          -5,
          -5,
          null
         ]
        },
        {
         "hoverinfo": "none",
         "line": {
          "color": "blue",
          "width": 2
         },
         "mode": "lines",
         "type": "scatter",
         "x": [
          6,
          7,
          null
         ],
         "y": [
          -5,
          -5,
          null
         ]
        },
        {
         "hoverinfo": "text",
         "marker": {
          "color": [
           "black",
           "black",
           "black",
           "black",
           "black",
           "green",
           "black",
           "black",
           "black",
           "red",
           "red",
           "blue",
           "black",
           "black",
           "black",
           "black",
           "red",
           "red",
           "red",
           "red",
           "red",
           "black",
           "black",
           "black",
           "red",
           "red",
           "black",
           "red",
           "black",
           "black",
           "black",
           "green",
           "blue",
           "orange",
           "black",
           "black",
           "black",
           "red",
           "red",
           "blue",
           "black",
           "black",
           "green",
           "black",
           "black",
           "red",
           "black",
           "black"
          ],
          "size": 10
         },
         "mode": "markers",
         "text": [
          "Posición: (0, 0)<br>Adyacentes: (1, 0): path, (0, 1): path<br>Fuego: 0<br>POI: None<br>Es punto de entrada: False",
          "Posición: (0, 1)<br>Adyacentes: (0, 0): path, (1, 1): path, (0, 2): path<br>Fuego: 0<br>POI: None<br>Es punto de entrada: False",
          "Posición: (0, 2)<br>Adyacentes: (0, 1): path, (1, 2): path, (0, 3): door<br>Fuego: 0<br>POI: None<br>Es punto de entrada: False",
          "Posición: (0, 3)<br>Adyacentes: (0, 2): door, (1, 3): path, (0, 4): path<br>Fuego: 0<br>POI: None<br>Es punto de entrada: False",
          "Posición: (0, 4)<br>Adyacentes: (0, 3): path, (1, 4): path, (0, 5): wall<br>Fuego: 0<br>POI: None<br>Es punto de entrada: False",
          "Posición: (0, 5)<br>Adyacentes: (0, 4): wall, (1, 5): path, (0, 6): path<br>Fuego: 0<br>POI: None<br>Es punto de entrada: True",
          "Posición: (0, 6)<br>Adyacentes: (0, 5): path, (1, 6): path, (0, 7): path<br>Fuego: 0<br>POI: None<br>Es punto de entrada: False",
          "Posición: (0, 7)<br>Adyacentes: (0, 6): path, (1, 7): path<br>Fuego: 0<br>POI: None<br>Es punto de entrada: False",
          "Posición: (1, 0)<br>Adyacentes: (0, 0): path, (2, 0): path, (1, 1): path<br>Fuego: 0<br>POI: None<br>Es punto de entrada: False",
          "Posición: (1, 1)<br>Adyacentes: (0, 1): path, (1, 0): path, (2, 1): path, (1, 2): path<br>Fuego: 2<br>POI: None<br>Es punto de entrada: False",
          "Posición: (1, 2)<br>Adyacentes: (0, 2): path, (1, 1): path, (2, 2): wall, (1, 3): wall<br>Fuego: 2<br>POI: None<br>Es punto de entrada: False",
          "Posición: (1, 3)<br>Adyacentes: (0, 3): path, (1, 2): wall, (2, 3): path, (1, 4): path<br>Fuego: 0<br>POI: True<br>Es punto de entrada: False",
          "Posición: (1, 4)<br>Adyacentes: (0, 4): path, (1, 3): path, (2, 4): wall, (1, 5): door<br>Fuego: 0<br>POI: None<br>Es punto de entrada: False",
          "Posición: (1, 5)<br>Adyacentes: (0, 5): path, (1, 4): door, (2, 5): wall, (1, 6): path<br>Fuego: 0<br>POI: None<br>Es punto de entrada: False",
          "Posición: (1, 6)<br>Adyacentes: (0, 6): path, (1, 5): path, (2, 6): wall, (1, 7): path<br>Fuego: 0<br>POI: None<br>Es punto de entrada: False",
          "Posición: (1, 7)<br>Adyacentes: (0, 7): path, (1, 6): path, (2, 7): door<br>Fuego: 0<br>POI: None<br>Es punto de entrada: False",
          "Posición: (2, 0)<br>Adyacentes: (1, 0): path, (3, 0): path, (2, 1): path<br>Fuego: 2<br>POI: None<br>Es punto de entrada: True",
          "Posición: (2, 1)<br>Adyacentes: (1, 1): path, (2, 0): path, (3, 1): path, (2, 2): door<br>Fuego: 2<br>POI: None<br>Es punto de entrada: False",
          "Posición: (2, 2)<br>Adyacentes: (1, 2): wall, (2, 1): door, (3, 2): path, (2, 3): path<br>Fuego: 2<br>POI: None<br>Es punto de entrada: False",
          "Posición: (2, 3)<br>Adyacentes: (1, 3): path, (2, 2): path, (3, 3): path, (2, 4): path<br>Fuego: 2<br>POI: None<br>Es punto de entrada: False",
          "Posición: (2, 4)<br>Adyacentes: (1, 4): wall, (2, 3): path, (3, 4): path, (2, 5): path<br>Fuego: 2<br>POI: None<br>Es punto de entrada: False",
          "Posición: (2, 5)<br>Adyacentes: (1, 5): wall, (2, 4): path, (3, 5): path, (2, 6): wall<br>Fuego: 0<br>POI: None<br>Es punto de entrada: False",
          "Posición: (2, 6)<br>Adyacentes: (1, 6): wall, (2, 5): wall, (3, 6): path, (2, 7): path<br>Fuego: 0<br>POI: None<br>Es punto de entrada: False",
          "Posición: (2, 7)<br>Adyacentes: (1, 7): door, (2, 6): path, (3, 7): path<br>Fuego: 0<br>POI: None<br>Es punto de entrada: False",
          "Posición: (3, 0)<br>Adyacentes: (2, 0): path, (4, 0): path, (3, 1): path<br>Fuego: 2<br>POI: None<br>Es punto de entrada: False",
          "Posición: (3, 1)<br>Adyacentes: (2, 1): path, (3, 0): path, (4, 1): wall, (3, 2): wall<br>Fuego: 2<br>POI: None<br>Es punto de entrada: False",
          "Posición: (3, 2)<br>Adyacentes: (2, 2): path, (3, 1): wall, (4, 2): wall, (3, 3): path<br>Fuego: 0<br>POI: None<br>Es punto de entrada: False",
          "Posición: (3, 3)<br>Adyacentes: (2, 3): path, (3, 2): path, (4, 3): door, (3, 4): path<br>Fuego: 2<br>POI: None<br>Es punto de entrada: False",
          "Posición: (3, 4)<br>Adyacentes: (2, 4): path, (3, 3): path, (4, 4): wall, (3, 5): path<br>Fuego: 0<br>POI: None<br>Es punto de entrada: False",
          "Posición: (3, 5)<br>Adyacentes: (2, 5): path, (3, 4): path, (4, 5): wall, (3, 6): door<br>Fuego: 0<br>POI: None<br>Es punto de entrada: False",
          "Posición: (3, 6)<br>Adyacentes: (2, 6): path, (3, 5): door, (4, 6): wall, (3, 7): path<br>Fuego: 0<br>POI: None<br>Es punto de entrada: False",
          "Posición: (3, 7)<br>Adyacentes: (2, 7): path, (3, 6): path, (4, 7): wall<br>Fuego: 0<br>POI: None<br>Es punto de entrada: True",
          "Posición: (4, 0)<br>Adyacentes: (3, 0): path, (5, 0): path, (4, 1): path<br>Fuego: 0<br>POI: False<br>Es punto de entrada: False",
          "Posición: (4, 1)<br>Adyacentes: (3, 1): wall, (4, 0): path, (5, 1): path, (4, 2): path<br>Fuego: 1<br>POI: None<br>Es punto de entrada: False",
          "Posición: (4, 2)<br>Adyacentes: (3, 2): wall, (4, 1): path, (5, 2): path, (4, 3): path<br>Fuego: 0<br>POI: None<br>Es punto de entrada: False",
          "Posición: (4, 3)<br>Adyacentes: (3, 3): door, (4, 2): path, (5, 3): path, (4, 4): path<br>Fuego: 0<br>POI: None<br>Es punto de entrada: False",
          "Posición: (4, 4)<br>Adyacentes: (3, 4): wall, (4, 3): path, (5, 4): path, (4, 5): wall<br>Fuego: 0<br>POI: None<br>Es punto de entrada: False",
          "Posición: (4, 5)<br>Adyacentes: (3, 5): wall, (4, 4): wall, (5, 5): path, (4, 6): path<br>Fuego: 2<br>POI: None<br>Es punto de entrada: False",
          "Posición: (4, 6)<br>Adyacentes: (3, 6): wall, (4, 5): path, (5, 6): path, (4, 7): wall<br>Fuego: 2<br>POI: None<br>Es punto de entrada: False",
          "Posición: (4, 7)<br>Adyacentes: (3, 7): wall, (4, 6): wall, (5, 7): path<br>Fuego: 0<br>POI: True<br>Es punto de entrada: False",
          "Posición: (5, 0)<br>Adyacentes: (4, 0): path, (5, 1): path<br>Fuego: 0<br>POI: None<br>Es punto de entrada: False",
          "Posición: (5, 1)<br>Adyacentes: (4, 1): path, (5, 0): path, (5, 2): path<br>Fuego: 0<br>POI: None<br>Es punto de entrada: False",
          "Posición: (5, 2)<br>Adyacentes: (4, 2): path, (5, 1): path, (5, 3): path<br>Fuego: 0<br>POI: None<br>Es punto de entrada: True",
          "Posición: (5, 3)<br>Adyacentes: (4, 3): path, (5, 2): path, (5, 4): path<br>Fuego: 0<br>POI: None<br>Es punto de entrada: False",
          "Posición: (5, 4)<br>Adyacentes: (4, 4): path, (5, 3): path, (5, 5): door<br>Fuego: 0<br>POI: None<br>Es punto de entrada: False",
          "Posición: (5, 5)<br>Adyacentes: (4, 5): path, (5, 4): door, (5, 6): path<br>Fuego: 2<br>POI: None<br>Es punto de entrada: False",
          "Posición: (5, 6)<br>Adyacentes: (4, 6): path, (5, 5): path, (5, 7): door<br>Fuego: 0<br>POI: None<br>Es punto de entrada: False",
          "Posición: (5, 7)<br>Adyacentes: (4, 7): path, (5, 6): door<br>Fuego: 0<br>POI: None<br>Es punto de entrada: False"
         ],
         "type": "scatter",
         "x": [
          0,
          1,
          2,
          3,
          4,
          5,
          6,
          7,
          0,
          1,
          2,
          3,
          4,
          5,
          6,
          7,
          0,
          1,
          2,
          3,
          4,
          5,
          6,
          7,
          0,
          1,
          2,
          3,
          4,
          5,
          6,
          7,
          0,
          1,
          2,
          3,
          4,
          5,
          6,
          7,
          0,
          1,
          2,
          3,
          4,
          5,
          6,
          7
         ],
         "y": [
          0,
          0,
          0,
          0,
          0,
          0,
          0,
          0,
          -1,
          -1,
          -1,
          -1,
          -1,
          -1,
          -1,
          -1,
          -2,
          -2,
          -2,
          -2,
          -2,
          -2,
          -2,
          -2,
          -3,
          -3,
          -3,
          -3,
          -3,
          -3,
          -3,
          -3,
          -4,
          -4,
          -4,
          -4,
          -4,
          -4,
          -4,
          -4,
          -5,
          -5,
          -5,
          -5,
          -5,
          -5,
          -5,
          -5
         ]
        }
       ],
       "layout": {
        "annotations": [
         {
          "font": {
           "color": "black",
           "size": 10
          },
          "showarrow": false,
          "text": "1<br>path",
          "x": 0,
          "y": -0.5
         },
         {
          "font": {
           "color": "black",
           "size": 10
          },
          "showarrow": false,
          "text": "1<br>path",
          "x": 0.5,
          "y": 0
         },
         {
          "font": {
           "color": "black",
           "size": 10
          },
          "showarrow": false,
          "text": "3<br>path",
          "x": 1,
          "y": -0.5
         },
         {
          "font": {
           "color": "black",
           "size": 10
          },
          "showarrow": false,
          "text": "1<br>path",
          "x": 1.5,
          "y": 0
         },
         {
          "font": {
           "color": "black",
           "size": 10
          },
          "showarrow": false,
          "text": "3<br>path",
          "x": 2,
          "y": -0.5
         },
         {
          "font": {
           "color": "black",
           "size": 10
          },
          "showarrow": false,
          "text": "2<br>door",
          "x": 2.5,
          "y": 0
         },
         {
          "font": {
           "color": "black",
           "size": 10
          },
          "showarrow": false,
          "text": "1<br>path",
          "x": 3,
          "y": -0.5
         },
         {
          "font": {
           "color": "black",
           "size": 10
          },
          "showarrow": false,
          "text": "1<br>path",
          "x": 3.5,
          "y": 0
         },
         {
          "font": {
           "color": "black",
           "size": 10
          },
          "showarrow": false,
          "text": "1<br>path",
          "x": 4,
          "y": -0.5
         },
         {
          "font": {
           "color": "black",
           "size": 10
          },
          "showarrow": false,
          "text": "5<br>wall",
          "x": 4.5,
          "y": 0
         },
         {
          "font": {
           "color": "black",
           "size": 10
          },
          "showarrow": false,
          "text": "1<br>path",
          "x": 5,
          "y": -0.5
         },
         {
          "font": {
           "color": "black",
           "size": 10
          },
          "showarrow": false,
          "text": "1<br>path",
          "x": 5.5,
          "y": 0
         },
         {
          "font": {
           "color": "black",
           "size": 10
          },
          "showarrow": false,
          "text": "1<br>path",
          "x": 6,
          "y": -0.5
         },
         {
          "font": {
           "color": "black",
           "size": 10
          },
          "showarrow": false,
          "text": "1<br>path",
          "x": 6.5,
          "y": 0
         },
         {
          "font": {
           "color": "black",
           "size": 10
          },
          "showarrow": false,
          "text": "1<br>path",
          "x": 7,
          "y": -0.5
         },
         {
          "font": {
           "color": "black",
           "size": 10
          },
          "showarrow": false,
          "text": "3<br>path",
          "x": 0,
          "y": -1.5
         },
         {
          "font": {
           "color": "black",
           "size": 10
          },
          "showarrow": false,
          "text": "3<br>path",
          "x": 0.5,
          "y": -1
         },
         {
          "font": {
           "color": "black",
           "size": 10
          },
          "showarrow": false,
          "text": "3<br>path",
          "x": 1,
          "y": -1.5
         },
         {
          "font": {
           "color": "black",
           "size": 10
          },
          "showarrow": false,
          "text": "3<br>path",
          "x": 1.5,
          "y": -1
         },
         {
          "font": {
           "color": "black",
           "size": 10
          },
          "showarrow": false,
          "text": "5<br>wall",
          "x": 2,
          "y": -1.5
         },
         {
          "font": {
           "color": "black",
           "size": 10
          },
          "showarrow": false,
          "text": "5<br>wall",
          "x": 2.5,
          "y": -1
         },
         {
          "font": {
           "color": "black",
           "size": 10
          },
          "showarrow": false,
          "text": "3<br>path",
          "x": 3,
          "y": -1.5
         },
         {
          "font": {
           "color": "black",
           "size": 10
          },
          "showarrow": false,
          "text": "1<br>path",
          "x": 3.5,
          "y": -1
         },
         {
          "font": {
           "color": "black",
           "size": 10
          },
          "showarrow": false,
          "text": "5<br>wall",
          "x": 4,
          "y": -1.5
         },
         {
          "font": {
           "color": "black",
           "size": 10
          },
          "showarrow": false,
          "text": "2<br>door",
          "x": 4.5,
          "y": -1
         },
         {
          "font": {
           "color": "black",
           "size": 10
          },
          "showarrow": false,
          "text": "5<br>wall",
          "x": 5,
          "y": -1.5
         },
         {
          "font": {
           "color": "black",
           "size": 10
          },
          "showarrow": false,
          "text": "1<br>path",
          "x": 5.5,
          "y": -1
         },
         {
          "font": {
           "color": "black",
           "size": 10
          },
          "showarrow": false,
          "text": "5<br>wall",
          "x": 6,
          "y": -1.5
         },
         {
          "font": {
           "color": "black",
           "size": 10
          },
          "showarrow": false,
          "text": "1<br>path",
          "x": 6.5,
          "y": -1
         },
         {
          "font": {
           "color": "black",
           "size": 10
          },
          "showarrow": false,
          "text": "2<br>door",
          "x": 7,
          "y": -1.5
         },
         {
          "font": {
           "color": "black",
           "size": 10
          },
          "showarrow": false,
          "text": "3<br>path",
          "x": 0,
          "y": -2.5
         },
         {
          "font": {
           "color": "black",
           "size": 10
          },
          "showarrow": false,
          "text": "3<br>path",
          "x": 0.5,
          "y": -2
         },
         {
          "font": {
           "color": "black",
           "size": 10
          },
          "showarrow": false,
          "text": "3<br>path",
          "x": 1,
          "y": -2.5
         },
         {
          "font": {
           "color": "black",
           "size": 10
          },
          "showarrow": false,
          "text": "2<br>door",
          "x": 1.5,
          "y": -2
         },
         {
          "font": {
           "color": "black",
           "size": 10
          },
          "showarrow": false,
          "text": "3<br>path",
          "x": 2,
          "y": -2.5
         },
         {
          "font": {
           "color": "black",
           "size": 10
          },
          "showarrow": false,
          "text": "3<br>path",
          "x": 2.5,
          "y": -2
         },
         {
          "font": {
           "color": "black",
           "size": 10
          },
          "showarrow": false,
          "text": "3<br>path",
          "x": 3,
          "y": -2.5
         },
         {
          "font": {
           "color": "black",
           "size": 10
          },
          "showarrow": false,
          "text": "3<br>path",
          "x": 3.5,
          "y": -2
         },
         {
          "font": {
           "color": "black",
           "size": 10
          },
          "showarrow": false,
          "text": "3<br>path",
          "x": 4,
          "y": -2.5
         },
         {
          "font": {
           "color": "black",
           "size": 10
          },
          "showarrow": false,
          "text": "3<br>path",
          "x": 4.5,
          "y": -2
         },
         {
          "font": {
           "color": "black",
           "size": 10
          },
          "showarrow": false,
          "text": "1<br>path",
          "x": 5,
          "y": -2.5
         },
         {
          "font": {
           "color": "black",
           "size": 10
          },
          "showarrow": false,
          "text": "5<br>wall",
          "x": 5.5,
          "y": -2
         },
         {
          "font": {
           "color": "black",
           "size": 10
          },
          "showarrow": false,
          "text": "1<br>path",
          "x": 6,
          "y": -2.5
         },
         {
          "font": {
           "color": "black",
           "size": 10
          },
          "showarrow": false,
          "text": "1<br>path",
          "x": 6.5,
          "y": -2
         },
         {
          "font": {
           "color": "black",
           "size": 10
          },
          "showarrow": false,
          "text": "1<br>path",
          "x": 7,
          "y": -2.5
         },
         {
          "font": {
           "color": "black",
           "size": 10
          },
          "showarrow": false,
          "text": "3<br>path",
          "x": 0,
          "y": -3.5
         },
         {
          "font": {
           "color": "black",
           "size": 10
          },
          "showarrow": false,
          "text": "3<br>path",
          "x": 0.5,
          "y": -3
         },
         {
          "font": {
           "color": "black",
           "size": 10
          },
          "showarrow": false,
          "text": "5<br>wall",
          "x": 1,
          "y": -3.5
         },
         {
          "font": {
           "color": "black",
           "size": 10
          },
          "showarrow": false,
          "text": "5<br>wall",
          "x": 1.5,
          "y": -3
         },
         {
          "font": {
           "color": "black",
           "size": 10
          },
          "showarrow": false,
          "text": "5<br>wall",
          "x": 2,
          "y": -3.5
         },
         {
          "font": {
           "color": "black",
           "size": 10
          },
          "showarrow": false,
          "text": "3<br>path",
          "x": 2.5,
          "y": -3
         },
         {
          "font": {
           "color": "black",
           "size": 10
          },
          "showarrow": false,
          "text": "2<br>door",
          "x": 3,
          "y": -3.5
         },
         {
          "font": {
           "color": "black",
           "size": 10
          },
          "showarrow": false,
          "text": "3<br>path",
          "x": 3.5,
          "y": -3
         },
         {
          "font": {
           "color": "black",
           "size": 10
          },
          "showarrow": false,
          "text": "5<br>wall",
          "x": 4,
          "y": -3.5
         },
         {
          "font": {
           "color": "black",
           "size": 10
          },
          "showarrow": false,
          "text": "1<br>path",
          "x": 4.5,
          "y": -3
         },
         {
          "font": {
           "color": "black",
           "size": 10
          },
          "showarrow": false,
          "text": "5<br>wall",
          "x": 5,
          "y": -3.5
         },
         {
          "font": {
           "color": "black",
           "size": 10
          },
          "showarrow": false,
          "text": "2<br>door",
          "x": 5.5,
          "y": -3
         },
         {
          "font": {
           "color": "black",
           "size": 10
          },
          "showarrow": false,
          "text": "5<br>wall",
          "x": 6,
          "y": -3.5
         },
         {
          "font": {
           "color": "black",
           "size": 10
          },
          "showarrow": false,
          "text": "1<br>path",
          "x": 6.5,
          "y": -3
         },
         {
          "font": {
           "color": "black",
           "size": 10
          },
          "showarrow": false,
          "text": "5<br>wall",
          "x": 7,
          "y": -3.5
         },
         {
          "font": {
           "color": "black",
           "size": 10
          },
          "showarrow": false,
          "text": "1<br>path",
          "x": 0,
          "y": -4.5
         },
         {
          "font": {
           "color": "black",
           "size": 10
          },
          "showarrow": false,
          "text": "1<br>path",
          "x": 0.5,
          "y": -4
         },
         {
          "font": {
           "color": "black",
           "size": 10
          },
          "showarrow": false,
          "text": "1<br>path",
          "x": 1,
          "y": -4.5
         },
         {
          "font": {
           "color": "black",
           "size": 10
          },
          "showarrow": false,
          "text": "1<br>path",
          "x": 1.5,
          "y": -4
         },
         {
          "font": {
           "color": "black",
           "size": 10
          },
          "showarrow": false,
          "text": "1<br>path",
          "x": 2,
          "y": -4.5
         },
         {
          "font": {
           "color": "black",
           "size": 10
          },
          "showarrow": false,
          "text": "1<br>path",
          "x": 2.5,
          "y": -4
         },
         {
          "font": {
           "color": "black",
           "size": 10
          },
          "showarrow": false,
          "text": "1<br>path",
          "x": 3,
          "y": -4.5
         },
         {
          "font": {
           "color": "black",
           "size": 10
          },
          "showarrow": false,
          "text": "1<br>path",
          "x": 3.5,
          "y": -4
         },
         {
          "font": {
           "color": "black",
           "size": 10
          },
          "showarrow": false,
          "text": "1<br>path",
          "x": 4,
          "y": -4.5
         },
         {
          "font": {
           "color": "black",
           "size": 10
          },
          "showarrow": false,
          "text": "5<br>wall",
          "x": 4.5,
          "y": -4
         },
         {
          "font": {
           "color": "black",
           "size": 10
          },
          "showarrow": false,
          "text": "3<br>path",
          "x": 5,
          "y": -4.5
         },
         {
          "font": {
           "color": "black",
           "size": 10
          },
          "showarrow": false,
          "text": "3<br>path",
          "x": 5.5,
          "y": -4
         },
         {
          "font": {
           "color": "black",
           "size": 10
          },
          "showarrow": false,
          "text": "3<br>path",
          "x": 6,
          "y": -4.5
         },
         {
          "font": {
           "color": "black",
           "size": 10
          },
          "showarrow": false,
          "text": "5<br>wall",
          "x": 6.5,
          "y": -4
         },
         {
          "font": {
           "color": "black",
           "size": 10
          },
          "showarrow": false,
          "text": "1<br>path",
          "x": 7,
          "y": -4.5
         },
         {
          "font": {
           "color": "black",
           "size": 10
          },
          "showarrow": false,
          "text": "1<br>path",
          "x": 0.5,
          "y": -5
         },
         {
          "font": {
           "color": "black",
           "size": 10
          },
          "showarrow": false,
          "text": "1<br>path",
          "x": 1.5,
          "y": -5
         },
         {
          "font": {
           "color": "black",
           "size": 10
          },
          "showarrow": false,
          "text": "1<br>path",
          "x": 2.5,
          "y": -5
         },
         {
          "font": {
           "color": "black",
           "size": 10
          },
          "showarrow": false,
          "text": "1<br>path",
          "x": 3.5,
          "y": -5
         },
         {
          "font": {
           "color": "black",
           "size": 10
          },
          "showarrow": false,
          "text": "2<br>door",
          "x": 4.5,
          "y": -5
         },
         {
          "font": {
           "color": "black",
           "size": 10
          },
          "showarrow": false,
          "text": "3<br>path",
          "x": 5.5,
          "y": -5
         },
         {
          "font": {
           "color": "black",
           "size": 10
          },
          "showarrow": false,
          "text": "2<br>door",
          "x": 6.5,
          "y": -5
         }
        ],
        "hovermode": "closest",
        "margin": {
         "b": 20,
         "l": 5,
         "r": 5,
         "t": 40
        },
        "showlegend": false,
        "template": {
         "data": {
          "bar": [
           {
            "error_x": {
             "color": "#2a3f5f"
            },
            "error_y": {
             "color": "#2a3f5f"
            },
            "marker": {
             "line": {
              "color": "#E5ECF6",
              "width": 0.5
             },
             "pattern": {
              "fillmode": "overlay",
              "size": 10,
              "solidity": 0.2
             }
            },
            "type": "bar"
           }
          ],
          "barpolar": [
           {
            "marker": {
             "line": {
              "color": "#E5ECF6",
              "width": 0.5
             },
             "pattern": {
              "fillmode": "overlay",
              "size": 10,
              "solidity": 0.2
             }
            },
            "type": "barpolar"
           }
          ],
          "carpet": [
           {
            "aaxis": {
             "endlinecolor": "#2a3f5f",
             "gridcolor": "white",
             "linecolor": "white",
             "minorgridcolor": "white",
             "startlinecolor": "#2a3f5f"
            },
            "baxis": {
             "endlinecolor": "#2a3f5f",
             "gridcolor": "white",
             "linecolor": "white",
             "minorgridcolor": "white",
             "startlinecolor": "#2a3f5f"
            },
            "type": "carpet"
           }
          ],
          "choropleth": [
           {
            "colorbar": {
             "outlinewidth": 0,
             "ticks": ""
            },
            "type": "choropleth"
           }
          ],
          "contour": [
           {
            "colorbar": {
             "outlinewidth": 0,
             "ticks": ""
            },
            "colorscale": [
             [
              0,
              "#0d0887"
             ],
             [
              0.1111111111111111,
              "#46039f"
             ],
             [
              0.2222222222222222,
              "#7201a8"
             ],
             [
              0.3333333333333333,
              "#9c179e"
             ],
             [
              0.4444444444444444,
              "#bd3786"
             ],
             [
              0.5555555555555556,
              "#d8576b"
             ],
             [
              0.6666666666666666,
              "#ed7953"
             ],
             [
              0.7777777777777778,
              "#fb9f3a"
             ],
             [
              0.8888888888888888,
              "#fdca26"
             ],
             [
              1,
              "#f0f921"
             ]
            ],
            "type": "contour"
           }
          ],
          "contourcarpet": [
           {
            "colorbar": {
             "outlinewidth": 0,
             "ticks": ""
            },
            "type": "contourcarpet"
           }
          ],
          "heatmap": [
           {
            "colorbar": {
             "outlinewidth": 0,
             "ticks": ""
            },
            "colorscale": [
             [
              0,
              "#0d0887"
             ],
             [
              0.1111111111111111,
              "#46039f"
             ],
             [
              0.2222222222222222,
              "#7201a8"
             ],
             [
              0.3333333333333333,
              "#9c179e"
             ],
             [
              0.4444444444444444,
              "#bd3786"
             ],
             [
              0.5555555555555556,
              "#d8576b"
             ],
             [
              0.6666666666666666,
              "#ed7953"
             ],
             [
              0.7777777777777778,
              "#fb9f3a"
             ],
             [
              0.8888888888888888,
              "#fdca26"
             ],
             [
              1,
              "#f0f921"
             ]
            ],
            "type": "heatmap"
           }
          ],
          "heatmapgl": [
           {
            "colorbar": {
             "outlinewidth": 0,
             "ticks": ""
            },
            "colorscale": [
             [
              0,
              "#0d0887"
             ],
             [
              0.1111111111111111,
              "#46039f"
             ],
             [
              0.2222222222222222,
              "#7201a8"
             ],
             [
              0.3333333333333333,
              "#9c179e"
             ],
             [
              0.4444444444444444,
              "#bd3786"
             ],
             [
              0.5555555555555556,
              "#d8576b"
             ],
             [
              0.6666666666666666,
              "#ed7953"
             ],
             [
              0.7777777777777778,
              "#fb9f3a"
             ],
             [
              0.8888888888888888,
              "#fdca26"
             ],
             [
              1,
              "#f0f921"
             ]
            ],
            "type": "heatmapgl"
           }
          ],
          "histogram": [
           {
            "marker": {
             "pattern": {
              "fillmode": "overlay",
              "size": 10,
              "solidity": 0.2
             }
            },
            "type": "histogram"
           }
          ],
          "histogram2d": [
           {
            "colorbar": {
             "outlinewidth": 0,
             "ticks": ""
            },
            "colorscale": [
             [
              0,
              "#0d0887"
             ],
             [
              0.1111111111111111,
              "#46039f"
             ],
             [
              0.2222222222222222,
              "#7201a8"
             ],
             [
              0.3333333333333333,
              "#9c179e"
             ],
             [
              0.4444444444444444,
              "#bd3786"
             ],
             [
              0.5555555555555556,
              "#d8576b"
             ],
             [
              0.6666666666666666,
              "#ed7953"
             ],
             [
              0.7777777777777778,
              "#fb9f3a"
             ],
             [
              0.8888888888888888,
              "#fdca26"
             ],
             [
              1,
              "#f0f921"
             ]
            ],
            "type": "histogram2d"
           }
          ],
          "histogram2dcontour": [
           {
            "colorbar": {
             "outlinewidth": 0,
             "ticks": ""
            },
            "colorscale": [
             [
              0,
              "#0d0887"
             ],
             [
              0.1111111111111111,
              "#46039f"
             ],
             [
              0.2222222222222222,
              "#7201a8"
             ],
             [
              0.3333333333333333,
              "#9c179e"
             ],
             [
              0.4444444444444444,
              "#bd3786"
             ],
             [
              0.5555555555555556,
              "#d8576b"
             ],
             [
              0.6666666666666666,
              "#ed7953"
             ],
             [
              0.7777777777777778,
              "#fb9f3a"
             ],
             [
              0.8888888888888888,
              "#fdca26"
             ],
             [
              1,
              "#f0f921"
             ]
            ],
            "type": "histogram2dcontour"
           }
          ],
          "mesh3d": [
           {
            "colorbar": {
             "outlinewidth": 0,
             "ticks": ""
            },
            "type": "mesh3d"
           }
          ],
          "parcoords": [
           {
            "line": {
             "colorbar": {
              "outlinewidth": 0,
              "ticks": ""
             }
            },
            "type": "parcoords"
           }
          ],
          "pie": [
           {
            "automargin": true,
            "type": "pie"
           }
          ],
          "scatter": [
           {
            "fillpattern": {
             "fillmode": "overlay",
             "size": 10,
             "solidity": 0.2
            },
            "type": "scatter"
           }
          ],
          "scatter3d": [
           {
            "line": {
             "colorbar": {
              "outlinewidth": 0,
              "ticks": ""
             }
            },
            "marker": {
             "colorbar": {
              "outlinewidth": 0,
              "ticks": ""
             }
            },
            "type": "scatter3d"
           }
          ],
          "scattercarpet": [
           {
            "marker": {
             "colorbar": {
              "outlinewidth": 0,
              "ticks": ""
             }
            },
            "type": "scattercarpet"
           }
          ],
          "scattergeo": [
           {
            "marker": {
             "colorbar": {
              "outlinewidth": 0,
              "ticks": ""
             }
            },
            "type": "scattergeo"
           }
          ],
          "scattergl": [
           {
            "marker": {
             "colorbar": {
              "outlinewidth": 0,
              "ticks": ""
             }
            },
            "type": "scattergl"
           }
          ],
          "scattermapbox": [
           {
            "marker": {
             "colorbar": {
              "outlinewidth": 0,
              "ticks": ""
             }
            },
            "type": "scattermapbox"
           }
          ],
          "scatterpolar": [
           {
            "marker": {
             "colorbar": {
              "outlinewidth": 0,
              "ticks": ""
             }
            },
            "type": "scatterpolar"
           }
          ],
          "scatterpolargl": [
           {
            "marker": {
             "colorbar": {
              "outlinewidth": 0,
              "ticks": ""
             }
            },
            "type": "scatterpolargl"
           }
          ],
          "scatterternary": [
           {
            "marker": {
             "colorbar": {
              "outlinewidth": 0,
              "ticks": ""
             }
            },
            "type": "scatterternary"
           }
          ],
          "surface": [
           {
            "colorbar": {
             "outlinewidth": 0,
             "ticks": ""
            },
            "colorscale": [
             [
              0,
              "#0d0887"
             ],
             [
              0.1111111111111111,
              "#46039f"
             ],
             [
              0.2222222222222222,
              "#7201a8"
             ],
             [
              0.3333333333333333,
              "#9c179e"
             ],
             [
              0.4444444444444444,
              "#bd3786"
             ],
             [
              0.5555555555555556,
              "#d8576b"
             ],
             [
              0.6666666666666666,
              "#ed7953"
             ],
             [
              0.7777777777777778,
              "#fb9f3a"
             ],
             [
              0.8888888888888888,
              "#fdca26"
             ],
             [
              1,
              "#f0f921"
             ]
            ],
            "type": "surface"
           }
          ],
          "table": [
           {
            "cells": {
             "fill": {
              "color": "#EBF0F8"
             },
             "line": {
              "color": "white"
             }
            },
            "header": {
             "fill": {
              "color": "#C8D4E3"
             },
             "line": {
              "color": "white"
             }
            },
            "type": "table"
           }
          ]
         },
         "layout": {
          "annotationdefaults": {
           "arrowcolor": "#2a3f5f",
           "arrowhead": 0,
           "arrowwidth": 1
          },
          "autotypenumbers": "strict",
          "coloraxis": {
           "colorbar": {
            "outlinewidth": 0,
            "ticks": ""
           }
          },
          "colorscale": {
           "diverging": [
            [
             0,
             "#8e0152"
            ],
            [
             0.1,
             "#c51b7d"
            ],
            [
             0.2,
             "#de77ae"
            ],
            [
             0.3,
             "#f1b6da"
            ],
            [
             0.4,
             "#fde0ef"
            ],
            [
             0.5,
             "#f7f7f7"
            ],
            [
             0.6,
             "#e6f5d0"
            ],
            [
             0.7,
             "#b8e186"
            ],
            [
             0.8,
             "#7fbc41"
            ],
            [
             0.9,
             "#4d9221"
            ],
            [
             1,
             "#276419"
            ]
           ],
           "sequential": [
            [
             0,
             "#0d0887"
            ],
            [
             0.1111111111111111,
             "#46039f"
            ],
            [
             0.2222222222222222,
             "#7201a8"
            ],
            [
             0.3333333333333333,
             "#9c179e"
            ],
            [
             0.4444444444444444,
             "#bd3786"
            ],
            [
             0.5555555555555556,
             "#d8576b"
            ],
            [
             0.6666666666666666,
             "#ed7953"
            ],
            [
             0.7777777777777778,
             "#fb9f3a"
            ],
            [
             0.8888888888888888,
             "#fdca26"
            ],
            [
             1,
             "#f0f921"
            ]
           ],
           "sequentialminus": [
            [
             0,
             "#0d0887"
            ],
            [
             0.1111111111111111,
             "#46039f"
            ],
            [
             0.2222222222222222,
             "#7201a8"
            ],
            [
             0.3333333333333333,
             "#9c179e"
            ],
            [
             0.4444444444444444,
             "#bd3786"
            ],
            [
             0.5555555555555556,
             "#d8576b"
            ],
            [
             0.6666666666666666,
             "#ed7953"
            ],
            [
             0.7777777777777778,
             "#fb9f3a"
            ],
            [
             0.8888888888888888,
             "#fdca26"
            ],
            [
             1,
             "#f0f921"
            ]
           ]
          },
          "colorway": [
           "#636efa",
           "#EF553B",
           "#00cc96",
           "#ab63fa",
           "#FFA15A",
           "#19d3f3",
           "#FF6692",
           "#B6E880",
           "#FF97FF",
           "#FECB52"
          ],
          "font": {
           "color": "#2a3f5f"
          },
          "geo": {
           "bgcolor": "white",
           "lakecolor": "white",
           "landcolor": "#E5ECF6",
           "showlakes": true,
           "showland": true,
           "subunitcolor": "white"
          },
          "hoverlabel": {
           "align": "left"
          },
          "hovermode": "closest",
          "mapbox": {
           "style": "light"
          },
          "paper_bgcolor": "white",
          "plot_bgcolor": "#E5ECF6",
          "polar": {
           "angularaxis": {
            "gridcolor": "white",
            "linecolor": "white",
            "ticks": ""
           },
           "bgcolor": "#E5ECF6",
           "radialaxis": {
            "gridcolor": "white",
            "linecolor": "white",
            "ticks": ""
           }
          },
          "scene": {
           "xaxis": {
            "backgroundcolor": "#E5ECF6",
            "gridcolor": "white",
            "gridwidth": 2,
            "linecolor": "white",
            "showbackground": true,
            "ticks": "",
            "zerolinecolor": "white"
           },
           "yaxis": {
            "backgroundcolor": "#E5ECF6",
            "gridcolor": "white",
            "gridwidth": 2,
            "linecolor": "white",
            "showbackground": true,
            "ticks": "",
            "zerolinecolor": "white"
           },
           "zaxis": {
            "backgroundcolor": "#E5ECF6",
            "gridcolor": "white",
            "gridwidth": 2,
            "linecolor": "white",
            "showbackground": true,
            "ticks": "",
            "zerolinecolor": "white"
           }
          },
          "shapedefaults": {
           "line": {
            "color": "#2a3f5f"
           }
          },
          "ternary": {
           "aaxis": {
            "gridcolor": "white",
            "linecolor": "white",
            "ticks": ""
           },
           "baxis": {
            "gridcolor": "white",
            "linecolor": "white",
            "ticks": ""
           },
           "bgcolor": "#E5ECF6",
           "caxis": {
            "gridcolor": "white",
            "linecolor": "white",
            "ticks": ""
           }
          },
          "title": {
           "x": 0.05
          },
          "xaxis": {
           "automargin": true,
           "gridcolor": "white",
           "linecolor": "white",
           "ticks": "",
           "title": {
            "standoff": 15
           },
           "zerolinecolor": "white",
           "zerolinewidth": 2
          },
          "yaxis": {
           "automargin": true,
           "gridcolor": "white",
           "linecolor": "white",
           "ticks": "",
           "title": {
            "standoff": 15
           },
           "zerolinecolor": "white",
           "zerolinewidth": 2
          }
         }
        },
        "title": {
         "font": {
          "size": 16
         },
         "text": "Flash Point: Fire Rescue"
        },
        "xaxis": {
         "showgrid": false,
         "zeroline": false
        },
        "yaxis": {
         "showgrid": false,
         "zeroline": false
        }
       }
      }
     },
     "metadata": {},
     "output_type": "display_data"
    }
   ],
   "source": [
    "# Inicializar el tablero\n",
    "G = initialize_board(board_config)\n",
    "\n",
    "print(\"Inicial\")\n",
    "plot_graph(G)\n",
    "\n",
    "place_smoke(G, 2, 0)\n",
    "place_smoke(G, 3, 0)\n",
    "place_smoke(G, 3, 1)\n",
    "place_smoke(G, 4, 1)\n",
    "\n",
    "print(\"Con humo\")\n",
    "plot_graph(G)\n",
    "\n",
    "place_smoke(G, 3, 1)\n",
    "\n",
    "print(\"Simular ignición (Poner humo en (3, 1))\")\n",
    "plot_graph(G)"
   ]
  },
  {
   "cell_type": "code",
   "execution_count": 6,
   "metadata": {},
   "outputs": [],
   "source": [
    "class BoardModel(Model):\n",
    "\n",
    "    def __init__(self, board_config):\n",
    "\n",
    "        # Definir el tamaño del tablero\n",
    "        self.height = len(board_config['board'])\n",
    "        self.width = len(board_config['board'][0])\n",
    "\n",
    "        # Crear el grid\n",
    "        self.grid = MultiGrid(self.width, self.height, torus=False)\n",
    "\n",
    "        # Crear grafo para el tablero\n",
    "        self.graph = nx.Graph()     "
   ]
  }
 ],
 "metadata": {
  "kernelspec": {
   "display_name": ".venv",
   "language": "python",
   "name": "python3"
  },
  "language_info": {
   "codemirror_mode": {
    "name": "ipython",
    "version": 3
   },
   "file_extension": ".py",
   "mimetype": "text/x-python",
   "name": "python",
   "nbconvert_exporter": "python",
   "pygments_lexer": "ipython3",
   "version": "3.13.0"
  }
 },
 "nbformat": 4,
 "nbformat_minor": 2
}
