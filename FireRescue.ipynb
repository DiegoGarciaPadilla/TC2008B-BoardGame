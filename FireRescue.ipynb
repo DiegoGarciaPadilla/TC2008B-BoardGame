{
 "cells": [
  {
   "cell_type": "markdown",
   "metadata": {},
   "source": [
    "# Flash Point: Fire Rescue"
   ]
  },
  {
   "cell_type": "markdown",
   "metadata": {},
   "source": [
    "## Instalación e importación de librerías"
   ]
  },
  {
   "cell_type": "code",
   "execution_count": 7,
   "metadata": {},
   "outputs": [
    {
     "name": "stdout",
     "output_type": "stream",
     "text": [
      "Note: you may need to restart the kernel to use updated packages.\n"
     ]
    }
   ],
   "source": [
    "# Descargar e instalar mesa y seaborn\n",
    "\n",
    "%pip install mesa==2.3.1 seaborn --quiet"
   ]
  },
  {
   "cell_type": "code",
   "execution_count": 8,
   "metadata": {},
   "outputs": [],
   "source": [
    "# Importamos las clases que se requieren para manejar los agentes (Agent) y su entorno (Model).\n",
    "# Cada modelo puede contener múltiples agentes.\n",
    "from mesa import Agent, Model\n",
    "\n",
    "# Debido a que necesitamos que existe un solo agente por celda, elegimos ''SingleGrid''.\n",
    "from mesa.space import SingleGrid\n",
    "\n",
    "# Con 'SimultaneousActivation' podemos activar todos los agentes al mismo tiempo.\n",
    "from mesa.time import SimultaneousActivation\n",
    "\n",
    "# Con 'RandomActivation' podemos activar los agentes en un orden aleatorio.\n",
    "from mesa.time import RandomActivation\n",
    "\n",
    "# Haremos uso de ''DataCollector'' para obtener información de cada paso de la simulación.\n",
    "from mesa.datacollection import DataCollector\n",
    "\n",
    "# BATCH_RUNNER\n",
    "from mesa.batchrunner import batch_run\n",
    "\n",
    "# matplotlib lo usaremos crear una animación de cada uno de los pasos del modelo.\n",
    "%matplotlib inline\n",
    "import matplotlib\n",
    "import matplotlib.pyplot as plt\n",
    "import matplotlib.animation as animation\n",
    "plt.rcParams[\"animation.html\"] = \"jshtml\"\n",
    "matplotlib.rcParams['animation.embed_limit'] = 2**128\n",
    "\n",
    "# Importamos los siguientes paquetes para el mejor manejo de valores numéricos.\n",
    "import numpy as np\n",
    "import pandas as pd\n",
    "\n",
    "# Definimos otros paquetes que vamos a usar para medir el tiempo de ejecución de nuestro algoritmo.\n",
    "import time\n",
    "import datetime\n",
    "\n",
    "# Importamos el paquete seaborn para mejorar la visualización de los datos.\n",
    "import seaborn as sns"
   ]
  },
  {
   "cell_type": "markdown",
   "metadata": {},
   "source": [
    "## Leer archivo de configuración inicial"
   ]
  },
  {
   "cell_type": "code",
   "execution_count": 9,
   "metadata": {},
   "outputs": [
    {
     "data": {
      "text/plain": [
       "{'board': [['1100', '1000', '1001', '1100', '1001', '1100', '1000', '1001'],\n",
       "  ['0100', '0000', '0011', '0100', '0011', '0110', '0010', '0011'],\n",
       "  ['0100', '0001', '1100', '1000', '1000', '1001', '1100', '1001'],\n",
       "  ['0100', '0011', '0110', '0010', '0010', '0011', '0110', '0011'],\n",
       "  ['1100', '1000', '1000', '1000', '1001', '1100', '1001', '1101'],\n",
       "  ['0110', '0010', '0010', '0010', '0011', '0110', '0011', '0111']],\n",
       " 'points_of_interest': [['2', '4', 'v'], ['5', '1', 'f'], ['5', '8', 'v']],\n",
       " 'fire_indicators': [['2', '2'],\n",
       "  ['2', '3'],\n",
       "  ['3', '2'],\n",
       "  ['3', '3'],\n",
       "  ['3', '4'],\n",
       "  ['3', '5'],\n",
       "  ['4', '4'],\n",
       "  ['5', '6'],\n",
       "  ['5', '7'],\n",
       "  ['6', '6']],\n",
       " 'doors': [['1', '3', '1', '4'],\n",
       "  ['2', '5', '2', '6'],\n",
       "  ['2', '8', '3', '8'],\n",
       "  ['3', '2', '3', '3'],\n",
       "  ['4', '4', '5', '4'],\n",
       "  ['4', '6', '4', '7'],\n",
       "  ['6', '5', '6', '6'],\n",
       "  ['6', '7', '6', '8']],\n",
       " 'entry_points': [['1', '6'], ['3', '1'], ['4', '8'], ['6', '3']]}"
      ]
     },
     "execution_count": 9,
     "metadata": {},
     "output_type": "execute_result"
    }
   ],
   "source": [
    "# Abrir el archivo de configuración\n",
    "file = open(\"board-config.txt\", \"r\")\n",
    "\n",
    "# Obtener la información del tablero\n",
    "config = file.readlines()\n",
    "\n",
    "# Cerrar el archivo\n",
    "file.close()\n",
    "\n",
    "# Crear un diccionario para almacenar la configuración del tablero\n",
    "board_config = {}\n",
    "\n",
    "# Configuración del tablero\n",
    "board_config['board'] = [x.replace(\"\\n\", \"\").split() for x in config[:6]]\n",
    "\n",
    "# Puntos de interés\n",
    "board_config['points_of_interest'] = [x.replace(\"\\n\", \"\").split() for x in config[6:9]]\n",
    "\n",
    "# Indicadores de fuego\n",
    "board_config['fire_indicators'] = [x.replace(\"\\n\", \"\").split() for x in config[9:19]]\n",
    "\n",
    "# Puertas\n",
    "board_config['doors'] = [x.replace(\"\\n\", \"\").split() for x in config[19:27]]\n",
    "\n",
    "# Puntos de entrada\n",
    "board_config['entry_points'] = [x.replace(\"\\n\", \"\").split() for x in config[27:31]]\n",
    "\n",
    "# Imprimir la configuración del tablero\n",
    "board_config\n"
   ]
  }
 ],
 "metadata": {
  "kernelspec": {
   "display_name": ".venv",
   "language": "python",
   "name": "python3"
  },
  "language_info": {
   "codemirror_mode": {
    "name": "ipython",
    "version": 3
   },
   "file_extension": ".py",
   "mimetype": "text/x-python",
   "name": "python",
   "nbconvert_exporter": "python",
   "pygments_lexer": "ipython3",
   "version": "3.13.0"
  }
 },
 "nbformat": 4,
 "nbformat_minor": 2
}
