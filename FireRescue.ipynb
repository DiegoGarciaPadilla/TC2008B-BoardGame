{
 "cells": [
  {
   "cell_type": "markdown",
   "metadata": {},
   "source": [
    "# Flash Point: Fire Rescue"
   ]
  },
  {
   "cell_type": "markdown",
   "metadata": {},
   "source": [
    "## Instalación e importación de librerías"
   ]
  },
  {
   "cell_type": "code",
   "execution_count": 1,
   "metadata": {},
   "outputs": [
    {
     "name": "stdout",
     "output_type": "stream",
     "text": [
      "Note: you may need to restart the kernel to use updated packages.\n"
     ]
    }
   ],
   "source": [
    "# Descargar e instalar mesa, seaborn y plotly\n",
    "\n",
    "%pip install mesa==2.3.1 seaborn plotly --quiet"
   ]
  },
  {
   "cell_type": "code",
   "execution_count": 2,
   "metadata": {},
   "outputs": [],
   "source": [
    "# Importamos las clases que se requieren para manejar los agentes (Agent) y su entorno (Model).\n",
    "# Cada modelo puede contener múltiples agentes.\n",
    "from mesa import Agent, Model\n",
    "\n",
    "# Debido a que necesitamos que existe un solo agente por celda, elegimos ''SingleGrid''.\n",
    "from mesa.space import SingleGrid\n",
    "\n",
    "# Con 'SimultaneousActivation' podemos activar todos los agentes al mismo tiempo.\n",
    "from mesa.time import SimultaneousActivation\n",
    "\n",
    "# Con 'RandomActivation' podemos activar los agentes en un orden aleatorio.\n",
    "from mesa.time import RandomActivation\n",
    "\n",
    "# Haremos uso de ''DataCollector'' para obtener información de cada paso de la simulación.\n",
    "from mesa.datacollection import DataCollector\n",
    "\n",
    "# BATCH_RUNNER\n",
    "from mesa.batchrunner import batch_run\n",
    "\n",
    "# matplotlib lo usaremos crear una animación de cada uno de los pasos del modelo.\n",
    "%matplotlib inline\n",
    "import matplotlib\n",
    "import matplotlib.pyplot as plt\n",
    "import matplotlib.animation as animation\n",
    "plt.rcParams[\"animation.html\"] = \"jshtml\"\n",
    "matplotlib.rcParams['animation.embed_limit'] = 2**128\n",
    "\n",
    "# Importamos los siguientes paquetes para el mejor manejo de valores numéricos.\n",
    "import numpy as np\n",
    "import pandas as pd\n",
    "\n",
    "# Definimos otros paquetes que vamos a usar para medir el tiempo de ejecución de nuestro algoritmo.\n",
    "import time\n",
    "import datetime\n",
    "\n",
    "# Importamos el paquete seaborn para mejorar la visualización de los datos.\n",
    "import seaborn as sns\n",
    "\n",
    "# Importamos el paquete plotly para crear gráficos interactivos.\n",
    "import plotly.graph_objects as go\n",
    "\n",
    "# Importamos el paquete networkx para crear grafos.\n",
    "import networkx as nx"
   ]
  },
  {
   "cell_type": "markdown",
   "metadata": {},
   "source": [
    "## Leer archivo de configuración inicial"
   ]
  },
  {
   "cell_type": "code",
   "execution_count": 3,
   "metadata": {},
   "outputs": [
    {
     "data": {
      "text/plain": [
       "{'board': [['1100', '1000', '1001', '1100', '1001', '1100', '1000', '1001'],\n",
       "  ['0100', '0000', '0011', '0100', '0011', '0110', '0010', '0011'],\n",
       "  ['0100', '0001', '1100', '1000', '1000', '1001', '1100', '1001'],\n",
       "  ['0100', '0011', '0110', '0010', '0010', '0011', '0110', '0011'],\n",
       "  ['1100', '1000', '1000', '1000', '1001', '1100', '1001', '1101'],\n",
       "  ['0110', '0010', '0010', '0010', '0011', '0110', '0011', '0111']],\n",
       " 'points_of_interest': [['2', '4', 'v'], ['5', '1', 'f'], ['5', '8', 'v']],\n",
       " 'fire_indicators': [['2', '2'],\n",
       "  ['2', '3'],\n",
       "  ['3', '2'],\n",
       "  ['3', '3'],\n",
       "  ['3', '4'],\n",
       "  ['3', '5'],\n",
       "  ['4', '4'],\n",
       "  ['5', '6'],\n",
       "  ['5', '7'],\n",
       "  ['6', '6']],\n",
       " 'doors': [['1', '3', '1', '4'],\n",
       "  ['2', '5', '2', '6'],\n",
       "  ['2', '8', '3', '8'],\n",
       "  ['3', '2', '3', '3'],\n",
       "  ['4', '4', '5', '4'],\n",
       "  ['4', '6', '4', '7'],\n",
       "  ['6', '5', '6', '6'],\n",
       "  ['6', '7', '6', '8']],\n",
       " 'entry_points': [['1', '6'], ['3', '1'], ['4', '8'], ['6', '3']]}"
      ]
     },
     "execution_count": 3,
     "metadata": {},
     "output_type": "execute_result"
    }
   ],
   "source": [
    "# Abrir el archivo de configuración\n",
    "file = open(\"board-config.txt\", \"r\")\n",
    "\n",
    "# Obtener la información del tablero\n",
    "config = file.readlines()\n",
    "\n",
    "# Cerrar el archivo\n",
    "file.close()\n",
    "\n",
    "# Crear un diccionario para almacenar la configuración del tablero\n",
    "board_config = {}\n",
    "\n",
    "# Configuración del tablero\n",
    "board_config['board'] = [x.replace(\"\\n\", \"\").split() for x in config[:6]]\n",
    "\n",
    "# Puntos de interés\n",
    "board_config['points_of_interest'] = [x.replace(\"\\n\", \"\").split() for x in config[6:9]]\n",
    "\n",
    "# Indicadores de fuego\n",
    "board_config['fire_indicators'] = [x.replace(\"\\n\", \"\").split() for x in config[9:19]]\n",
    "\n",
    "# Puertas\n",
    "board_config['doors'] = [x.replace(\"\\n\", \"\").split() for x in config[19:27]]\n",
    "\n",
    "# Puntos de entrada\n",
    "board_config['entry_points'] = [x.replace(\"\\n\", \"\").split() for x in config[27:31]]\n",
    "\n",
    "# Imprimir la configuración del tablero\n",
    "board_config"
   ]
  },
  {
   "cell_type": "code",
   "execution_count": 4,
   "metadata": {},
   "outputs": [
    {
     "data": {
      "text/plain": [
       "{(0, 2): (0, 3),\n",
       " (1, 4): (1, 5),\n",
       " (1, 7): (2, 7),\n",
       " (2, 1): (2, 2),\n",
       " (3, 3): (4, 3),\n",
       " (3, 5): (3, 6),\n",
       " (5, 4): (5, 5),\n",
       " (5, 6): (5, 7)}"
      ]
     },
     "execution_count": 4,
     "metadata": {},
     "output_type": "execute_result"
    }
   ],
   "source": [
    "doors = {}\n",
    "\n",
    "for door in board_config['doors']:\n",
    "    # Se resta 1 a las coordenadas para que coincidan con las coordenadas del tablero\n",
    "    doors[(int(door[0]) - 1, int(door[1]) - 1)] = (int(door[2]) - 1, int(door[3]) - 1)\n",
    "\n",
    "\n",
    "doors"
   ]
  },
  {
   "cell_type": "markdown",
   "metadata": {},
   "source": [
    "## Solución aleatoria"
   ]
  },
  {
   "cell_type": "code",
   "execution_count": 5,
   "metadata": {},
   "outputs": [],
   "source": [
    "def initialize_board(board_config):\n",
    "    \"\"\"\n",
    "    De acuerdo a la configuración del tablero, se inicializa el tablero como un grafo\n",
    "    \"\"\"\n",
    "\n",
    "    # Crear un grafo vacío\n",
    "    G = nx.Graph()\n",
    "\n",
    "    # Información del tablero (transiciones y muros)\n",
    "    # \"TLDR\" -> Top, Left, Down, Right\n",
    "    board_info = board_config['board']\n",
    "\n",
    "    # Puertas\n",
    "    doors = {}\n",
    "    for door in board_config['doors']:\n",
    "        # Se resta 1 a las coordenadas para que coincidan con las coordenadas del tablero\n",
    "        doors[(int(door[0]) - 1, int(door[1]) - 1)] = (int(door[2]) - 1, int(door[3]) - 1)\n",
    "\n",
    "    # Agregar los nodos al grafo\n",
    "    for i in range(len(board_info)):\n",
    "        for j in range(len(board_info[i])):\n",
    "            G.add_node((i, j))\n",
    "\n",
    "    # Agregar las aristas al grafo\n",
    "    for i in range(len(board_info)):\n",
    "        for j in range(len(board_info[i])):\n",
    "\n",
    "            # String con la información de la celda\n",
    "            # \"TLDR\" -> Top, Left, Down, Right\n",
    "            # Peso 1 -> Libre / Puerta abierta o destruida\n",
    "            # Peso 2 -> Puerta cerrada\n",
    "            # Peso 5 -> Pared\n",
    "            \n",
    "            # Verificar si hay una transición arriba\n",
    "            if board_info[i][j][0] == '0':\n",
    "                G.add_edge((i, j), (i - 1, j), weight = 1)\n",
    "            else:\n",
    "                # Verificar si hay una puerta\n",
    "                if (i, j) in doors and doors[(i, j)] == (i - 1, j):\n",
    "                    # Agregar puerta\n",
    "                    G.add_edge((i, j), (i - 1, j), weight = 2)\n",
    "                # Si no hay puerta, agregar pared\n",
    "                elif i != 0 and not G.has_edge((i, j), (i - 1, j)):\n",
    "                    G.add_edge((i, j), (i - 1, j), weight = 5)\n",
    "\n",
    "\n",
    "            # Verificar si hay una transición a la izquierda\n",
    "            if board_info[i][j][1] == '0':\n",
    "                G.add_edge((i, j), (i, j - 1), weight = 1)\n",
    "            else:\n",
    "                # Verificar si hay una puerta\n",
    "                if (i, j) in doors and doors[(i, j)] == (i, j - 1):\n",
    "                    # Agregar puerta\n",
    "                    G.add_edge((i, j), (i, j - 1), weight = 2)\n",
    "                # Si no hay puerta, agregar pared\n",
    "                elif j != 0 and not G.has_edge((i, j), (i, j - 1)):\n",
    "                    G.add_edge((i, j), (i, j - 1), weight = 5)\n",
    "\n",
    "            # Verificar si hay una transición abajo\n",
    "            if board_info[i][j][2] == '0':\n",
    "                G.add_edge((i, j), (i + 1, j), weight = 1)\n",
    "            else:\n",
    "                # Verificar si hay una puerta\n",
    "                if (i, j) in doors and doors[(i, j)] == (i + 1, j):\n",
    "                    # Agregar puerta\n",
    "                    G.add_edge((i, j), (i + 1, j), weight = 2)\n",
    "                # Si no hay puerta, agregar pared\n",
    "                elif i != len(board_info) - 1 and not G.has_edge((i, j), (i + 1, j)):\n",
    "                    G.add_edge((i, j), (i + 1, j), weight = 5)\n",
    "\n",
    "            # Verificar si hay una transición a la derecha\n",
    "            if board_info[i][j][3] == '0':\n",
    "                G.add_edge((i, j), (i, j + 1), weight = 1)\n",
    "            else:\n",
    "                # Verificar si hay una puerta\n",
    "                if (i, j) in doors and doors[(i, j)] == (i, j + 1):\n",
    "                    # Agregar puerta\n",
    "                    G.add_edge((i, j), (i, j + 1), weight = 2)\n",
    "                # Si no hay puerta, agregar pared\n",
    "                elif j != len(board_info[i]) - 1 and not G.has_edge((i, j), (i, j + 1)):\n",
    "                    G.add_edge((i, j), (i, j + 1), weight = 5)\n",
    "\n",
    "    # Retornar el grafo\n",
    "    return G"
   ]
  },
  {
   "cell_type": "code",
   "execution_count": 6,
   "metadata": {},
   "outputs": [
    {
     "data": {
      "application/vnd.plotly.v1+json": {
       "config": {
        "plotlyServerURL": "https://plot.ly"
       },
       "data": [
        {
         "hoverinfo": "none",
         "line": {
          "color": "#888",
          "width": 1
         },
         "mode": "lines",
         "type": "scatter",
         "x": [
          0,
          0,
          null,
          0,
          1,
          null,
          1,
          1,
          null,
          1,
          2,
          null,
          2,
          2,
          null,
          2,
          3,
          null,
          3,
          3,
          null,
          3,
          4,
          null,
          4,
          4,
          null,
          4,
          5,
          null,
          5,
          5,
          null,
          5,
          6,
          null,
          6,
          6,
          null,
          6,
          7,
          null,
          7,
          7,
          null,
          0,
          0,
          null,
          0,
          1,
          null,
          1,
          1,
          null,
          1,
          2,
          null,
          2,
          2,
          null,
          2,
          3,
          null,
          3,
          3,
          null,
          3,
          4,
          null,
          4,
          4,
          null,
          4,
          5,
          null,
          5,
          5,
          null,
          5,
          6,
          null,
          6,
          6,
          null,
          6,
          7,
          null,
          7,
          7,
          null,
          0,
          0,
          null,
          0,
          1,
          null,
          1,
          1,
          null,
          1,
          2,
          null,
          2,
          2,
          null,
          2,
          3,
          null,
          3,
          3,
          null,
          3,
          4,
          null,
          4,
          4,
          null,
          4,
          5,
          null,
          5,
          5,
          null,
          5,
          6,
          null,
          6,
          6,
          null,
          6,
          7,
          null,
          7,
          7,
          null,
          0,
          0,
          null,
          0,
          1,
          null,
          1,
          1,
          null,
          1,
          2,
          null,
          2,
          2,
          null,
          2,
          3,
          null,
          3,
          3,
          null,
          3,
          4,
          null,
          4,
          4,
          null,
          4,
          5,
          null,
          5,
          5,
          null,
          5,
          6,
          null,
          6,
          6,
          null,
          6,
          7,
          null,
          7,
          7,
          null,
          0,
          0,
          null,
          0,
          1,
          null,
          1,
          1,
          null,
          1,
          2,
          null,
          2,
          2,
          null,
          2,
          3,
          null,
          3,
          3,
          null,
          3,
          4,
          null,
          4,
          4,
          null,
          4,
          5,
          null,
          5,
          5,
          null,
          5,
          6,
          null,
          6,
          6,
          null,
          6,
          7,
          null,
          7,
          7,
          null,
          0,
          1,
          null,
          1,
          2,
          null,
          2,
          3,
          null,
          3,
          4,
          null,
          4,
          5,
          null,
          5,
          6,
          null,
          6,
          7,
          null
         ],
         "y": [
          0,
          -1,
          null,
          0,
          0,
          null,
          0,
          -1,
          null,
          0,
          0,
          null,
          0,
          -1,
          null,
          0,
          0,
          null,
          0,
          -1,
          null,
          0,
          0,
          null,
          0,
          -1,
          null,
          0,
          0,
          null,
          0,
          -1,
          null,
          0,
          0,
          null,
          0,
          -1,
          null,
          0,
          0,
          null,
          0,
          -1,
          null,
          -1,
          -2,
          null,
          -1,
          -1,
          null,
          -1,
          -2,
          null,
          -1,
          -1,
          null,
          -1,
          -2,
          null,
          -1,
          -1,
          null,
          -1,
          -2,
          null,
          -1,
          -1,
          null,
          -1,
          -2,
          null,
          -1,
          -1,
          null,
          -1,
          -2,
          null,
          -1,
          -1,
          null,
          -1,
          -2,
          null,
          -1,
          -1,
          null,
          -1,
          -2,
          null,
          -2,
          -3,
          null,
          -2,
          -2,
          null,
          -2,
          -3,
          null,
          -2,
          -2,
          null,
          -2,
          -3,
          null,
          -2,
          -2,
          null,
          -2,
          -3,
          null,
          -2,
          -2,
          null,
          -2,
          -3,
          null,
          -2,
          -2,
          null,
          -2,
          -3,
          null,
          -2,
          -2,
          null,
          -2,
          -3,
          null,
          -2,
          -2,
          null,
          -2,
          -3,
          null,
          -3,
          -4,
          null,
          -3,
          -3,
          null,
          -3,
          -4,
          null,
          -3,
          -3,
          null,
          -3,
          -4,
          null,
          -3,
          -3,
          null,
          -3,
          -4,
          null,
          -3,
          -3,
          null,
          -3,
          -4,
          null,
          -3,
          -3,
          null,
          -3,
          -4,
          null,
          -3,
          -3,
          null,
          -3,
          -4,
          null,
          -3,
          -3,
          null,
          -3,
          -4,
          null,
          -4,
          -5,
          null,
          -4,
          -4,
          null,
          -4,
          -5,
          null,
          -4,
          -4,
          null,
          -4,
          -5,
          null,
          -4,
          -4,
          null,
          -4,
          -5,
          null,
          -4,
          -4,
          null,
          -4,
          -5,
          null,
          -4,
          -4,
          null,
          -4,
          -5,
          null,
          -4,
          -4,
          null,
          -4,
          -5,
          null,
          -4,
          -4,
          null,
          -4,
          -5,
          null,
          -5,
          -5,
          null,
          -5,
          -5,
          null,
          -5,
          -5,
          null,
          -5,
          -5,
          null,
          -5,
          -5,
          null,
          -5,
          -5,
          null,
          -5,
          -5,
          null
         ]
        },
        {
         "hoverinfo": "text",
         "marker": {
          "color": [
           2,
           3,
           3,
           3,
           3,
           3,
           3,
           2,
           3,
           4,
           4,
           4,
           4,
           4,
           4,
           3,
           3,
           4,
           4,
           4,
           4,
           4,
           4,
           3,
           3,
           4,
           4,
           4,
           4,
           4,
           4,
           3,
           3,
           4,
           4,
           4,
           4,
           4,
           4,
           3,
           2,
           3,
           3,
           3,
           3,
           3,
           3,
           2
          ],
          "colorbar": {
           "thickness": 15,
           "title": {
            "side": "right",
            "text": "Conexiones"
           },
           "xanchor": "left"
          },
          "colorscale": [
           [
            0,
            "rgb(255,255,217)"
           ],
           [
            0.125,
            "rgb(237,248,177)"
           ],
           [
            0.25,
            "rgb(199,233,180)"
           ],
           [
            0.375,
            "rgb(127,205,187)"
           ],
           [
            0.5,
            "rgb(65,182,196)"
           ],
           [
            0.625,
            "rgb(29,145,192)"
           ],
           [
            0.75,
            "rgb(34,94,168)"
           ],
           [
            0.875,
            "rgb(37,52,148)"
           ],
           [
            1,
            "rgb(8,29,88)"
           ]
          ],
          "showscale": true,
          "size": 10
         },
         "mode": "markers",
         "text": [
          "Nodo 0: 2 conexiones",
          "Nodo 1: 3 conexiones",
          "Nodo 2: 3 conexiones",
          "Nodo 3: 3 conexiones",
          "Nodo 4: 3 conexiones",
          "Nodo 5: 3 conexiones",
          "Nodo 6: 3 conexiones",
          "Nodo 7: 2 conexiones",
          "Nodo 8: 3 conexiones",
          "Nodo 9: 4 conexiones",
          "Nodo 10: 4 conexiones",
          "Nodo 11: 4 conexiones",
          "Nodo 12: 4 conexiones",
          "Nodo 13: 4 conexiones",
          "Nodo 14: 4 conexiones",
          "Nodo 15: 3 conexiones",
          "Nodo 16: 3 conexiones",
          "Nodo 17: 4 conexiones",
          "Nodo 18: 4 conexiones",
          "Nodo 19: 4 conexiones",
          "Nodo 20: 4 conexiones",
          "Nodo 21: 4 conexiones",
          "Nodo 22: 4 conexiones",
          "Nodo 23: 3 conexiones",
          "Nodo 24: 3 conexiones",
          "Nodo 25: 4 conexiones",
          "Nodo 26: 4 conexiones",
          "Nodo 27: 4 conexiones",
          "Nodo 28: 4 conexiones",
          "Nodo 29: 4 conexiones",
          "Nodo 30: 4 conexiones",
          "Nodo 31: 3 conexiones",
          "Nodo 32: 3 conexiones",
          "Nodo 33: 4 conexiones",
          "Nodo 34: 4 conexiones",
          "Nodo 35: 4 conexiones",
          "Nodo 36: 4 conexiones",
          "Nodo 37: 4 conexiones",
          "Nodo 38: 4 conexiones",
          "Nodo 39: 3 conexiones",
          "Nodo 40: 2 conexiones",
          "Nodo 41: 3 conexiones",
          "Nodo 42: 3 conexiones",
          "Nodo 43: 3 conexiones",
          "Nodo 44: 3 conexiones",
          "Nodo 45: 3 conexiones",
          "Nodo 46: 3 conexiones",
          "Nodo 47: 2 conexiones"
         ],
         "type": "scatter",
         "x": [
          0,
          1,
          2,
          3,
          4,
          5,
          6,
          7,
          0,
          1,
          2,
          3,
          4,
          5,
          6,
          7,
          0,
          1,
          2,
          3,
          4,
          5,
          6,
          7,
          0,
          1,
          2,
          3,
          4,
          5,
          6,
          7,
          0,
          1,
          2,
          3,
          4,
          5,
          6,
          7,
          0,
          1,
          2,
          3,
          4,
          5,
          6,
          7
         ],
         "y": [
          0,
          0,
          0,
          0,
          0,
          0,
          0,
          0,
          -1,
          -1,
          -1,
          -1,
          -1,
          -1,
          -1,
          -1,
          -2,
          -2,
          -2,
          -2,
          -2,
          -2,
          -2,
          -2,
          -3,
          -3,
          -3,
          -3,
          -3,
          -3,
          -3,
          -3,
          -4,
          -4,
          -4,
          -4,
          -4,
          -4,
          -4,
          -4,
          -5,
          -5,
          -5,
          -5,
          -5,
          -5,
          -5,
          -5
         ]
        }
       ],
       "layout": {
        "annotations": [
         {
          "font": {
           "color": "black",
           "size": 10
          },
          "showarrow": false,
          "text": "1",
          "x": 0,
          "y": -0.5
         },
         {
          "font": {
           "color": "black",
           "size": 10
          },
          "showarrow": false,
          "text": "1",
          "x": 0.5,
          "y": 0
         },
         {
          "font": {
           "color": "black",
           "size": 10
          },
          "showarrow": false,
          "text": "1",
          "x": 1,
          "y": -0.5
         },
         {
          "font": {
           "color": "black",
           "size": 10
          },
          "showarrow": false,
          "text": "1",
          "x": 1.5,
          "y": 0
         },
         {
          "font": {
           "color": "black",
           "size": 10
          },
          "showarrow": false,
          "text": "1",
          "x": 2,
          "y": -0.5
         },
         {
          "font": {
           "color": "black",
           "size": 10
          },
          "showarrow": false,
          "text": "2",
          "x": 2.5,
          "y": 0
         },
         {
          "font": {
           "color": "black",
           "size": 10
          },
          "showarrow": false,
          "text": "1",
          "x": 3,
          "y": -0.5
         },
         {
          "font": {
           "color": "black",
           "size": 10
          },
          "showarrow": false,
          "text": "1",
          "x": 3.5,
          "y": 0
         },
         {
          "font": {
           "color": "black",
           "size": 10
          },
          "showarrow": false,
          "text": "1",
          "x": 4,
          "y": -0.5
         },
         {
          "font": {
           "color": "black",
           "size": 10
          },
          "showarrow": false,
          "text": "5",
          "x": 4.5,
          "y": 0
         },
         {
          "font": {
           "color": "black",
           "size": 10
          },
          "showarrow": false,
          "text": "1",
          "x": 5,
          "y": -0.5
         },
         {
          "font": {
           "color": "black",
           "size": 10
          },
          "showarrow": false,
          "text": "1",
          "x": 5.5,
          "y": 0
         },
         {
          "font": {
           "color": "black",
           "size": 10
          },
          "showarrow": false,
          "text": "1",
          "x": 6,
          "y": -0.5
         },
         {
          "font": {
           "color": "black",
           "size": 10
          },
          "showarrow": false,
          "text": "1",
          "x": 6.5,
          "y": 0
         },
         {
          "font": {
           "color": "black",
           "size": 10
          },
          "showarrow": false,
          "text": "1",
          "x": 7,
          "y": -0.5
         },
         {
          "font": {
           "color": "black",
           "size": 10
          },
          "showarrow": false,
          "text": "1",
          "x": 0,
          "y": -1.5
         },
         {
          "font": {
           "color": "black",
           "size": 10
          },
          "showarrow": false,
          "text": "1",
          "x": 0.5,
          "y": -1
         },
         {
          "font": {
           "color": "black",
           "size": 10
          },
          "showarrow": false,
          "text": "1",
          "x": 1,
          "y": -1.5
         },
         {
          "font": {
           "color": "black",
           "size": 10
          },
          "showarrow": false,
          "text": "1",
          "x": 1.5,
          "y": -1
         },
         {
          "font": {
           "color": "black",
           "size": 10
          },
          "showarrow": false,
          "text": "5",
          "x": 2,
          "y": -1.5
         },
         {
          "font": {
           "color": "black",
           "size": 10
          },
          "showarrow": false,
          "text": "5",
          "x": 2.5,
          "y": -1
         },
         {
          "font": {
           "color": "black",
           "size": 10
          },
          "showarrow": false,
          "text": "1",
          "x": 3,
          "y": -1.5
         },
         {
          "font": {
           "color": "black",
           "size": 10
          },
          "showarrow": false,
          "text": "1",
          "x": 3.5,
          "y": -1
         },
         {
          "font": {
           "color": "black",
           "size": 10
          },
          "showarrow": false,
          "text": "5",
          "x": 4,
          "y": -1.5
         },
         {
          "font": {
           "color": "black",
           "size": 10
          },
          "showarrow": false,
          "text": "2",
          "x": 4.5,
          "y": -1
         },
         {
          "font": {
           "color": "black",
           "size": 10
          },
          "showarrow": false,
          "text": "5",
          "x": 5,
          "y": -1.5
         },
         {
          "font": {
           "color": "black",
           "size": 10
          },
          "showarrow": false,
          "text": "1",
          "x": 5.5,
          "y": -1
         },
         {
          "font": {
           "color": "black",
           "size": 10
          },
          "showarrow": false,
          "text": "5",
          "x": 6,
          "y": -1.5
         },
         {
          "font": {
           "color": "black",
           "size": 10
          },
          "showarrow": false,
          "text": "1",
          "x": 6.5,
          "y": -1
         },
         {
          "font": {
           "color": "black",
           "size": 10
          },
          "showarrow": false,
          "text": "2",
          "x": 7,
          "y": -1.5
         },
         {
          "font": {
           "color": "black",
           "size": 10
          },
          "showarrow": false,
          "text": "1",
          "x": 0,
          "y": -2.5
         },
         {
          "font": {
           "color": "black",
           "size": 10
          },
          "showarrow": false,
          "text": "1",
          "x": 0.5,
          "y": -2
         },
         {
          "font": {
           "color": "black",
           "size": 10
          },
          "showarrow": false,
          "text": "1",
          "x": 1,
          "y": -2.5
         },
         {
          "font": {
           "color": "black",
           "size": 10
          },
          "showarrow": false,
          "text": "2",
          "x": 1.5,
          "y": -2
         },
         {
          "font": {
           "color": "black",
           "size": 10
          },
          "showarrow": false,
          "text": "1",
          "x": 2,
          "y": -2.5
         },
         {
          "font": {
           "color": "black",
           "size": 10
          },
          "showarrow": false,
          "text": "1",
          "x": 2.5,
          "y": -2
         },
         {
          "font": {
           "color": "black",
           "size": 10
          },
          "showarrow": false,
          "text": "1",
          "x": 3,
          "y": -2.5
         },
         {
          "font": {
           "color": "black",
           "size": 10
          },
          "showarrow": false,
          "text": "1",
          "x": 3.5,
          "y": -2
         },
         {
          "font": {
           "color": "black",
           "size": 10
          },
          "showarrow": false,
          "text": "1",
          "x": 4,
          "y": -2.5
         },
         {
          "font": {
           "color": "black",
           "size": 10
          },
          "showarrow": false,
          "text": "1",
          "x": 4.5,
          "y": -2
         },
         {
          "font": {
           "color": "black",
           "size": 10
          },
          "showarrow": false,
          "text": "1",
          "x": 5,
          "y": -2.5
         },
         {
          "font": {
           "color": "black",
           "size": 10
          },
          "showarrow": false,
          "text": "5",
          "x": 5.5,
          "y": -2
         },
         {
          "font": {
           "color": "black",
           "size": 10
          },
          "showarrow": false,
          "text": "1",
          "x": 6,
          "y": -2.5
         },
         {
          "font": {
           "color": "black",
           "size": 10
          },
          "showarrow": false,
          "text": "1",
          "x": 6.5,
          "y": -2
         },
         {
          "font": {
           "color": "black",
           "size": 10
          },
          "showarrow": false,
          "text": "1",
          "x": 7,
          "y": -2.5
         },
         {
          "font": {
           "color": "black",
           "size": 10
          },
          "showarrow": false,
          "text": "1",
          "x": 0,
          "y": -3.5
         },
         {
          "font": {
           "color": "black",
           "size": 10
          },
          "showarrow": false,
          "text": "1",
          "x": 0.5,
          "y": -3
         },
         {
          "font": {
           "color": "black",
           "size": 10
          },
          "showarrow": false,
          "text": "5",
          "x": 1,
          "y": -3.5
         },
         {
          "font": {
           "color": "black",
           "size": 10
          },
          "showarrow": false,
          "text": "5",
          "x": 1.5,
          "y": -3
         },
         {
          "font": {
           "color": "black",
           "size": 10
          },
          "showarrow": false,
          "text": "5",
          "x": 2,
          "y": -3.5
         },
         {
          "font": {
           "color": "black",
           "size": 10
          },
          "showarrow": false,
          "text": "1",
          "x": 2.5,
          "y": -3
         },
         {
          "font": {
           "color": "black",
           "size": 10
          },
          "showarrow": false,
          "text": "2",
          "x": 3,
          "y": -3.5
         },
         {
          "font": {
           "color": "black",
           "size": 10
          },
          "showarrow": false,
          "text": "1",
          "x": 3.5,
          "y": -3
         },
         {
          "font": {
           "color": "black",
           "size": 10
          },
          "showarrow": false,
          "text": "5",
          "x": 4,
          "y": -3.5
         },
         {
          "font": {
           "color": "black",
           "size": 10
          },
          "showarrow": false,
          "text": "1",
          "x": 4.5,
          "y": -3
         },
         {
          "font": {
           "color": "black",
           "size": 10
          },
          "showarrow": false,
          "text": "5",
          "x": 5,
          "y": -3.5
         },
         {
          "font": {
           "color": "black",
           "size": 10
          },
          "showarrow": false,
          "text": "2",
          "x": 5.5,
          "y": -3
         },
         {
          "font": {
           "color": "black",
           "size": 10
          },
          "showarrow": false,
          "text": "5",
          "x": 6,
          "y": -3.5
         },
         {
          "font": {
           "color": "black",
           "size": 10
          },
          "showarrow": false,
          "text": "1",
          "x": 6.5,
          "y": -3
         },
         {
          "font": {
           "color": "black",
           "size": 10
          },
          "showarrow": false,
          "text": "5",
          "x": 7,
          "y": -3.5
         },
         {
          "font": {
           "color": "black",
           "size": 10
          },
          "showarrow": false,
          "text": "1",
          "x": 0,
          "y": -4.5
         },
         {
          "font": {
           "color": "black",
           "size": 10
          },
          "showarrow": false,
          "text": "1",
          "x": 0.5,
          "y": -4
         },
         {
          "font": {
           "color": "black",
           "size": 10
          },
          "showarrow": false,
          "text": "1",
          "x": 1,
          "y": -4.5
         },
         {
          "font": {
           "color": "black",
           "size": 10
          },
          "showarrow": false,
          "text": "1",
          "x": 1.5,
          "y": -4
         },
         {
          "font": {
           "color": "black",
           "size": 10
          },
          "showarrow": false,
          "text": "1",
          "x": 2,
          "y": -4.5
         },
         {
          "font": {
           "color": "black",
           "size": 10
          },
          "showarrow": false,
          "text": "1",
          "x": 2.5,
          "y": -4
         },
         {
          "font": {
           "color": "black",
           "size": 10
          },
          "showarrow": false,
          "text": "1",
          "x": 3,
          "y": -4.5
         },
         {
          "font": {
           "color": "black",
           "size": 10
          },
          "showarrow": false,
          "text": "1",
          "x": 3.5,
          "y": -4
         },
         {
          "font": {
           "color": "black",
           "size": 10
          },
          "showarrow": false,
          "text": "1",
          "x": 4,
          "y": -4.5
         },
         {
          "font": {
           "color": "black",
           "size": 10
          },
          "showarrow": false,
          "text": "5",
          "x": 4.5,
          "y": -4
         },
         {
          "font": {
           "color": "black",
           "size": 10
          },
          "showarrow": false,
          "text": "1",
          "x": 5,
          "y": -4.5
         },
         {
          "font": {
           "color": "black",
           "size": 10
          },
          "showarrow": false,
          "text": "1",
          "x": 5.5,
          "y": -4
         },
         {
          "font": {
           "color": "black",
           "size": 10
          },
          "showarrow": false,
          "text": "1",
          "x": 6,
          "y": -4.5
         },
         {
          "font": {
           "color": "black",
           "size": 10
          },
          "showarrow": false,
          "text": "5",
          "x": 6.5,
          "y": -4
         },
         {
          "font": {
           "color": "black",
           "size": 10
          },
          "showarrow": false,
          "text": "1",
          "x": 7,
          "y": -4.5
         },
         {
          "font": {
           "color": "black",
           "size": 10
          },
          "showarrow": false,
          "text": "1",
          "x": 0.5,
          "y": -5
         },
         {
          "font": {
           "color": "black",
           "size": 10
          },
          "showarrow": false,
          "text": "1",
          "x": 1.5,
          "y": -5
         },
         {
          "font": {
           "color": "black",
           "size": 10
          },
          "showarrow": false,
          "text": "1",
          "x": 2.5,
          "y": -5
         },
         {
          "font": {
           "color": "black",
           "size": 10
          },
          "showarrow": false,
          "text": "1",
          "x": 3.5,
          "y": -5
         },
         {
          "font": {
           "color": "black",
           "size": 10
          },
          "showarrow": false,
          "text": "2",
          "x": 4.5,
          "y": -5
         },
         {
          "font": {
           "color": "black",
           "size": 10
          },
          "showarrow": false,
          "text": "1",
          "x": 5.5,
          "y": -5
         },
         {
          "font": {
           "color": "black",
           "size": 10
          },
          "showarrow": false,
          "text": "2",
          "x": 6.5,
          "y": -5
         }
        ],
        "hovermode": "closest",
        "margin": {
         "b": 20,
         "l": 5,
         "r": 5,
         "t": 40
        },
        "showlegend": false,
        "template": {
         "data": {
          "bar": [
           {
            "error_x": {
             "color": "#2a3f5f"
            },
            "error_y": {
             "color": "#2a3f5f"
            },
            "marker": {
             "line": {
              "color": "#E5ECF6",
              "width": 0.5
             },
             "pattern": {
              "fillmode": "overlay",
              "size": 10,
              "solidity": 0.2
             }
            },
            "type": "bar"
           }
          ],
          "barpolar": [
           {
            "marker": {
             "line": {
              "color": "#E5ECF6",
              "width": 0.5
             },
             "pattern": {
              "fillmode": "overlay",
              "size": 10,
              "solidity": 0.2
             }
            },
            "type": "barpolar"
           }
          ],
          "carpet": [
           {
            "aaxis": {
             "endlinecolor": "#2a3f5f",
             "gridcolor": "white",
             "linecolor": "white",
             "minorgridcolor": "white",
             "startlinecolor": "#2a3f5f"
            },
            "baxis": {
             "endlinecolor": "#2a3f5f",
             "gridcolor": "white",
             "linecolor": "white",
             "minorgridcolor": "white",
             "startlinecolor": "#2a3f5f"
            },
            "type": "carpet"
           }
          ],
          "choropleth": [
           {
            "colorbar": {
             "outlinewidth": 0,
             "ticks": ""
            },
            "type": "choropleth"
           }
          ],
          "contour": [
           {
            "colorbar": {
             "outlinewidth": 0,
             "ticks": ""
            },
            "colorscale": [
             [
              0,
              "#0d0887"
             ],
             [
              0.1111111111111111,
              "#46039f"
             ],
             [
              0.2222222222222222,
              "#7201a8"
             ],
             [
              0.3333333333333333,
              "#9c179e"
             ],
             [
              0.4444444444444444,
              "#bd3786"
             ],
             [
              0.5555555555555556,
              "#d8576b"
             ],
             [
              0.6666666666666666,
              "#ed7953"
             ],
             [
              0.7777777777777778,
              "#fb9f3a"
             ],
             [
              0.8888888888888888,
              "#fdca26"
             ],
             [
              1,
              "#f0f921"
             ]
            ],
            "type": "contour"
           }
          ],
          "contourcarpet": [
           {
            "colorbar": {
             "outlinewidth": 0,
             "ticks": ""
            },
            "type": "contourcarpet"
           }
          ],
          "heatmap": [
           {
            "colorbar": {
             "outlinewidth": 0,
             "ticks": ""
            },
            "colorscale": [
             [
              0,
              "#0d0887"
             ],
             [
              0.1111111111111111,
              "#46039f"
             ],
             [
              0.2222222222222222,
              "#7201a8"
             ],
             [
              0.3333333333333333,
              "#9c179e"
             ],
             [
              0.4444444444444444,
              "#bd3786"
             ],
             [
              0.5555555555555556,
              "#d8576b"
             ],
             [
              0.6666666666666666,
              "#ed7953"
             ],
             [
              0.7777777777777778,
              "#fb9f3a"
             ],
             [
              0.8888888888888888,
              "#fdca26"
             ],
             [
              1,
              "#f0f921"
             ]
            ],
            "type": "heatmap"
           }
          ],
          "heatmapgl": [
           {
            "colorbar": {
             "outlinewidth": 0,
             "ticks": ""
            },
            "colorscale": [
             [
              0,
              "#0d0887"
             ],
             [
              0.1111111111111111,
              "#46039f"
             ],
             [
              0.2222222222222222,
              "#7201a8"
             ],
             [
              0.3333333333333333,
              "#9c179e"
             ],
             [
              0.4444444444444444,
              "#bd3786"
             ],
             [
              0.5555555555555556,
              "#d8576b"
             ],
             [
              0.6666666666666666,
              "#ed7953"
             ],
             [
              0.7777777777777778,
              "#fb9f3a"
             ],
             [
              0.8888888888888888,
              "#fdca26"
             ],
             [
              1,
              "#f0f921"
             ]
            ],
            "type": "heatmapgl"
           }
          ],
          "histogram": [
           {
            "marker": {
             "pattern": {
              "fillmode": "overlay",
              "size": 10,
              "solidity": 0.2
             }
            },
            "type": "histogram"
           }
          ],
          "histogram2d": [
           {
            "colorbar": {
             "outlinewidth": 0,
             "ticks": ""
            },
            "colorscale": [
             [
              0,
              "#0d0887"
             ],
             [
              0.1111111111111111,
              "#46039f"
             ],
             [
              0.2222222222222222,
              "#7201a8"
             ],
             [
              0.3333333333333333,
              "#9c179e"
             ],
             [
              0.4444444444444444,
              "#bd3786"
             ],
             [
              0.5555555555555556,
              "#d8576b"
             ],
             [
              0.6666666666666666,
              "#ed7953"
             ],
             [
              0.7777777777777778,
              "#fb9f3a"
             ],
             [
              0.8888888888888888,
              "#fdca26"
             ],
             [
              1,
              "#f0f921"
             ]
            ],
            "type": "histogram2d"
           }
          ],
          "histogram2dcontour": [
           {
            "colorbar": {
             "outlinewidth": 0,
             "ticks": ""
            },
            "colorscale": [
             [
              0,
              "#0d0887"
             ],
             [
              0.1111111111111111,
              "#46039f"
             ],
             [
              0.2222222222222222,
              "#7201a8"
             ],
             [
              0.3333333333333333,
              "#9c179e"
             ],
             [
              0.4444444444444444,
              "#bd3786"
             ],
             [
              0.5555555555555556,
              "#d8576b"
             ],
             [
              0.6666666666666666,
              "#ed7953"
             ],
             [
              0.7777777777777778,
              "#fb9f3a"
             ],
             [
              0.8888888888888888,
              "#fdca26"
             ],
             [
              1,
              "#f0f921"
             ]
            ],
            "type": "histogram2dcontour"
           }
          ],
          "mesh3d": [
           {
            "colorbar": {
             "outlinewidth": 0,
             "ticks": ""
            },
            "type": "mesh3d"
           }
          ],
          "parcoords": [
           {
            "line": {
             "colorbar": {
              "outlinewidth": 0,
              "ticks": ""
             }
            },
            "type": "parcoords"
           }
          ],
          "pie": [
           {
            "automargin": true,
            "type": "pie"
           }
          ],
          "scatter": [
           {
            "fillpattern": {
             "fillmode": "overlay",
             "size": 10,
             "solidity": 0.2
            },
            "type": "scatter"
           }
          ],
          "scatter3d": [
           {
            "line": {
             "colorbar": {
              "outlinewidth": 0,
              "ticks": ""
             }
            },
            "marker": {
             "colorbar": {
              "outlinewidth": 0,
              "ticks": ""
             }
            },
            "type": "scatter3d"
           }
          ],
          "scattercarpet": [
           {
            "marker": {
             "colorbar": {
              "outlinewidth": 0,
              "ticks": ""
             }
            },
            "type": "scattercarpet"
           }
          ],
          "scattergeo": [
           {
            "marker": {
             "colorbar": {
              "outlinewidth": 0,
              "ticks": ""
             }
            },
            "type": "scattergeo"
           }
          ],
          "scattergl": [
           {
            "marker": {
             "colorbar": {
              "outlinewidth": 0,
              "ticks": ""
             }
            },
            "type": "scattergl"
           }
          ],
          "scattermapbox": [
           {
            "marker": {
             "colorbar": {
              "outlinewidth": 0,
              "ticks": ""
             }
            },
            "type": "scattermapbox"
           }
          ],
          "scatterpolar": [
           {
            "marker": {
             "colorbar": {
              "outlinewidth": 0,
              "ticks": ""
             }
            },
            "type": "scatterpolar"
           }
          ],
          "scatterpolargl": [
           {
            "marker": {
             "colorbar": {
              "outlinewidth": 0,
              "ticks": ""
             }
            },
            "type": "scatterpolargl"
           }
          ],
          "scatterternary": [
           {
            "marker": {
             "colorbar": {
              "outlinewidth": 0,
              "ticks": ""
             }
            },
            "type": "scatterternary"
           }
          ],
          "surface": [
           {
            "colorbar": {
             "outlinewidth": 0,
             "ticks": ""
            },
            "colorscale": [
             [
              0,
              "#0d0887"
             ],
             [
              0.1111111111111111,
              "#46039f"
             ],
             [
              0.2222222222222222,
              "#7201a8"
             ],
             [
              0.3333333333333333,
              "#9c179e"
             ],
             [
              0.4444444444444444,
              "#bd3786"
             ],
             [
              0.5555555555555556,
              "#d8576b"
             ],
             [
              0.6666666666666666,
              "#ed7953"
             ],
             [
              0.7777777777777778,
              "#fb9f3a"
             ],
             [
              0.8888888888888888,
              "#fdca26"
             ],
             [
              1,
              "#f0f921"
             ]
            ],
            "type": "surface"
           }
          ],
          "table": [
           {
            "cells": {
             "fill": {
              "color": "#EBF0F8"
             },
             "line": {
              "color": "white"
             }
            },
            "header": {
             "fill": {
              "color": "#C8D4E3"
             },
             "line": {
              "color": "white"
             }
            },
            "type": "table"
           }
          ]
         },
         "layout": {
          "annotationdefaults": {
           "arrowcolor": "#2a3f5f",
           "arrowhead": 0,
           "arrowwidth": 1
          },
          "autotypenumbers": "strict",
          "coloraxis": {
           "colorbar": {
            "outlinewidth": 0,
            "ticks": ""
           }
          },
          "colorscale": {
           "diverging": [
            [
             0,
             "#8e0152"
            ],
            [
             0.1,
             "#c51b7d"
            ],
            [
             0.2,
             "#de77ae"
            ],
            [
             0.3,
             "#f1b6da"
            ],
            [
             0.4,
             "#fde0ef"
            ],
            [
             0.5,
             "#f7f7f7"
            ],
            [
             0.6,
             "#e6f5d0"
            ],
            [
             0.7,
             "#b8e186"
            ],
            [
             0.8,
             "#7fbc41"
            ],
            [
             0.9,
             "#4d9221"
            ],
            [
             1,
             "#276419"
            ]
           ],
           "sequential": [
            [
             0,
             "#0d0887"
            ],
            [
             0.1111111111111111,
             "#46039f"
            ],
            [
             0.2222222222222222,
             "#7201a8"
            ],
            [
             0.3333333333333333,
             "#9c179e"
            ],
            [
             0.4444444444444444,
             "#bd3786"
            ],
            [
             0.5555555555555556,
             "#d8576b"
            ],
            [
             0.6666666666666666,
             "#ed7953"
            ],
            [
             0.7777777777777778,
             "#fb9f3a"
            ],
            [
             0.8888888888888888,
             "#fdca26"
            ],
            [
             1,
             "#f0f921"
            ]
           ],
           "sequentialminus": [
            [
             0,
             "#0d0887"
            ],
            [
             0.1111111111111111,
             "#46039f"
            ],
            [
             0.2222222222222222,
             "#7201a8"
            ],
            [
             0.3333333333333333,
             "#9c179e"
            ],
            [
             0.4444444444444444,
             "#bd3786"
            ],
            [
             0.5555555555555556,
             "#d8576b"
            ],
            [
             0.6666666666666666,
             "#ed7953"
            ],
            [
             0.7777777777777778,
             "#fb9f3a"
            ],
            [
             0.8888888888888888,
             "#fdca26"
            ],
            [
             1,
             "#f0f921"
            ]
           ]
          },
          "colorway": [
           "#636efa",
           "#EF553B",
           "#00cc96",
           "#ab63fa",
           "#FFA15A",
           "#19d3f3",
           "#FF6692",
           "#B6E880",
           "#FF97FF",
           "#FECB52"
          ],
          "font": {
           "color": "#2a3f5f"
          },
          "geo": {
           "bgcolor": "white",
           "lakecolor": "white",
           "landcolor": "#E5ECF6",
           "showlakes": true,
           "showland": true,
           "subunitcolor": "white"
          },
          "hoverlabel": {
           "align": "left"
          },
          "hovermode": "closest",
          "mapbox": {
           "style": "light"
          },
          "paper_bgcolor": "white",
          "plot_bgcolor": "#E5ECF6",
          "polar": {
           "angularaxis": {
            "gridcolor": "white",
            "linecolor": "white",
            "ticks": ""
           },
           "bgcolor": "#E5ECF6",
           "radialaxis": {
            "gridcolor": "white",
            "linecolor": "white",
            "ticks": ""
           }
          },
          "scene": {
           "xaxis": {
            "backgroundcolor": "#E5ECF6",
            "gridcolor": "white",
            "gridwidth": 2,
            "linecolor": "white",
            "showbackground": true,
            "ticks": "",
            "zerolinecolor": "white"
           },
           "yaxis": {
            "backgroundcolor": "#E5ECF6",
            "gridcolor": "white",
            "gridwidth": 2,
            "linecolor": "white",
            "showbackground": true,
            "ticks": "",
            "zerolinecolor": "white"
           },
           "zaxis": {
            "backgroundcolor": "#E5ECF6",
            "gridcolor": "white",
            "gridwidth": 2,
            "linecolor": "white",
            "showbackground": true,
            "ticks": "",
            "zerolinecolor": "white"
           }
          },
          "shapedefaults": {
           "line": {
            "color": "#2a3f5f"
           }
          },
          "ternary": {
           "aaxis": {
            "gridcolor": "white",
            "linecolor": "white",
            "ticks": ""
           },
           "baxis": {
            "gridcolor": "white",
            "linecolor": "white",
            "ticks": ""
           },
           "bgcolor": "#E5ECF6",
           "caxis": {
            "gridcolor": "white",
            "linecolor": "white",
            "ticks": ""
           }
          },
          "title": {
           "x": 0.05
          },
          "xaxis": {
           "automargin": true,
           "gridcolor": "white",
           "linecolor": "white",
           "ticks": "",
           "title": {
            "standoff": 15
           },
           "zerolinecolor": "white",
           "zerolinewidth": 2
          },
          "yaxis": {
           "automargin": true,
           "gridcolor": "white",
           "linecolor": "white",
           "ticks": "",
           "title": {
            "standoff": 15
           },
           "zerolinecolor": "white",
           "zerolinewidth": 2
          }
         }
        },
        "title": {
         "font": {
          "size": 16
         },
         "text": "Grafo de la configuración del tablero en forma de cuadrícula con pesos"
        },
        "xaxis": {
         "showgrid": false,
         "zeroline": false
        },
        "yaxis": {
         "showgrid": false,
         "zeroline": false
        }
       }
      }
     },
     "metadata": {},
     "output_type": "display_data"
    }
   ],
   "source": [
    "# Inicializar el grafo\n",
    "G = initialize_board(board_config)\n",
    "\n",
    "# Definir las posiciones de los nodos como una cuadrícula\n",
    "pos = {node: (node[1],-node[0]) for node in G.nodes()}  # El eje y se invierte para que la visualización sea de arriba a abajo\n",
    "\n",
    "# Crear trazas para las aristas\n",
    "edge_x = []\n",
    "edge_y = []\n",
    "edge_weights = []\n",
    "for edge in G.edges(data=True):\n",
    "    x0, y0 = pos[edge[0]]\n",
    "    x1, y1 = pos[edge[1]]\n",
    "    edge_x.append(x0)\n",
    "    edge_x.append(x1)\n",
    "    edge_x.append(None)  # Para separar las líneas de las aristas\n",
    "    edge_y.append(y0)\n",
    "    edge_y.append(y1)\n",
    "    edge_y.append(None)\n",
    "    \n",
    "    # Guardar la posición media para los pesos\n",
    "    edge_weights.append(((x0 + x1) / 2, (y0 + y1) / 2, edge[2]['weight']))\n",
    "\n",
    "edge_trace = go.Scatter(\n",
    "    x=edge_x, y=edge_y,\n",
    "    line=dict(width=1, color='#888'),\n",
    "    hoverinfo='none',\n",
    "    mode='lines'\n",
    ")\n",
    "\n",
    "# Crear trazas para los nodos\n",
    "node_x = []\n",
    "node_y = []\n",
    "for node in G.nodes():\n",
    "    x, y = pos[node]\n",
    "    node_x.append(x)\n",
    "    node_y.append(y)\n",
    "\n",
    "node_trace = go.Scatter(\n",
    "    x=node_x, y=node_y,\n",
    "    mode='markers',\n",
    "    hoverinfo='text',\n",
    "    marker=dict(\n",
    "        showscale=True,\n",
    "        colorscale='YlGnBu',\n",
    "        size=10,\n",
    "        colorbar=dict(\n",
    "            thickness=15,\n",
    "            title='Conexiones',\n",
    "            xanchor='left',\n",
    "            titleside='right'\n",
    "        )\n",
    "    )\n",
    ")\n",
    "\n",
    "# Agregar etiquetas a los nodos\n",
    "node_adjacencies = []\n",
    "node_text = []\n",
    "for node, adjacencies in enumerate(G.adjacency()):\n",
    "    node_adjacencies.append(len(adjacencies[1]))\n",
    "    node_text.append(f'Nodo {node}: {len(adjacencies[1])} conexiones')\n",
    "\n",
    "node_trace.marker.color = node_adjacencies\n",
    "node_trace.text = node_text\n",
    "\n",
    "# Crear anotaciones para los pesos de las aristas\n",
    "weight_annotations = []\n",
    "for (x, y, weight) in edge_weights:\n",
    "    weight_annotations.append(\n",
    "        dict(\n",
    "            x=x,\n",
    "            y=y,\n",
    "            text=str(weight),\n",
    "            showarrow=False,\n",
    "            font=dict(\n",
    "                size=10,\n",
    "                color='black'\n",
    "            )\n",
    "        )\n",
    "    )\n",
    "\n",
    "# Crear la figura\n",
    "fig = go.Figure(data=[edge_trace, node_trace],\n",
    "                layout=go.Layout(\n",
    "                    title='Grafo de la configuración del tablero en forma de cuadrícula con pesos',\n",
    "                    titlefont_size=16,\n",
    "                    showlegend=False,\n",
    "                    hovermode='closest',\n",
    "                    margin=dict(b=20, l=5, r=5, t=40),\n",
    "                    annotations=weight_annotations,\n",
    "                    xaxis=dict(showgrid=False, zeroline=False),\n",
    "                    yaxis=dict(showgrid=False, zeroline=False)\n",
    "                ))\n",
    "\n",
    "fig.show()\n"
   ]
  },
  {
   "cell_type": "code",
   "execution_count": 7,
   "metadata": {},
   "outputs": [],
   "source": [
    "class BoardModel(Model):\n",
    "\n",
    "    def __init__(self, board_config):\n",
    "\n",
    "        # Definir el tamaño del tablero\n",
    "        self.height = len(board_config['board'])\n",
    "        self.width = len(board_config['board'][0])\n",
    "\n",
    "        # Crear el grid\n",
    "        self.grid = SingleGrid(self.width, self.height, torus=False)\n",
    "\n",
    "        # Crear grafo para el tablero\n",
    "        self.graph = nx.Graph()\n",
    "        "
   ]
  }
 ],
 "metadata": {
  "kernelspec": {
   "display_name": ".venv",
   "language": "python",
   "name": "python3"
  },
  "language_info": {
   "codemirror_mode": {
    "name": "ipython",
    "version": 3
   },
   "file_extension": ".py",
   "mimetype": "text/x-python",
   "name": "python",
   "nbconvert_exporter": "python",
   "pygments_lexer": "ipython3",
   "version": "3.13.0"
  }
 },
 "nbformat": 4,
 "nbformat_minor": 2
}
